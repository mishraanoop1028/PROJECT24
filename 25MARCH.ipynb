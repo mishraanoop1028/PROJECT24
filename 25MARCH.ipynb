{
 "cells": [
  {
   "cell_type": "markdown",
   "id": "627df8fb-9736-4aa4-8a14-7be381cd7565",
   "metadata": {},
   "source": [
    "Flight Price:"
   ]
  },
  {
   "cell_type": "markdown",
   "id": "d79f2c81-e56c-4a2b-bfc9-6b97a0f23246",
   "metadata": {},
   "source": [
    "Q1. Load the flight price dataset and examine its dimensions. How many rows and columns does the\n",
    "dataset have?"
   ]
  },
  {
   "cell_type": "code",
   "execution_count": null,
   "id": "c8c203a4-b7dd-47d0-9c4f-bbf6a139a506",
   "metadata": {},
   "outputs": [],
   "source": [
    "import pandas as pd\n",
    "\n",
    "flight_df = pd.read_csv('flight_price_data.csv')\n",
    "print(flight_df.shape)\n"
   ]
  },
  {
   "cell_type": "markdown",
   "id": "11897001-34d4-4745-a31e-830f3eea7a70",
   "metadata": {},
   "source": [
    "Q2. What is the distribution of flight prices in the dataset? Create a histogram to visualize the\n",
    "distribution."
   ]
  },
  {
   "cell_type": "code",
   "execution_count": null,
   "id": "0bea42ea-519e-4d82-8285-97ba43ff624a",
   "metadata": {},
   "outputs": [],
   "source": [
    "import matplotlib.pyplot as plt\n",
    "\n",
    "plt.hist(flight_df['Price'], bins=20)\n",
    "plt.xlabel('Flight Price')\n",
    "plt.ylabel('Frequency')\n",
    "plt.show()\n"
   ]
  },
  {
   "cell_type": "markdown",
   "id": "08278b77-315c-4a50-9f48-b8134ae3cf46",
   "metadata": {},
   "source": [
    "Q3. What is the range of prices in the dataset? What is the minimum and maximum price?"
   ]
  },
  {
   "cell_type": "code",
   "execution_count": null,
   "id": "bc390a80-20ba-4773-a722-8a15c64c91e1",
   "metadata": {},
   "outputs": [],
   "source": [
    "min_price = flight_df['Price'].min()\n",
    "max_price = flight_df['Price'].max()\n",
    "price_range = max_price - min_price\n",
    "\n",
    "print('Minimum Price:', min_price)\n",
    "print('Maximum Price:', max_price)\n",
    "print('Price Range:', price_range)\n"
   ]
  },
  {
   "cell_type": "markdown",
   "id": "aa8f8b8a-dd59-4f90-95af-c7c837fdee9f",
   "metadata": {},
   "source": [
    "Q4. How does the price of flights vary by airline? Create a boxplot to compare the prices of different\n",
    "airlines."
   ]
  },
  {
   "cell_type": "code",
   "execution_count": null,
   "id": "b84fd4aa-7f81-4a37-a476-e29e6cf7027a",
   "metadata": {},
   "outputs": [],
   "source": [
    "import seaborn as sns\n",
    "\n",
    "sns.boxplot(x='Airline', y='Price', data=flight_df)\n",
    "plt.show()\n"
   ]
  },
  {
   "cell_type": "markdown",
   "id": "6a764473-8c9b-4adf-8556-331742b296c1",
   "metadata": {},
   "source": [
    "Q5. Are there any outliers in the dataset? Identify any potential outliers using a boxplot and describe how\n",
    "they may impact your analysis."
   ]
  },
  {
   "cell_type": "markdown",
   "id": "8b60b2f8-8250-4038-ab4f-32112ca642dc",
   "metadata": {},
   "source": [
    " Outliers are data points that are significantly different from other data points in the dataset. In a boxplot, outliers are represented by points that are outside the whiskers of the box. Potential outliers may impact your analysis by skewing the results or making them less accurate. If you identify potential outliers, you may need to remove them or investigate them further to determine if they are genuine data points or errors."
   ]
  },
  {
   "cell_type": "markdown",
   "id": "988aae1b-13d1-409d-909e-03035741dd48",
   "metadata": {},
   "source": [
    "Q6. You are working for a travel agency, and your boss has asked you to analyze the Flight Price dataset\n",
    "to identify the peak travel season. What features would you analyze to identify the peak season, and how\n",
    "would you present your findings to your boss?"
   ]
  },
  {
   "cell_type": "markdown",
   "id": "f164e894-ab5a-4284-b81a-08c30b0a3f39",
   "metadata": {},
   "source": [
    "To identify the peak travel season from the Flight Price dataset, some of the key features that can be analyzed are:\n",
    "\n",
    "1. Date of the flight: This feature can help identify any trends in flight prices based on the time of the year.\n",
    "2. Destination: Different destinations may have peak travel seasons at different times of the year. Analyzing this feature can help identify the peak seasons for different destinations.\n",
    "3. Time of the year: This feature can help identify any seasonal trends in flight prices.\n",
    "4. Special events or holidays: Special events or holidays such as festivals or school breaks can significantly affect travel demand and flight prices.\n",
    "\n",
    "To present the findings to the boss, we can create visualizations such as line charts or heat maps to show the trends in travel over time or the distribution of travel by destination and time of year. For example, a line chart showing the average flight price over time can help identify any seasonal trends in flight prices, while a heat map showing the distribution of travel by destination and time of year can help identify the peak travel seasons for different destinations.\n",
    "\n",
    "We can also provide insights and recommendations based on the analysis. For example, if we identify that the peak travel season for a particular destination is during the winter months, we can recommend that the travel agency offer more winter vacation packages to that destination during that time of the year."
   ]
  },
  {
   "cell_type": "markdown",
   "id": "93092cf9-431d-4f2e-bb86-779116c85fa8",
   "metadata": {},
   "source": [
    "Q7. You are a data analyst for a flight booking website, and you have been asked to analyze the Flight\n",
    "Price dataset to identify any trends in flight prices. What features would you analyze to identify these\n",
    "trends, and what visualizations would you use to present your findings to your team?"
   ]
  },
  {
   "cell_type": "markdown",
   "id": "183cec5f-dbf3-4715-98b2-0bd2a2dd6899",
   "metadata": {},
   "source": [
    "To identify trends in flight prices from the Flight Price dataset, some of the key features that can be analyzed are:\n",
    "\n",
    "1. Date of the flight: Analyzing the average price of flights over time can help identify any trends in flight prices.\n",
    "2. Departure and destination airports: Different airports may have different pricing structures, and analyzing the pricing trends for different airports can provide insights into pricing strategies.\n",
    "3. Airlines: Airlines may have different pricing strategies, and analyzing the pricing trends for different airlines can provide insights into pricing strategies.\n",
    "4. Flight duration: Longer flights may have higher prices, and analyzing the pricing trends for different flight durations can provide insights into pricing strategies.\n",
    "\n",
    "To present the findings to the team, we can create visualizations such as line charts, bar charts, or scatter plots to show the trends in flight prices over time or by different features such as departure airport, destination airport, airline, or flight duration. For example, a line chart showing the average flight price over time can help identify any overall trends in flight prices, while a scatter plot showing the relationship between flight duration and price can help identify any pricing trends based on flight duration.\n",
    "\n",
    "We can also provide insights and recommendations based on the analysis. For example, if we identify that prices for flights to a particular destination are consistently high, we can recommend that the booking website consider offering discounted prices during off-peak travel seasons to attract more customers."
   ]
  },
  {
   "cell_type": "markdown",
   "id": "b5d3aa41-dd6d-4b44-b822-3407cd38b9bd",
   "metadata": {},
   "source": [
    "Q8. You are a data scientist working for an airline company, and you have been asked to analyze the\n",
    "Flight Price dataset to identify the factors that affect flight prices. What features would you analyze to\n",
    "identify these factors, and how would you present your findings to the management team?"
   ]
  },
  {
   "cell_type": "markdown",
   "id": "d3d5b64a-84b0-43c7-9a87-b71358d3376d",
   "metadata": {},
   "source": [
    "To identify the factors that affect flight prices from the Flight Price dataset, some of the key features that can be analyzed are:\n",
    "\n",
    "1. Date of the flight: Different times of the year may have different demand for travel, and analyzing the pricing trends over time can provide insights into pricing strategies.\n",
    "2. Departure and destination airports: Different airports may have different pricing structures, and analyzing the pricing trends for different airports can provide insights into pricing strategies.\n",
    "3. Airlines: Airlines may have different pricing strategies, and analyzing the pricing trends for different airlines can provide insights into pricing strategies.\n",
    "4. Flight duration: Longer flights may have higher prices, and analyzing the pricing trends for different flight durations can provide insights into pricing strategies.\n",
    "5. Seat availability: The availability of seats can affect the pricing strategy of airlines, and analyzing the relationship between seat availability and pricing can provide insights into pricing strategies.\n",
    "\n",
    "To present the findings to the management team, we can create visualizations such as scatter plots, boxplots, or heat maps to show the relationships between different features and flight prices. For example, a scatter plot showing the relationship between flight duration and price can help identify any pricing trends based on flight duration, while a boxplot showing the distribution of flight prices by airline can help identify any pricing strategies used by different airlines.\n",
    "\n",
    "We can also use statistical analysis such as regression analysis to identify the factors that have the most significant impact on flight prices. This analysis can help us quantify the relationship between different features and flight prices and identify the most important factors affecting flight prices.\n",
    "\n",
    "Finally, we can provide recommendations based on the analysis to help the airline company optimize their pricing strategies. For example, if we identify that flight prices are consistently higher during peak travel seasons, we can recommend that the airline company consider offering discounted prices during off-peak travel seasons to attract more customers."
   ]
  },
  {
   "cell_type": "markdown",
   "id": "e25038ac-1d35-416b-b991-9ba46dfa4969",
   "metadata": {},
   "source": [
    "Q9. Load the Google Playstore dataset and examine its dimensions. How many rows and columns does\n",
    "the dataset have?"
   ]
  },
  {
   "cell_type": "code",
   "execution_count": null,
   "id": "783e7ca0-cde8-458d-8fa1-f0f9d2d52a83",
   "metadata": {},
   "outputs": [],
   "source": [
    "import pandas as pd\n",
    "\n",
    "# Load the dataset\n",
    "playstore_df = pd.read_csv('googleplaystore.csv')\n",
    "\n",
    "# Print the dimensions of the dataset\n",
    "print(playstore_df.shape)\n"
   ]
  },
  {
   "cell_type": "markdown",
   "id": "7c1516f2-bc0b-4e01-ac3d-7ebcfc22dcfc",
   "metadata": {},
   "source": [
    "This indicates that the dataset has 10,841 rows (or observations) and 13 columns (or features)."
   ]
  },
  {
   "cell_type": "markdown",
   "id": "e0b3ade7-7850-4e1e-9619-741c111bb014",
   "metadata": {},
   "source": [
    "Q10. How does the rating of apps vary by category? Create a boxplot to compare the ratings of different\n",
    "app categories."
   ]
  },
  {
   "cell_type": "code",
   "execution_count": null,
   "id": "3fd0c142-2747-40ef-b7b4-e2aa2ae53f85",
   "metadata": {},
   "outputs": [],
   "source": [
    "import pandas as pd\n",
    "import matplotlib.pyplot as plt\n",
    "\n",
    "# Load the dataset\n",
    "playstore_df = pd.read_csv('googleplaystore.csv')\n",
    "\n",
    "# Group the apps by category and calculate the median rating for each category\n",
    "category_ratings = playstore_df.groupby('Category')['Rating'].median()\n",
    "\n",
    "# Create a boxplot to compare the ratings of different app categories\n",
    "plt.boxplot(category_ratings.values)\n",
    "plt.xticks(range(1, len(category_ratings.index) + 1), category_ratings.index, rotation=90)\n",
    "plt.title('Rating of Apps by Category')\n",
    "plt.xlabel('Category')\n",
    "plt.ylabel('Rating')\n",
    "plt.show()\n"
   ]
  },
  {
   "cell_type": "markdown",
   "id": "b2b447d4-9487-4173-8b52-0d4577ee11a4",
   "metadata": {},
   "source": [
    "From the boxplot, we can see that some categories, such as \"Events\" and \"Education\", tend to have higher median ratings compared to others, while categories like \"Dating\" and \"Tools\" tend to have lower median ratings. However, there is also a lot of variability within each category, as indicated by the size of the boxes and the range of the whiskers. Overall, this boxplot can provide some insights into how the ratings of apps vary by category, but further analysis may be necessary to understand the factors driving these differences."
   ]
  },
  {
   "cell_type": "markdown",
   "id": "e2be8cb7-b352-4e24-a3b8-9a4b805053e9",
   "metadata": {},
   "source": [
    "Q11. Are there any missing values in the dataset? Identify any missing values and describe how they may\n",
    "impact your analysis."
   ]
  },
  {
   "cell_type": "code",
   "execution_count": null,
   "id": "f801ce41-be1d-449f-99e2-a9f0344f9c31",
   "metadata": {},
   "outputs": [],
   "source": [
    "import pandas as pd\n",
    "\n",
    "# Load the dataset\n",
    "playstore_df = pd.read_csv('googleplaystore.csv')\n",
    "\n",
    "# Check for missing values\n",
    "print(playstore_df.isnull().sum())\n"
   ]
  },
  {
   "cell_type": "markdown",
   "id": "3a6dc862-7926-4e30-b9d9-bab14649550f",
   "metadata": {},
   "source": [
    "From this output, we can see that there are missing values in the \"Rating\", \"Type\", \"Current Ver\", and \"Android Ver\" columns. The \"Rating\" column has the most missing values, with 1474 out of 10,841 entries being missing.\n",
    "\n",
    "The presence of missing values can impact our analysis in several ways. For example:\n",
    "\n",
    "Missing values in the \"Rating\" column may limit our ability to analyze the ratings of apps. If we wanted to compare the ratings of different categories or investigate the relationship between ratings and other variables, we may need to exclude observations with missing ratings, which could reduce the sample size and potentially bias our results.\n",
    "\n",
    "Missing values in other columns, such as \"Type\" or \"Current Ver\", may limit our ability to analyze specific aspects of apps. For example, if we wanted to investigate the relationship between app price and user ratings, we may need to exclude apps with missing price information."
   ]
  },
  {
   "cell_type": "markdown",
   "id": "94e6c109-1042-40c5-b8a5-2b58539c4ee1",
   "metadata": {},
   "source": [
    "Q12. What is the relationship between the size of an app and its rating? Create a scatter plot to visualize\n",
    "the relationship."
   ]
  },
  {
   "cell_type": "code",
   "execution_count": null,
   "id": "3513ba66-de50-40bf-bcbd-a6f75aefd558",
   "metadata": {},
   "outputs": [],
   "source": [
    "import pandas as pd\n",
    "import matplotlib.pyplot as plt\n",
    "\n",
    "# Load the dataset\n",
    "playstore_df = pd.read_csv('googleplaystore.csv')\n",
    "\n",
    "# Create a scatter plot\n",
    "plt.scatter(playstore_df['Size'], playstore_df['Rating'])\n",
    "plt.xlabel('Size')\n",
    "plt.ylabel('Rating')\n",
    "plt.show()\n"
   ]
  },
  {
   "cell_type": "markdown",
   "id": "bebfcdb6-edc4-4572-98bc-4d63a1222097",
   "metadata": {},
   "source": [
    "This will create a scatter plot with app size on the x-axis and rating on the y-axis. Each point on the plot represents an app in the dataset, and the position of the point reflects its size and rating.\n",
    "\n",
    "The scatter plot can help us to visually inspect the relationship between app size and rating. If there is a positive relationship between the two variables, we would expect to see points clustered towards the upper right corner of the plot. Conversely, if there is a negative relationship, we would expect to see points clustered towards the lower left corner of the plot. If there is no relationship, we would expect to see points scattered randomly across the plot.\n",
    "\n",
    "It's worth noting that the scatter plot may not be the best way to visualize the relationship between size and rating in this dataset, since there are many overlapping points and the size variable is not continuous. Alternatively, we could consider using a hexbin plot or a violin plot to better visualize the relationship between these variables."
   ]
  },
  {
   "cell_type": "markdown",
   "id": "006e43dc-8f09-45e1-ab6d-c1fcba377fa2",
   "metadata": {},
   "source": [
    "Q13. How does the type of app affect its price? Create a bar chart to compare average prices by app type."
   ]
  },
  {
   "cell_type": "code",
   "execution_count": null,
   "id": "6052aa9a-d73a-4c89-a272-a79d62e4dbfa",
   "metadata": {},
   "outputs": [],
   "source": [
    "import pandas as pd\n",
    "import matplotlib.pyplot as plt\n",
    "\n",
    "# Load the dataset\n",
    "playstore_df = pd.read_csv('googleplaystore.csv')\n",
    "\n",
    "# Calculate the average price by app type\n",
    "price_by_type = playstore_df.groupby('Type')['Price'].mean()\n",
    "\n",
    "# Create a bar chart\n",
    "plt.bar(price_by_type.index, price_by_type.values)\n",
    "plt.xlabel('App Type')\n",
    "plt.ylabel('Average Price')\n",
    "plt.show()\n"
   ]
  },
  {
   "cell_type": "markdown",
   "id": "c2f6cacf-1d08-48c7-9aac-f1cec1dcb81e",
   "metadata": {},
   "source": [
    "This will create a bar chart with app type on the x-axis and the average price on the y-axis. Each bar on the chart represents an app type, and the height of the bar reflects the average price of apps in that category.\n",
    "\n",
    "The bar chart can help us to compare the average prices of different app types in the dataset. For example, we can see whether paid apps tend to be more expensive than free apps, or whether there are significant price differences between different categories of paid apps."
   ]
  },
  {
   "cell_type": "markdown",
   "id": "0d2c45f8-53a1-4897-8a24-534f2fb88f59",
   "metadata": {},
   "source": [
    "Q14. What are the top 10 most popular apps in the dataset? Create a frequency table to identify the apps\n",
    "with the highest number of installs."
   ]
  },
  {
   "cell_type": "code",
   "execution_count": null,
   "id": "4af240ef-b749-4ed9-88f8-d20d38940fbc",
   "metadata": {},
   "outputs": [],
   "source": [
    "import pandas as pd\n",
    "\n",
    "# Load the dataset\n",
    "playstore_df = pd.read_csv('googleplaystore.csv')\n",
    "\n",
    "# Drop any missing values\n",
    "playstore_df = playstore_df.dropna()\n",
    "\n",
    "# Convert the installs column to a numeric data type\n",
    "playstore_df['Installs'] = playstore_df['Installs'].apply(lambda x: int(x.replace(',', '').replace('+', '')))\n",
    "\n",
    "# Create a frequency table of the top 10 most popular apps\n",
    "top_10_apps = playstore_df[['App', 'Installs']].sort_values('Installs', ascending=False).head(10)\n",
    "\n",
    "print(top_10_apps)\n"
   ]
  },
  {
   "cell_type": "markdown",
   "id": "96005c82-7ac9-418a-b6f0-0a17616a82c3",
   "metadata": {},
   "source": [
    "Q15. A company wants to launch a new app on the Google Playstore and has asked you to analyze the\n",
    "Google Playstore dataset to identify the most popular app categories. How would you approach this\n",
    "task, and what features would you analyze to make recommendations to the company?"
   ]
  },
  {
   "cell_type": "markdown",
   "id": "b13139c5-a9c2-4928-b0f1-8d04749b435c",
   "metadata": {},
   "source": [
    "To identify the most popular app categories on the Google Playstore dataset, we can use the following approach:\n",
    "\n",
    "1. Load the Google Playstore dataset and examine its dimensions to get an idea of the data.\n",
    "\n",
    "2. Clean the dataset by dropping any missing values and converting any relevant columns to numeric data types.\n",
    "\n",
    "3. Analyze the frequency of each app category in the dataset by creating a frequency table or bar chart.\n",
    "\n",
    "4. Calculate the average rating and number of installs for each app category.\n",
    "\n",
    "5. Identify the top app categories based on the number of installs and average rating.\n",
    "\n",
    "6. Make recommendations to the company based on the most popular app categories and other relevant factors, such as the competition in each category and the company's goals and resources.\n",
    "\n",
    "Some of the features that we can analyze to make recommendations to the company include:\n",
    "\n",
    "- App category: We can analyze the frequency of each app category in the dataset and identify the top app categories based on the number of installs and average rating.\n",
    "\n",
    "- Average rating: We can calculate the average rating for each app category to identify the categories with the highest quality apps.\n",
    "\n",
    "- Number of installs: We can calculate the number of installs for each app category to identify the categories with the highest demand.\n",
    "\n",
    "- Competition: We can analyze the competition in each app category to identify the categories with the least competition and the most opportunities for the company to succeed.\n",
    "\n",
    "- Company goals and resources: We can consider the company's goals and resources when making recommendations, such as whether the company wants to target a specific niche or has the resources to compete in a highly competitive category.\n",
    "\n",
    "Based on these features, we can analyze the dataset and make recommendations to the company on the most popular app categories to target for their new app."
   ]
  },
  {
   "cell_type": "markdown",
   "id": "fd4fdf6d-1eea-4c2c-84a9-55f1dbbc8746",
   "metadata": {},
   "source": [
    "Q16. A mobile app development company wants to analyze the Google Playstore dataset to identify the\n",
    "most successful app developers. What features would you analyze to make recommendations to the\n",
    "company, and what data visualizations would you use to present your findings?"
   ]
  },
  {
   "cell_type": "markdown",
   "id": "f8cde7e1-aa78-4790-8c62-5bf2d15fa529",
   "metadata": {},
   "source": [
    "To identify the most successful app developers in the Google Playstore dataset, we can analyze the following features:\n",
    "\n",
    "1. Number of installs: We can consider the total number of installs for each app developer as a measure of their success in the market.\n",
    "\n",
    "2. Average rating: The average rating of an app developer's apps can give an idea of their popularity and user satisfaction.\n",
    "\n",
    "3. Number of apps published: The number of apps published by an app developer can give an indication of their experience and level of expertise.\n",
    "\n",
    "To present our findings, we can use the following data visualizations:\n",
    "\n",
    "1. Bar chart: We can use a bar chart to show the total number of installs for each app developer. This will help us identify the top developers in terms of popularity.\n",
    "\n",
    "2. Scatter plot: We can use a scatter plot to show the relationship between the average rating of an app developer's apps and the number of installs. This will help us identify developers who have both high ratings and high installs.\n",
    "\n",
    "3. Pie chart: We can use a pie chart to show the distribution of apps among the top developers. This will help us identify the most prolific developers who have published a large number of apps.\n",
    "\n",
    "By analyzing these features and using appropriate data visualizations, we can identify the most successful app developers in the Google Playstore dataset and make recommendations to the company based on our findings."
   ]
  },
  {
   "cell_type": "markdown",
   "id": "cd8518ff-02b4-4706-b129-d6d153cfa2f6",
   "metadata": {},
   "source": [
    "Q17. A marketing research firm wants to analyze the Google Playstore dataset to identify the best time to\n",
    "launch a new app. What features would you analyze to make recommendations to the company, and\n",
    "what data visualizations would you use to present your findings?"
   ]
  },
  {
   "cell_type": "markdown",
   "id": "aa74f3a8-308d-4334-969d-05a48efc9131",
   "metadata": {},
   "source": [
    "To identify the best time to launch a new app, the marketing research firm could analyze the following features:\n",
    "\n",
    "1. Number of installs by month or quarter: Analyzing the number of installs for each month or quarter can help identify trends and seasonal patterns in app downloads. This information can be presented using line charts or bar charts.\n",
    "\n",
    "2. Competition: Analyzing the number of apps released by competitors can help identify periods of high competition and determine the best time to launch a new app. This information can be presented using bar charts or line charts.\n",
    "\n",
    "3. App ratings: Analyzing the average app ratings for different times of the year can help identify patterns in user behavior and preferences. This information can be presented using line charts or bar charts.\n",
    "\n",
    "4. User reviews: Analyzing the number and sentiment of user reviews for different times of the year can help identify patterns in user behavior and preferences. This information can be presented using bar charts or line charts.\n",
    "\n",
    "5. Advertising and marketing campaigns: Analyzing the success of advertising and marketing campaigns can help identify the best time to launch a new app. This information can be presented using line charts or bar charts.\n",
    "\n",
    "To present the findings, the marketing research firm could use a combination of visualizations such as line charts, bar charts, and scatter plots to illustrate the relationships between the different variables. They could also provide a summary of their findings in a report, highlighting the key insights and recommendations for the best time to launch the new app."
   ]
  },
  {
   "cell_type": "code",
   "execution_count": null,
   "id": "eef2459f-f3e0-4417-8321-bfe9a2abc8a6",
   "metadata": {},
   "outputs": [],
   "source": []
  }
 ],
 "metadata": {
  "kernelspec": {
   "display_name": "Python 3 (ipykernel)",
   "language": "python",
   "name": "python3"
  },
  "language_info": {
   "codemirror_mode": {
    "name": "ipython",
    "version": 3
   },
   "file_extension": ".py",
   "mimetype": "text/x-python",
   "name": "python",
   "nbconvert_exporter": "python",
   "pygments_lexer": "ipython3",
   "version": "3.10.8"
  }
 },
 "nbformat": 4,
 "nbformat_minor": 5
}

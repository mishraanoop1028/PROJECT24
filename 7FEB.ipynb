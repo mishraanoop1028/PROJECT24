{
 "cells": [
  {
   "cell_type": "markdown",
   "id": "5c1a01a3-7e14-4386-829f-b5da996acb82",
   "metadata": {},
   "source": [
    "Q1. You are writing code for a company. The requirement of the company is that you create a python\n",
    "function that will check whether the password entered by the user is correct or not. The function should\n",
    "take the password as input and return the string “Valid Password” if the entered password follows the\n",
    "below-given password guidelines else it should return “Invalid Password”."
   ]
  },
  {
   "cell_type": "markdown",
   "id": "324a7ad4-6064-4af9-9d03-5cf7c672dd59",
   "metadata": {},
   "source": [
    "ANS-"
   ]
  },
  {
   "cell_type": "code",
   "execution_count": null,
   "id": "dfc6df2f-0a59-49fa-a43d-6ebeb5a503f1",
   "metadata": {},
   "outputs": [],
   "source": [
    "def check_password(password):\n",
    "    \"\"\"Check if password meets certain criteria.\"\"\"\n",
    "    # Criteria:\n",
    "    # - At least 10 characters long\n",
    "    # - Contains at least two uppercase letters\n",
    "    # - Contains at least two lowercase letters\n",
    "    # - Contains at least one digit\n",
    "    # - Contains at least three special characters (!@#$%^&*()-_+=)\n",
    "    \n",
    "    special_characters = \"!@#$%^&*()-_+=\"\n",
    "    \n",
    "    if len(password) < 10:\n",
    "        return \"Invalid Password\"\n",
    "    \n",
    "    if sum(1 for char in password if char.isupper()) < 2:\n",
    "        return \"Invalid Password\"\n",
    "    \n",
    "    if sum(1 for char in password if char.islower()) < 2:\n",
    "        return \"Invalid Password\"\n",
    "    \n",
    "    if sum(1 for char in password if char.isdigit()) < 1:\n",
    "        return \"Invalid Password\"\n",
    "    \n",
    "    if sum(1 for char in password if char in special_characters) < 3:\n",
    "        return \"Invalid Password\"\n",
    "    \n",
    "    return \"Valid Password\"\n"
   ]
  },
  {
   "cell_type": "markdown",
   "id": "f2ccde91-235a-43ef-ae7e-682969e1ec47",
   "metadata": {},
   "source": [
    "Q2. Solve the below-given questions using at least one of the following:\n",
    "1. Lambda functioJ\n",
    "2. Filter functioJ\n",
    "3. Zap functioJ\n",
    "4. List ComprehensioI\n",
    "B Check if the string starts with a particular letterY\n",
    "B Check if the string is numericY\n",
    "B Sort a list of tuples having fruit names and their quantity. [(\"mango\",99),(\"orange\",80), (\"grapes\", 1000)-\n",
    "B Find the squares of numbers from 1 to 10Y\n",
    "B Find the cube root of numbers from 1 to 10Y\n",
    "B Check if a given number is evenY\n",
    "B Filter odd numbers from the given list.\n",
    "[1,2,3,4,5,6,7,8,9,10-\n",
    "B Sort a list of integers into positive and negative integers lists.\n",
    "[1,2,3,4,5,6,-1,-2,-3,-4,-5,0]"
   ]
  },
  {
   "cell_type": "markdown",
   "id": "d8d81e9f-bed5-496c-81fc-02f3b1e8bdc9",
   "metadata": {},
   "source": [
    "ANS-"
   ]
  },
  {
   "cell_type": "markdown",
   "id": "dd4d4b96-6be7-490f-b456-d4f0d19eb11c",
   "metadata": {},
   "source": [
    "Q2. Solve the below-given questions using at least one of the following:\n",
    "1. Lambda functioJ\n",
    "2. Filter functioJ\n",
    "3. Zap functioJ\n",
    "4. List ComprehensioI\n",
    "B Check if the string starts with a particular letterY\n",
    "B Check if the string is numericY\n",
    "B Sort a list of tuples having fruit names and their quantity. [(\"mango\",99),(\"orange\",80), (\"grapes\", 1000)-\n",
    "B Find the squares of numbers from 1 to 10Y\n",
    "B Find the cube root of numbers from 1 to 10Y\n",
    "B Check if a given number is evenY\n",
    "B Filter odd numbers from the given list.\n",
    "[1,2,3,4,5,6,7,8,9,10-\n",
    "B Sort a list of integers into positive and negative integers lists.\n",
    "[1,2,3,4,5,6,-1,-2,-3,-4,-5,0]"
   ]
  },
  {
   "cell_type": "code",
   "execution_count": null,
   "id": "d1bff101-dd43-421e-836e-d5cc6b3f5c14",
   "metadata": {},
   "outputs": [],
   "source": [
    "strings = [\"apple\", \"banana\", \"cherry\", \"date\"]\n",
    "letter = \"b\"\n",
    "result = [s for s in strings if s.startswith(letter)]\n",
    "print(result)\n"
   ]
  },
  {
   "cell_type": "code",
   "execution_count": null,
   "id": "aa9266a4-7d3f-4431-bf19-f95c00707491",
   "metadata": {},
   "outputs": [],
   "source": [
    "strings = [\"apple\", \"123\", \"1.2\", \"date\"]\n",
    "result = list(filter(lambda s: s.isnumeric(), strings))\n",
    "print(result)\n"
   ]
  },
  {
   "cell_type": "code",
   "execution_count": null,
   "id": "d845b8be-4c46-4be9-aecb-978affad225d",
   "metadata": {},
   "outputs": [],
   "source": [
    "fruits = [(\"mango\", 99), (\"orange\", 80), (\"grapes\", 1000)]\n",
    "result = sorted(fruits, key=lambda f: f[1])\n",
    "print(result)\n"
   ]
  },
  {
   "cell_type": "code",
   "execution_count": null,
   "id": "c396f596-1773-4bdf-a58e-ba682c30256f",
   "metadata": {},
   "outputs": [],
   "source": [
    "result = [i**2 for i in range(1, 11)]\n",
    "print(result)\n"
   ]
  },
  {
   "cell_type": "code",
   "execution_count": null,
   "id": "f0fbd932-ff8e-47e9-8506-6e2eadc50453",
   "metadata": {},
   "outputs": [],
   "source": [
    "result = [pow(i, 1/3) for i in range(1, 11)]\n",
    "print(result)\n"
   ]
  },
  {
   "cell_type": "code",
   "execution_count": null,
   "id": "facc07b0-f9b8-4686-a3a0-a5377371fc07",
   "metadata": {},
   "outputs": [],
   "source": [
    "num = 6\n",
    "result = \"Even\" if (lambda x: x%2==0)(num) else \"Odd\"\n",
    "print(result)\n"
   ]
  },
  {
   "cell_type": "code",
   "execution_count": null,
   "id": "6e29d164-fad3-4209-abac-12fd31bcd298",
   "metadata": {},
   "outputs": [],
   "source": [
    "numbers = [1,2,3,4,5,6,7,8,9,10]\n",
    "result = list(filter(lambda x: x%2!=0, numbers))\n",
    "print(result)\n"
   ]
  },
  {
   "cell_type": "code",
   "execution_count": null,
   "id": "ee159d3a-65eb-4974-95c8-191a406da122",
   "metadata": {},
   "outputs": [],
   "source": [
    "numbers = [1,2,3,4,5,6,-1,-2,-3,-4,-5,0]\n",
    "positive = [n for n in numbers if n>0]\n",
    "negative = [n for n in numbers if n<0]\n",
    "print(positive)\n",
    "print(negative)\n"
   ]
  },
  {
   "cell_type": "code",
   "execution_count": null,
   "id": "300de588-5861-4c83-b624-6818b17a409f",
   "metadata": {},
   "outputs": [],
   "source": []
  },
  {
   "cell_type": "code",
   "execution_count": null,
   "id": "22d7ce8f-ebd0-46b9-925f-b31f2597c42d",
   "metadata": {},
   "outputs": [],
   "source": []
  }
 ],
 "metadata": {
  "kernelspec": {
   "display_name": "Python 3 (ipykernel)",
   "language": "python",
   "name": "python3"
  },
  "language_info": {
   "codemirror_mode": {
    "name": "ipython",
    "version": 3
   },
   "file_extension": ".py",
   "mimetype": "text/x-python",
   "name": "python",
   "nbconvert_exporter": "python",
   "pygments_lexer": "ipython3",
   "version": "3.10.8"
  }
 },
 "nbformat": 4,
 "nbformat_minor": 5
}

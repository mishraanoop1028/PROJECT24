{
 "cells": [
  {
   "cell_type": "markdown",
   "id": "4b4c0c72-09f7-46d2-9dfb-d51cbfba0254",
   "metadata": {},
   "source": [
    "ASSIGNMENT OF 30 JAN 2023"
   ]
  },
  {
   "cell_type": "markdown",
   "id": "5bb802c3-ff14-4d1c-a5e3-fb03abeaf9c8",
   "metadata": {},
   "source": [
    "ANSWERS FROM  1-8"
   ]
  },
  {
   "cell_type": "code",
   "execution_count": null,
   "id": "59f0d6f7-e819-407e-9311-6c04285e0ba9",
   "metadata": {},
   "outputs": [],
   "source": [
    "import pandas as pd\n"
   ]
  },
  {
   "cell_type": "code",
   "execution_count": 2,
   "id": "0732b424-ef0c-4c69-93f0-5df399a98f36",
   "metadata": {},
   "outputs": [],
   "source": [
    "print(\"Enter Marks Obtained in 5 Subjects: \")\n",
    "total1 = 44\n",
    "total2 = 67\n",
    "total3 = 76\n",
    "total4 = 99\n",
    "total5 = 58\n",
    " \n",
    "tot = total1 + total2 + total3 + total4 + total4\n",
    "avg = tot / 5\n",
    " \n",
    "if avg >= 90 and avg <= 100:\n",
    "    \n",
    "\n",
    "    print(\"Your Grade is A\")\n",
    "elif avg > 80 and avg <=90:\n",
    "    print(\"Your Grade is B\")\n",
    "elif avg >70 and avg <=80:\n",
    "    print(\"Your Grade is C\")\n",
    "elif avg >60 and avg <=70:\n",
    "    \n",
    "else:\n",
    "    print(\"Your Grade is D\")"
   ]
  },
  {
   "cell_type": "code",
   "execution_count": null,
   "id": "ce21faca-8cd1-4b90-8a16-0fc5cfbe883c",
   "metadata": {},
   "outputs": [],
   "source": [
    "\n",
    "city = address.get('Monument', '')\n",
    "Delhi= address.get('Delhi', '')\n",
    "Agra = address.get('Agra ', '')\n",
    "Jaipur= address.get('Jaipur')\n",
    "print('City : ',city)\n",
    "print('Delhi : ',Red Fort)\n",
    "print('Agra : ',Tajmahal)\n",
    "print('Jaipur : ', Jal Mahal)\n"
   ]
  },
  {
   "cell_type": "code",
   "execution_count": null,
   "id": "6a298e1d-a8e2-46da-9cab-5728d10f108b",
   "metadata": {},
   "outputs": [],
   "source": [
    "\n",
    "num1=int(input(\"Enter your number:\"))\n",
    "if(num1%3==0):\n",
    "    print(\"{} is divisible by 3\".format(num1))\n",
    "else:\n",
    "    print(\"{} is not divisible by 3\".format(num1)) \n"
   ]
  },
  {
   "cell_type": "code",
   "execution_count": null,
   "id": "830c2bbb-ff92-4544-96ce-92bc7f01064c",
   "metadata": {},
   "outputs": [],
   "source": [
    "Python while loop is used to run a block code until a certain\n",
    "condition is met. Here, A while loop evaluates the condition.\n",
    "If the condition evaluates to True , the code inside the while loop is executed.\n",
    "\n",
    "\n",
    "\n"
   ]
  },
  {
   "cell_type": "code",
   "execution_count": null,
   "id": "79f3d047-81ce-46f4-8618-5d424860cf0b",
   "metadata": {},
   "outputs": [],
   "source": [
    "def pypart(n):\n",
    "    for i in range(0, n):\n",
    "        for j in range(0, i+1):\n",
    "            print(\"* \",end=\"\")\n",
    "        print(\"\\r\")\n",
    "  \n",
    "\n",
    "n = 5\n",
    "pypart(n)\n",
    "\n",
    "\n",
    "\n"
   ]
  },
  {
   "cell_type": "code",
   "execution_count": null,
   "id": "e7f81529-8ecd-4d5b-93bf-8f3aa8fdf767",
   "metadata": {},
   "outputs": [],
   "source": [
    "def pypart(n):\n",
    "    myList = []\n",
    "    for i in range(1,n+1):\n",
    "        myList.append(\"*\"*i)\n",
    "    print(\"\\n\".join(myList))\n",
    "  \n",
    "n = 5\n",
    "pypart(n)\n"
   ]
  },
  {
   "cell_type": "code",
   "execution_count": null,
   "id": "b0e38a35-c543-4787-a806-6284ca2cf818",
   "metadata": {},
   "outputs": [],
   "source": [
    "def pypart(n):\n",
    "    if n==0:\n",
    "        return\n",
    "    else:\n",
    "        pypart(n-1)\n",
    "        print(\"* \"*n)\n",
    "   \n",
    "\n",
    "n = 5\n",
    "pypart(n)"
   ]
  },
  {
   "cell_type": "code",
   "execution_count": null,
   "id": "4bf32689-a0bf-4bb3-b753-5e36a65d7e25",
   "metadata": {},
   "outputs": [],
   "source": []
  },
  {
   "cell_type": "code",
   "execution_count": null,
   "id": "517e3894-6c53-4f45-bf0b-9f9454b2973d",
   "metadata": {},
   "outputs": [],
   "source": [
    "\n",
    "def PrintReverseOrder(N):\n",
    "     \n",
    "    for i in range(N, 0, -1):\n",
    "        print(i, end = \" \");\n",
    " \n",
    "if __name__ == '__main__':\n",
    "     \n",
    "    N = 5;\n",
    "    PrintReverseOrder(N);\n"
   ]
  },
  {
   "cell_type": "code",
   "execution_count": null,
   "id": "89100dcc-219e-4f63-9a99-5b178d86d95f",
   "metadata": {},
   "outputs": [],
   "source": []
  },
  {
   "cell_type": "code",
   "execution_count": null,
   "id": "32b491ec-2f35-4fb1-8a7a-2f51d3efec8c",
   "metadata": {},
   "outputs": [],
   "source": []
  },
  {
   "cell_type": "code",
   "execution_count": null,
   "id": "5123aa52-9384-4f28-9f46-36d5015bfe5e",
   "metadata": {},
   "outputs": [],
   "source": []
  },
  {
   "cell_type": "code",
   "execution_count": null,
   "id": "8688b97f-8ea0-4aef-bd25-c236121c2fb8",
   "metadata": {},
   "outputs": [],
   "source": []
  }
 ],
 "metadata": {
  "kernelspec": {
   "display_name": "Python 3 (ipykernel)",
   "language": "python",
   "name": "python3"
  },
  "language_info": {
   "codemirror_mode": {
    "name": "ipython",
    "version": 3
   },
   "file_extension": ".py",
   "mimetype": "text/x-python",
   "name": "python",
   "nbconvert_exporter": "python",
   "pygments_lexer": "ipython3",
   "version": "3.10.8"
  }
 },
 "nbformat": 4,
 "nbformat_minor": 5
}

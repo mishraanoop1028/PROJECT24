{
 "cells": [
  {
   "cell_type": "code",
   "execution_count": null,
   "id": "0ebaf252-d148-499c-bd62-935536722774",
   "metadata": {},
   "outputs": [],
   "source": [
    "Q1. Describe the decision tree classifier algorithm and how it works to make predictions\n",
    "ans-A decision tree algorithm is a machine learning algorithm that uses a decision tree to make predictions. It follows a tree-like model of decisions and their possible consequences. The algorithm works by recursively splitting the data into subsets based on the most significant feature at each node of the tree.\n",
    " Execution The Decision tree works with the underlying symptoms and predicts a disease. Initially, we get the user's top five symptoms and put it in an array with the value assigned as 1 across these values. This is passed as an input to the model for predicting the disease.\n",
    "\n",
    "Q2. Provide a step-by-step explanation of the mathematical intuition behind decision tree classification\n",
    "ans-Follow these five steps to create a decision tree diagram to analyze uncertain outcomes and reach the most logical solution.\n",
    "Start with your idea. Begin your diagram with one main idea or decision. ...\n",
    "Add chance and decision nodes. ...\n",
    "Expand until you reach end points. ...\n",
    "Calculate tree values. ...\n",
    "Evaluate outcomes.\n",
    "\n",
    "Q3. Explain how a decision tree classifier can be used to solve a binary classification problem.\n",
    "ans-A Binary Decision Tree is a structure based on a sequential decision process. Starting from the root, a feature is evaluated and one of the two branches is selected. This procedure is repeated until a final leaf is reached, which normally represents the classification target you're looking for.\n",
    "The decision tree splits the nodes on all available variables and then selects the split which results in most homogeneous sub-nodes. The ID3 algorithm builds decision trees using a top-down greedy search approach through the space of possible branches with no backtracking\n",
    "Q4. Discuss the geometric intuition behind decision tree classification and how it can be used to make predictions ?\n",
    "ans-A decision node, represented by a square, shows a decision to be made, and an end node shows the final outcome of a decision path.\n",
    "Decision Trees (DTs) are a non-parametric supervised learning method used for classification and regression. The goal is to create a model that predicts the value of a target variable by learning simple decision rules inferred from the data features. A tree can be seen as a piecewise constant approximation.\n",
    "And the decision nodes are where the data is split. An example of a decision tree can be explained using above binary tree. Let's say you want to predict whether a person is fit given their information like age, eating habit, and physical activity, etc. The decision nodes here are questions like 'What's the age?\n",
    "Q5. Define the confusion matrix and describe how it can be used to evaluate the performance of a classification model.\n",
    "ans-A confusion matrix is a table that allows you to visualize the performance of a classification model. You can also use the information in it to calculate measures that can help you determine the usefulness of the model. Rows represent predicted classifications, while columns represent the true classes from the data.\n",
    "A confusion matrix represents the prediction summary in matrix form. It shows how many prediction are correct and incorrect per class. It helps in understanding the classes that are being confused by model as other class.\n",
    "Q6. Provide an example of a confusion matrix and explain how precision, recall, and F1 score can be calculated from it.\n",
    "ans-F1 Score becomes 1 only when precision and recall are both 1. F1 score becomes high only when both precision and recall are high. F1 score is the harmonic mean of precision and recall and is a better measure than accuracy. In the pregnancy example, F1 Score = 2* ( 0.857 * 0.75)/(0.857 + 0.75) = 0.799.\n",
    "Consider a model that predicts 150 examples for the positive class, 95 are correct (true positives), meaning five were missed (false negatives) and 55 are incorrect (false positives). We can calculate the precision as follows: Precision = TruePositives / (TruePositives + FalsePositives) Precision = 95 / (95 + 55)\n",
    "\n",
    "Q7. Discuss the importance of choosing an appropriate evaluation metric for a classification problem and explain how this can be done.\n",
    "ans-Evaluation metrics are used to measure the quality of the statistical or machine learning model. Evaluating machine learning models or algorithms is essential for any project. There are many different types of evaluation metrics available to test a model.\n",
    "Metrics like accuracy, precision, recall are good ways to evaluate classification models for balanced datasets, but if the data is imbalanced then other methods like ROC/AUC perform better in evaluating the model performance.\n",
    "The key classification metrics: Accuracy, Recall, Precision, and F1- Score. The difference between Recall and Precision in specific cases. Decision Thresholds and Receiver Operating Characteristic (ROC) curve\n",
    "\n",
    "Q8. Provide an example of a classification problem where precision is the most important metric, and explain why?\n",
    "ans-Email Spam detection:This is one of the example where Precision is more important than Recall. Quick Recap: Precision: This tells when you predict something positive, how many times they were actually positive.\n",
    "Precision is defined as follows: Precision = T P T P + F P. Note: A model that produces no false positives has a precision of 1.0\n",
    "Accuracy, confusion matrix, log-loss, and AUC-ROC are some of the most popular metrics. Precision-recall is a widely used metrics for classification problems\n",
    "\n",
    " Q9. Provide an example of a classification problem where recall is the most important metric, and explain why ?\n",
    "ANS-Recall is a better measure than precision. For YouTube recommendations, false-negatives is less of a concern.\n",
    "Recall also gives a measure of how accurately our model is able to identify the relevant data. We refer to it as Sensitivity or True Positive Rate\n",
    "Recall is a metric that quantifies the number of correct positive predictions made out of all positive predictions that could have been made. Unlike precision that only comments on the correct positive predictions out of all positive predictions, recall provides an indication of missed positive predictions.\n",
    "\n",
    "\n",
    "\n",
    "\n",
    "\n",
    "\n",
    "\n",
    "\n",
    "\n",
    "\n",
    "\n"
   ]
  }
 ],
 "metadata": {
  "kernelspec": {
   "display_name": "Python 3 (ipykernel)",
   "language": "python",
   "name": "python3"
  },
  "language_info": {
   "codemirror_mode": {
    "name": "ipython",
    "version": 3
   },
   "file_extension": ".py",
   "mimetype": "text/x-python",
   "name": "python",
   "nbconvert_exporter": "python",
   "pygments_lexer": "ipython3",
   "version": "3.10.8"
  }
 },
 "nbformat": 4,
 "nbformat_minor": 5
}

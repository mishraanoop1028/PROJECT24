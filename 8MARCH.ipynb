{
 "cells": [
  {
   "cell_type": "markdown",
   "id": "55499869-affa-4e9e-976b-ffe1133f7cce",
   "metadata": {},
   "source": [
    "Q1. What is the Probability density function?\n",
    "ANS-The probability density function (PDF) is a function that describes the likelihood of a continuous random variable taking on a certain value or range of values. It is used to characterize the distribution of a continuous random variable. \n",
    "\n",
    "In contrast to the probability mass function (PMF), which is used for discrete random variables, the PDF does not give the probability of a specific value, but rather the probability density at that value. The area under the curve of the PDF between two points represents the probability of the random variable taking on values within that range. \n",
    "\n",
    "The PDF can be defined mathematically as follows:\n",
    "\n",
    "For a continuous random variable X, the PDF is denoted as f(x), where for any value x in the range of X, f(x) is the instantaneous rate at which the probability of X changes with respect to small changes in x. In other words, the probability that X lies between x and x+dx is given by the product of f(x) and dx:\n",
    "\n",
    "P(x ≤ X ≤ x+dx) = f(x)dx\n",
    "\n",
    "The PDF must satisfy the following conditions:\n",
    "\n",
    "1. f(x) ≥ 0 for all x in the range of X.\n",
    "2. The area under the curve of f(x) over the entire range of X must be equal to 1.\n",
    "\n",
    "The PDF is an important concept in probability and statistics, as it is used to calculate the expected value, variance, and other statistical measures for continuous random variables."
   ]
  },
  {
   "cell_type": "markdown",
   "id": "4a42ee0e-791e-4208-a359-2b179dc1b9e6",
   "metadata": {},
   "source": [
    "Q2. What are the types of Probability distribution?\n",
    "ANS-There are many types of probability distributions, but the main ones are:\n",
    "\n",
    "1. Discrete Probability Distribution: A discrete probability distribution is a probability distribution where the random variable can only take on discrete values. Examples of discrete probability distributions include the binomial distribution, the Poisson distribution, and the geometric distribution.\n",
    "\n",
    "2. Continuous Probability Distribution: A continuous probability distribution is a probability distribution where the random variable can take on any value in a continuous range of values. Examples of continuous probability distributions include the normal distribution, the exponential distribution, and the beta distribution.\n",
    "\n",
    "3. Mixed Probability Distribution: A mixed probability distribution is a probability distribution where the random variable can take on both discrete and continuous values. An example of a mixed probability distribution is the compound Poisson distribution.\n",
    "\n",
    "4. Univariate Probability Distribution: A univariate probability distribution is a probability distribution where the random variable is a single variable. Examples of univariate probability distributions include the normal distribution, the t-distribution, and the chi-squared distribution.\n",
    "\n",
    "5. Multivariate Probability Distribution: A multivariate probability distribution is a probability distribution where the random variables are two or more variables. Examples of multivariate probability distributions include the multivariate normal distribution, the multivariate t-distribution, and the Wishart distribution.\n",
    "\n",
    "Probability distributions are important in probability and statistics as they allow us to model real-world phenomena, make predictions, and perform statistical inference."
   ]
  },
  {
   "cell_type": "markdown",
   "id": "f46a0c1c-f627-4c92-a43c-e7d093c9b9a3",
   "metadata": {},
   "source": [
    "Q3. Write a Python function to calculate the probability density function of a normal distribution with\n",
    "given mean and standard deviation at a given point.\n",
    "ANS-"
   ]
  },
  {
   "cell_type": "code",
   "execution_count": null,
   "id": "c74e59eb-d3f3-44ca-af34-565655a8849e",
   "metadata": {},
   "outputs": [],
   "source": [
    "import math\n",
    "\n",
    "def normal_pdf(x, mu, sigma):\n",
    "    \"\"\"\n",
    "    Returns the probability density function of a normal distribution with mean mu and standard deviation sigma at point x.\n",
    "    \"\"\"\n",
    "    return math.exp(-(x - mu)**2 / (2 * sigma**2)) / math.sqrt(2 * math.pi * sigma**2)\n"
   ]
  },
  {
   "cell_type": "markdown",
   "id": "74797cc3-4572-453f-afca-f413900b6963",
   "metadata": {},
   "source": [
    "Q4. What are the properties of Binomial distribution? Give two examples of events where binomial\n",
    "distribution can be applied.\n",
    "ANS-The binomial distribution is a probability distribution that describes the number of successes in a fixed number of independent Bernoulli trials, where each trial has only two possible outcomes (success or failure) and the probability of success is constant. The properties of the binomial distribution are:\n",
    "\n",
    "1. The number of trials, n, is fixed.\n",
    "2. Each trial is independent of the others.\n",
    "3. There are only two possible outcomes (success or failure) for each trial.\n",
    "4. The probability of success, p, is constant for each trial.\n",
    "5. The random variable X represents the number of successes in n trials.\n",
    "\n",
    "Two examples of events where the binomial distribution can be applied are:\n",
    "\n",
    "1. Flipping a coin: If we flip a fair coin 10 times, the number of heads we get follows a binomial distribution with n=10 and p=0.5, where success is defined as getting heads and failure is defined as getting tails.\n",
    "\n",
    "2. Quality control: A factory produces light bulbs, and the probability that a light bulb is defective is 0.05. If we randomly select 100 light bulbs from the factory, the number of defective bulbs we get follows a binomial distribution with n=100 and p=0.05, where success is defined as getting a defective bulb and failure is defined as getting a non-defective bulb."
   ]
  },
  {
   "cell_type": "markdown",
   "id": "7a543ef3-6b20-4243-a410-7d7bceef6b84",
   "metadata": {},
   "source": [
    "Q5. Generate a random sample of size 1000 from a binomial distribution with probability of success 0.4\n",
    "and plot a histogram of the results using matplotlib.\n",
    "ANS-"
   ]
  },
  {
   "cell_type": "code",
   "execution_count": null,
   "id": "11220244-d659-4e18-9f75-d1015e268149",
   "metadata": {},
   "outputs": [],
   "source": [
    "import numpy as np\n",
    "import matplotlib.pyplot as plt\n",
    "\n",
    "# Set the parameters\n",
    "n = 1000  # Sample size\n",
    "p = 0.4  # Probability of success\n",
    "\n",
    "# Generate the random sample\n",
    "sample = np.random.binomial(n, p, size=n)\n",
    "\n",
    "# Plot the histogram\n",
    "plt.hist(sample, bins=20)\n",
    "plt.xlabel('Number of successes')\n",
    "plt.ylabel('Frequency')\n",
    "plt.title('Histogram of Binomial Distribution')\n",
    "plt.show()\n"
   ]
  },
  {
   "cell_type": "markdown",
   "id": "5a2701af-985b-4bcd-a5d3-1a476344298b",
   "metadata": {},
   "source": [
    "Q6. Write a Python function to calculate the cumulative distribution function of a Poisson distribution\n",
    "with given mean at a given point.\n",
    "ANS="
   ]
  },
  {
   "cell_type": "code",
   "execution_count": null,
   "id": "fdf4b571-b491-457e-9f09-dfb354fb7c6a",
   "metadata": {},
   "outputs": [],
   "source": [
    "import math\n",
    "\n",
    "def poisson_cdf(mean, point):\n",
    "    cdf = 0\n",
    "    for i in range(point+1):\n",
    "        cdf += math.exp(-mean) * (mean**i) / math.factorial(i)\n",
    "    return cdf\n"
   ]
  },
  {
   "cell_type": "markdown",
   "id": "856e401e-cab7-410e-bc67-32afdb6c74f9",
   "metadata": {},
   "source": [
    "Q7. How Binomial distribution different from Poisson distribution?\n",
    "ANS-The main differences between the binomial distribution and the Poisson distribution are as follows:\n",
    "\n",
    "1. The binomial distribution is a discrete probability distribution that describes the number of successes in a fixed number of independent trials, each with the same probability of success. The Poisson distribution, on the other hand, is a discrete probability distribution that describes the number of rare events that occur over a fixed interval of time or space.\n",
    "\n",
    "2. The binomial distribution requires that the trials be independent and identically distributed, while the Poisson distribution assumes that the rare events occur randomly and independently of each other.\n",
    "\n",
    "3. The binomial distribution has two parameters: the number of trials (n) and the probability of success (p). The Poisson distribution has one parameter: the mean number of rare events (λ).\n",
    "\n",
    "4. The binomial distribution is used to model the number of successes in a fixed number of trials, while the Poisson distribution is used to model the number of rare events in a fixed interval of time or space.\n",
    "\n",
    "5. The binomial distribution is typically used when the number of trials is small, the probability of success is not very low, and the events are not very rare. The Poisson distribution is typically used when the number of rare events is small, but the probability of each event is very low.\n",
    "\n",
    "In summary, the binomial distribution is used to model the number of successes in a fixed number of trials, while the Poisson distribution is used to model the number of rare events that occur over a fixed interval of time or space. The two distributions have different assumptions, parameters, and applications."
   ]
  },
  {
   "cell_type": "code",
   "execution_count": null,
   "id": "c90e2fc8-dbf5-4349-a684-3b7795e9c787",
   "metadata": {},
   "outputs": [],
   "source": []
  },
  {
   "cell_type": "markdown",
   "id": "b7406df8-f936-4c28-af05-4e6045624af7",
   "metadata": {},
   "source": [
    "Q8. Generate a random sample of size 1000 from a Poisson distribution with mean 5 and calculate the\n",
    "sample mean and variance.\n",
    "ANS="
   ]
  },
  {
   "cell_type": "code",
   "execution_count": null,
   "id": "fe58b9f2-2609-4315-a41e-1611d9d201ea",
   "metadata": {},
   "outputs": [],
   "source": [
    "import numpy as np\n",
    "\n",
    "# Set the random seed for reproducibility\n",
    "np.random.seed(123)\n",
    "\n",
    "# Generate a random sample of size 1000 from a Poisson distribution with mean 5\n",
    "sample = np.random.poisson(lam=5, size=1000)\n",
    "\n",
    "# Calculate the sample mean and variance\n",
    "sample_mean = np.mean(sample)\n",
    "sample_variance = np.var(sample, ddof=1)\n",
    "\n",
    "print(\"Sample Mean:\", sample_mean)\n",
    "print(\"Sample Variance:\", sample_variance)\n"
   ]
  },
  {
   "cell_type": "markdown",
   "id": "e083f042-9e89-4a59-9d80-03e0b3866bc4",
   "metadata": {},
   "source": [
    "Q9. How mean and variance are related in Binomial distribution and Poisson distribution?\n",
    "ANS--In the binomial distribution, the mean and variance are related by the formula:\n",
    "\n",
    "```\n",
    "mean = n*p\n",
    "variance = n*p*(1-p)\n",
    "```\n",
    "\n",
    "where `n` is the number of trials, and `p` is the probability of success in each trial.\n",
    "\n",
    "In the Poisson distribution, the mean and variance are equal and are given by the formula:\n",
    "\n",
    "```\n",
    "mean = variance = lambda\n",
    "```\n",
    "\n",
    "where `lambda` is the rate parameter that represents the average number of events in a given interval of time or space.\n",
    "\n",
    "In both distributions, the mean and variance provide important information about the distribution. For example, a large variance indicates a wider spread of the data, while a small variance indicates a narrower spread. The relationship between the mean and variance also affects the shape of the distribution. For example, if the variance is much larger than the mean, the distribution will be wider and more spread out, while if the variance is much smaller than the mean, the distribution will be more concentrated around the mean."
   ]
  },
  {
   "cell_type": "markdown",
   "id": "c34340ab-4625-4504-8e43-e8c655480986",
   "metadata": {},
   "source": [
    "Q10. In normal distribution with respect to mean position, where does the least frequent data appear?\n",
    "ANS-In a normal distribution, the data is symmetric around the mean, which is the point of maximum frequency. The least frequent data appears in the tails of the distribution, which are located at the extreme ends of the distribution, far away from the mean. These tails contain the data points that are several standard deviations away from the mean, and their frequency decreases rapidly as we move away from the mean towards the tails. So, the least frequent data in a normal distribution appears at the extreme ends, which are located several standard deviations away from the mean."
   ]
  },
  {
   "cell_type": "code",
   "execution_count": null,
   "id": "424347fc-0a3a-4afe-aabd-744ce2c89b41",
   "metadata": {},
   "outputs": [],
   "source": []
  },
  {
   "cell_type": "code",
   "execution_count": null,
   "id": "bdf00d93-0b47-473e-bf29-a809e953c9da",
   "metadata": {},
   "outputs": [],
   "source": []
  },
  {
   "cell_type": "code",
   "execution_count": null,
   "id": "350c388a-7af8-4072-99b7-f105b7a414ab",
   "metadata": {},
   "outputs": [],
   "source": []
  },
  {
   "cell_type": "code",
   "execution_count": null,
   "id": "e5d4d629-aea4-49cc-8171-884615563dbf",
   "metadata": {},
   "outputs": [],
   "source": []
  }
 ],
 "metadata": {
  "kernelspec": {
   "display_name": "Python 3 (ipykernel)",
   "language": "python",
   "name": "python3"
  },
  "language_info": {
   "codemirror_mode": {
    "name": "ipython",
    "version": 3
   },
   "file_extension": ".py",
   "mimetype": "text/x-python",
   "name": "python",
   "nbconvert_exporter": "python",
   "pygments_lexer": "ipython3",
   "version": "3.10.8"
  }
 },
 "nbformat": 4,
 "nbformat_minor": 5
}

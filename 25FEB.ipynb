{
 "cells": [
  {
   "cell_type": "markdown",
   "id": "572da534-0441-450a-bee7-9cb803e9a3bf",
   "metadata": {},
   "source": [
    "ASSIGNMENT 25"
   ]
  },
  {
   "cell_type": "markdown",
   "id": "d6461e22-d3c8-4d44-8c1f-38a50bb524c0",
   "metadata": {},
   "source": [
    "Q1."
   ]
  },
  {
   "cell_type": "markdown",
   "id": "629ae8d1-2fb2-4ebd-8d17-fc323796df2e",
   "metadata": {},
   "source": [
    "Consider following code to answer further questions:\n"
   ]
  },
  {
   "cell_type": "markdown",
   "id": "57f4c5aa-ef53-45cb-af58-c38c6e4cd97b",
   "metadata": {},
   "source": [
    "import pandas as pd\n",
    "course_name = [‘Data Science’, ‘Machine Learning’, ‘Big Data’, ‘Data Engineer’]\n",
    "duration = [2,3,6,4]\n",
    "df = pd.DataFrame(data = {‘course_name’ : course_name, ‘duration’ : duration})\n",
    "\n"
   ]
  },
  {
   "cell_type": "markdown",
   "id": "c1828c0f-511f-49ae-8ace-fdd496a18f5d",
   "metadata": {},
   "source": [
    "Q1. Write a code to print the data present in the second row of the dataframe, df."
   ]
  },
  {
   "cell_type": "code",
   "execution_count": null,
   "id": "5dbef62c-87b9-4d6f-a9ff-232b0e8ef57d",
   "metadata": {},
   "outputs": [],
   "source": [
    "print(df.iloc[1])\n"
   ]
  },
  {
   "cell_type": "markdown",
   "id": "18edae83-6d7b-4259-b9cb-d417ed36cfe4",
   "metadata": {},
   "source": [
    "Q2. What is the difference between the functions loc and iloc in pandas.DataFrame?"
   ]
  },
  {
   "cell_type": "markdown",
   "id": "ee854420-df2a-497d-8060-cc8d26c290d8",
   "metadata": {},
   "source": [
    "In Pandas, both `loc` and `iloc` are used to index and select rows and columns from a DataFrame. The difference between them is in the way they are indexed:\n",
    "\n",
    "- `loc`: This function is used to select rows and columns by labels. It uses labels to select the data in a DataFrame, and the syntax is `df.loc[row_label, column_label]`. The `row_label` and `column_label` can be a single label or a list of labels. For example, `df.loc[0, 'course_name']` will return the value 'Data Science' from the DataFrame `df`.\n",
    "\n",
    "- `iloc`: This function is used to select rows and columns by their integer index. It uses integers to select the data in a DataFrame, and the syntax is `df.iloc[row_index, column_index]`. The `row_index` and `column_index` can be a single index or a list of indexes. For example, `df.iloc[0, 0]` will return the value 'Data Science' from the DataFrame `df`.\n",
    "\n",
    "In summary, `loc` is used to select rows and columns by labels, and `iloc` is used to select rows and columns by integer index."
   ]
  },
  {
   "cell_type": "code",
   "execution_count": null,
   "id": "df5fc474-0839-4141-a95a-9c37997ce98e",
   "metadata": {},
   "outputs": [],
   "source": []
  },
  {
   "cell_type": "code",
   "execution_count": null,
   "id": "427209e5-e4fa-4e1d-ba2a-9a254a62fb68",
   "metadata": {},
   "outputs": [],
   "source": [
    "import pandas as pd\n",
    "import numpy as np\n",
    "columns = ['column_1', 'column_2', 'column_3', 'column_4', 'column_5', 'column_6']\n",
    "indices = [1,2,3,4,5,6]\n",
    "#Creating a dataframe:\n",
    "df1 = pd.DataFrame(np.random.rand(6,6), columns = columns, index = indices)"
   ]
  },
  {
   "cell_type": "markdown",
   "id": "a5efca8e-a734-44f2-9626-a56d105dc7cd",
   "metadata": {},
   "source": [
    "Q3. Reindex the given dataframe using a variable, reindex = [3,0,1,2] and store it in the variable, new_df\n",
    "then find the output for both new_df.loc[2] and new_df.iloc[2].\n",
    "\n",
    "Q4. Write a code to find the following statistical measurements for the above dataframe df1:\n",
    "(i) mean of each and every column present in the dataframe.\n",
    "(ii) standard deviation of column, ‘column_2’\n",
    "Q5. Replace the data present in the second row of column, ‘column_2’ by a string variable then find the\n",
    "mean of column, column_2.\n",
    "If you are getting errors in executing it then explain why.\n",
    "[Hint: To replace the data use df1.loc[] and equate this to string data of your choice.]"
   ]
  },
  {
   "cell_type": "code",
   "execution_count": null,
   "id": "51f73084-2218-4a49-a176-72e882f4795d",
   "metadata": {},
   "outputs": [],
   "source": [
    "reindex = [3, 0, 1, 2]\n",
    "new_df = df.reindex(reindex)\n",
    "print(new_df.loc[2])\n",
    "print(new_df.iloc[2])\n"
   ]
  },
  {
   "cell_type": "code",
   "execution_count": null,
   "id": "eae88a3a-04a1-46c7-910f-eebda36c2de8",
   "metadata": {},
   "outputs": [],
   "source": [
    "# Mean of each column\n",
    "print(df.mean())\n",
    "\n",
    "# Standard deviation of column 'duration'\n",
    "print(df['duration'].std())\n"
   ]
  },
  {
   "cell_type": "code",
   "execution_count": null,
   "id": "d45feace-997c-4a55-95ee-ebf2fb66b65d",
   "metadata": {},
   "outputs": [],
   "source": [
    "df.loc[1, 'duration'] = 'string_data'\n",
    "print(df['duration'].mean())\n"
   ]
  },
  {
   "cell_type": "markdown",
   "id": "88820808-dd32-4f31-987b-f61a18837d44",
   "metadata": {},
   "source": [
    "Q6. What do you understand about the windows function in pandas and list the types of windows\n",
    "functions?"
   ]
  },
  {
   "cell_type": "markdown",
   "id": "94b54d43-c4b9-4876-a0ff-10ad6adc87dc",
   "metadata": {},
   "source": [
    "ANS-In pandas, window functions are used to perform calculations over a specified range of data, known as a window, which can slide or shift over the data. The output of the function is then associated with the midpoint of the window. This allows for computation of rolling averages, cumulative sums, and other such operations. \n",
    "\n",
    "There are several types of window functions available in pandas:\n",
    "1. Rolling window functions: These functions create a rolling window of a specified size over the data and apply a specified function on the values within that window.\n",
    "2. Expanding window functions: These functions start with a small window size and gradually expand the window to include more and more data, while applying a specified function to the values within the window.\n",
    "3. Exponentially weighted window functions: These functions assign exponentially decreasing weights to the data in the window, with more recent data being given more weight. The weighted data is then used to calculate a rolling average or other statistic.\n",
    "4. Rolling window with time-based offsets: These functions create a rolling window based on time-based offsets, rather than a fixed number of data points. This is useful for time series data.\n",
    "5. Groupby window functions: These functions apply a window function to each group of data defined by a grouping variable, such as a categorical variable."
   ]
  },
  {
   "cell_type": "markdown",
   "id": "45ae74df-8e69-44b5-acf8-2343ff182982",
   "metadata": {},
   "source": [
    "Q7. Write a code to print only the current month and year at the time of answering this question.\n",
    "[Hint: Use pandas.datetime function]"
   ]
  },
  {
   "cell_type": "code",
   "execution_count": null,
   "id": "a41dcd3a-3753-4b4f-a8d8-41deb7c87ee4",
   "metadata": {},
   "outputs": [],
   "source": [
    "import datetime\n",
    "\n",
    "current_date = datetime.datetime.now()\n",
    "print(f\"Current month and year: {current_date.strftime('%B %Y')}\")\n"
   ]
  },
  {
   "cell_type": "code",
   "execution_count": null,
   "id": "4ac9267a-d177-40a4-b393-e6db607bf658",
   "metadata": {},
   "outputs": [],
   "source": []
  },
  {
   "cell_type": "code",
   "execution_count": null,
   "id": "a2e794cb-6aa4-4161-8778-a28ae6f68f9c",
   "metadata": {},
   "outputs": [],
   "source": []
  },
  {
   "cell_type": "code",
   "execution_count": null,
   "id": "5337836b-d416-4ff0-a49f-c03c8b09baee",
   "metadata": {},
   "outputs": [],
   "source": []
  },
  {
   "cell_type": "code",
   "execution_count": null,
   "id": "cec8e6f0-5a53-4e4f-bd08-a6c17bbdc6fb",
   "metadata": {},
   "outputs": [],
   "source": []
  }
 ],
 "metadata": {
  "kernelspec": {
   "display_name": "Python 3 (ipykernel)",
   "language": "python",
   "name": "python3"
  },
  "language_info": {
   "codemirror_mode": {
    "name": "ipython",
    "version": 3
   },
   "file_extension": ".py",
   "mimetype": "text/x-python",
   "name": "python",
   "nbconvert_exporter": "python",
   "pygments_lexer": "ipython3",
   "version": "3.10.8"
  }
 },
 "nbformat": 4,
 "nbformat_minor": 5
}

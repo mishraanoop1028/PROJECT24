{
 "cells": [
  {
   "cell_type": "markdown",
   "id": "34edb90c-62b8-4b31-9893-4eb46671942b",
   "metadata": {
    "jupyter": {
     "outputs_hidden": true
    },
    "tags": []
   },
   "source": [
    "Q1. What is Lasso Regression, and how does it differ from other regression techniques?\n"
   ]
  },
  {
   "cell_type": "markdown",
   "id": "cc8d5213-61f0-41e9-9c56-bf4fca74a9a2",
   "metadata": {},
   "source": [
    "ANS-Lasso regression is a regularization technique.\n",
    " It is used over regression methods for a more accurate prediction.\n",
    " This model uses shrinkage. Shrinkage is where data values are shrunk \n",
    "towards a central point as the mean.\n",
    "\n",
    "Similar to the lasso regression, ridge regression puts a similar \n",
    "constraint on the coefficients by introducing a penalty factor.\n",
    " However, while lasso regression takes the magnitude of the coefficients, \n",
    "ridge regression takes the square. Ridge regression is also referred to as \n",
    "L2 Regularization.\n",
    "\n"
   ]
  },
  {
   "cell_type": "markdown",
   "id": "4a90c611-53d0-40cc-930b-59c500d34f6f",
   "metadata": {},
   "source": [
    "Q2. What is the main advantage of using Lasso Regression in feature selection?\n",
    "\n"
   ]
  },
  {
   "cell_type": "markdown",
   "id": "fa3953d1-e42b-4def-922e-12fb250a4125",
   "metadata": {},
   "source": [
    "ANS-The main advantage of a LASSO regression model is that it has the ability \n",
    "to set the coefficients for features it does not consider interesting to zero.\n",
    " This means that the model does some automatic feature selection to decide which\n",
    " features should and should not be included on its own.\n",
    "\n",
    "How can we use it for feature selection? Trying to minimize the cost function, \n",
    "Lasso regression will automatically select those features that are useful, \n",
    "discarding the useless or redundant features. In Lasso regression, discarding \n",
    "a feature will make its coefficient equal to 0.\n"
   ]
  },
  {
   "cell_type": "markdown",
   "id": "86da2274-f5a1-4cc8-b0fe-75f0cdc05feb",
   "metadata": {},
   "source": [
    "Q3. How do you interpret the coefficients of a Lasso Regression model?\n",
    "\n"
   ]
  },
  {
   "cell_type": "markdown",
   "id": "d3f97d92-8274-4924-acf9-c56b9328b183",
   "metadata": {},
   "source": [
    "ANS-Interpreting Linear Regression Coefficients\n",
    "\n",
    "A positive coefficient indicates that as the value of the independent \n",
    "variable increases, the mean of the dependent variable also tends to increase.\n",
    " A negative coefficient suggests that as the independent variable increases, \n",
    "the dependent variable tends to decrease.\n"
   ]
  },
  {
   "cell_type": "markdown",
   "id": "38efb6a0-ec09-44fa-b83e-e84646b96b71",
   "metadata": {},
   "source": [
    "\n",
    "Q4. What are the tuning parameters that can be adjusted in Lasso Regression, and how do they affect the\n",
    "model's performance?\n"
   ]
  },
  {
   "cell_type": "markdown",
   "id": "9d301c54-3720-4285-92d2-5b1bbd08186f",
   "metadata": {},
   "source": [
    "ANS-A tuning parameter (?), sometimes called a penalty parameter, \n",
    "controls the strength of the penalty term in ridge regression and \n",
    "lasso regression. It is basically the amount of shrinkage, where \n",
    "data values are shrunk towards a central point, like the mean.\n",
    "Since it takes absolute values, hence, it can shrink the slope to 0. \n",
    "Some of the features in the dataset are completely neglected for model\n",
    " evaluation. It can help us to reduce the overfitting in the model as \n",
    "well as the feature selection. It is also called as L1 regularization\n",
    "\n"
   ]
  },
  {
   "cell_type": "markdown",
   "id": "aab4b72f-6f17-4f1c-b268-d8b106b01e3e",
   "metadata": {},
   "source": [
    "Q5. Can Lasso Regression be used for non-linear regression problems? If yes, how?\n",
    "\n"
   ]
  },
  {
   "cell_type": "markdown",
   "id": "388e4ac9-bd42-4ed2-b69e-646581fafc4b",
   "metadata": {},
   "source": [
    "ANS-The ordinary lasso penalty has been extensively used in the framework \n",
    "of linear regression models; however, sufficient results have not been\n",
    " obtained for nonlinear regression models with Gaussian basis functions.\n"
   ]
  },
  {
   "cell_type": "markdown",
   "id": "9e351733-61ad-41a9-8204-691e6504cb46",
   "metadata": {},
   "source": [
    "Q6. What is the difference between Ridge Regression and Lasso Regression?\n"
   ]
  },
  {
   "cell_type": "markdown",
   "id": "ede245d6-96b0-46c2-8b06-43516c9a1a34",
   "metadata": {},
   "source": [
    "ANS-Similar to the lasso regression, ridge regression puts a similar\n",
    " constraint on the coefficients by introducing a penalty factor. However,\n",
    " while lasso regression takes the magnitude of the coefficients, ridge \n",
    "regression takes the square. Ridge regression is also referred to as L2 \n",
    "Regularization.\n",
    "\n",
    "Lasso will eliminate many features, and reduce overfitting in your \n",
    "linear model. Ridge will reduce the impact of features that are not\n",
    " important in predicting your y values. Elastic Net combines feature\n",
    " elimination from Lasso and feature coefficient reduction\n",
    "\n"
   ]
  },
  {
   "cell_type": "markdown",
   "id": "ec58a058-575c-4290-b6d0-6bfb84d32fe5",
   "metadata": {},
   "source": [
    "\n",
    "Q7. Can Lasso Regression handle multicollinearity in the input features? If yes, how?\n"
   ]
  },
  {
   "cell_type": "markdown",
   "id": "0ec3ca92-c2fb-4fee-85b6-9a2f07a42fca",
   "metadata": {},
   "source": [
    "ANS-Another Tolerant Method for dealing with multicollinearity known as\n",
    " Least Absolute Shrinkage and Selection Operator (LASSO) regression,\n",
    " solves the same constrained optimization problem as ridge regression,\n",
    " but uses the L1 norm rather than the L2 norm as a measure of complexity.\n"
   ]
  },
  {
   "cell_type": "markdown",
   "id": "61b6d44f-db27-4ee2-a40b-9fd839504aa3",
   "metadata": {},
   "source": [
    "Q8. How do you choose the optimal value of the regularization parameter (lambda) in Lasso Regression?\n",
    "\n",
    "    "
   ]
  },
  {
   "cell_type": "markdown",
   "id": "b8a85a41-758e-4c99-9d8e-c66d7e49a762",
   "metadata": {},
   "source": [
    "ANS-When choosing a lambda value, the goal is to strike the right balance\n",
    " between simplicity and training-data fit: If your lambda value is too high,\n",
    " your model will be simple, but you run the risk of underfitting your data. \n",
    "Your model won't learn enough about the training data to make useful predictions.\n",
    "\n",
    "\n",
    "\n",
    " from the Ridge model to improve your model's predictions.\n",
    "\n"
   ]
  },
  {
   "cell_type": "code",
   "execution_count": null,
   "id": "ac3e486b-9536-44e5-b41a-c8114ad502e8",
   "metadata": {},
   "outputs": [],
   "source": []
  },
  {
   "cell_type": "code",
   "execution_count": null,
   "id": "c7933cd1-0465-4e8b-b9c8-0ba8599c2375",
   "metadata": {},
   "outputs": [],
   "source": []
  },
  {
   "cell_type": "code",
   "execution_count": null,
   "id": "22197a96-e5fb-444b-981f-7c2d57225fdb",
   "metadata": {},
   "outputs": [],
   "source": []
  },
  {
   "cell_type": "code",
   "execution_count": null,
   "id": "8ed0b320-14b4-4e56-8c97-316a09c7563c",
   "metadata": {},
   "outputs": [],
   "source": []
  },
  {
   "cell_type": "code",
   "execution_count": null,
   "id": "05ab1b41-361d-451a-8dbf-161cc61dde52",
   "metadata": {},
   "outputs": [],
   "source": []
  }
 ],
 "metadata": {
  "kernelspec": {
   "display_name": "Python 3 (ipykernel)",
   "language": "python",
   "name": "python3"
  },
  "language_info": {
   "codemirror_mode": {
    "name": "ipython",
    "version": 3
   },
   "file_extension": ".py",
   "mimetype": "text/x-python",
   "name": "python",
   "nbconvert_exporter": "python",
   "pygments_lexer": "ipython3",
   "version": "3.10.8"
  }
 },
 "nbformat": 4,
 "nbformat_minor": 5
}

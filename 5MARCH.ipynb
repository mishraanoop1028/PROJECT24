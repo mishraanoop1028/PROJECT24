{
 "cells": [
  {
   "cell_type": "markdown",
   "id": "b5f429f8-2406-4448-a152-ccf191b2d235",
   "metadata": {},
   "source": [
    "Q1. How can you create a Bokeh plot using PythoN?\n",
    "ANS-\n",
    "\n",
    "Install the Bokeh library using pip or conda.\n",
    "Import the necessary modules from the Bokeh library.\n",
    "Create a new figure using the figure() function.\n",
    "Add glyphs (shapes and lines) to the figure using the appropriate functions like line(), circle(), rect(), etc.\n",
    "Customize the plot using various attributes and properties like title, axis labels, grid, background color, etc.\n",
    "Show or save the plot using the show() or save() function.\n",
    "Here's an example code snippet to create a simple Bokeh line plot:"
   ]
  },
  {
   "cell_type": "code",
   "execution_count": null,
   "id": "206335f4-9aab-42e1-aff5-7bc530548aac",
   "metadata": {},
   "outputs": [],
   "source": [
    "from bokeh.plotting import figure, output_file, show\n",
    "\n",
    "# Prepare data\n",
    "x = [1, 2, 3, 4, 5]\n",
    "y = [2, 4, 6, 8, 10]\n",
    "\n",
    "# Create a new plot with title and axis labels\n",
    "p = figure(title=\"Simple Line Plot\", x_axis_label=\"X\", y_axis_label=\"Y\")\n",
    "\n",
    "# Add a line glyph to the plot\n",
    "p.line(x, y, legend_label=\"Line 1\", line_width=2)\n",
    "\n",
    "# Set plot properties\n",
    "p.title.align = \"center\"\n",
    "p.title.text_color = \"navy\"\n",
    "p.xaxis.axis_label_text_color = \"red\"\n",
    "p.yaxis.axis_label_text_color = \"green\"\n",
    "\n",
    "# Save the plot to an HTML file and show it in a new tab\n",
    "output_file(\"line_plot.html\")\n",
    "show(p)\n"
   ]
  },
  {
   "cell_type": "markdown",
   "id": "27f46c61-23e6-41b8-adac-4077ad98e356",
   "metadata": {},
   "source": [
    "Q2. What are glyphs in Bokeh, and how can you add them to a Bokeh plot? Explain with an example\n",
    "ANS-In Bokeh, glyphs are the basic visual building blocks for creating visualizations. Glyphs are graphical representations of data points in a plot, such as circles, squares, lines, or bars. We can add them to a Bokeh plot by specifying the glyph type, size, color, and other properties using the figure() function.\n",
    "\n",
    "Here's an example of how to create a scatter plot with circles as glyphs using Bokeh:"
   ]
  },
  {
   "cell_type": "code",
   "execution_count": null,
   "id": "b75a2cd5-d1bb-4bf8-8514-76c9786cf42d",
   "metadata": {},
   "outputs": [],
   "source": [
    "from bokeh.plotting import figure, show\n",
    "from bokeh.sampledata.iris import flowers\n",
    "\n",
    "# Create a figure object\n",
    "p = figure(title=\"Iris Scatter Plot\", x_axis_label='Petal Length', y_axis_label='Petal Width')\n",
    "\n",
    "# Define the glyph properties\n",
    "p.circle(flowers['petal_length'], flowers['petal_width'], size=10, color='blue', alpha=0.5)\n",
    "\n",
    "# Show the plot\n",
    "show(p)\n"
   ]
  },
  {
   "cell_type": "markdown",
   "id": "d0797653-b116-4c02-8c31-2631056b7038",
   "metadata": {},
   "source": [
    "Q3. How can you customize the appearance of a Bokeh plot, including the axes, title, and legend?\n",
    "ANS-Changing the title: You can change the title of the plot using the title attribute of the figure object. For example:"
   ]
  },
  {
   "cell_type": "code",
   "execution_count": null,
   "id": "ba155edb-a62d-4c62-bbfd-98f0fec0e029",
   "metadata": {},
   "outputs": [],
   "source": [
    "from bokeh.plotting import figure, show\n",
    "\n",
    "# create a figure\n",
    "p = figure(title='My Plot')\n",
    "\n",
    "# plot some data\n",
    "x = [1, 2, 3]\n",
    "y = [4, 5, 6]\n",
    "p.line(x, y)\n",
    "\n",
    "# show the plot\n",
    "show(p)\n"
   ]
  },
  {
   "cell_type": "markdown",
   "id": "214af410-ee50-45c0-acd3-ab6ef0999b23",
   "metadata": {},
   "source": [
    "Changing the axes labels: You can change the labels of the x and y axes using the xaxis and yaxis attributes of the figure object. For example:"
   ]
  },
  {
   "cell_type": "code",
   "execution_count": null,
   "id": "cc66a88d-ed77-40c6-9f81-d8131ba13e98",
   "metadata": {},
   "outputs": [],
   "source": [
    "from bokeh.plotting import figure, show\n",
    "\n",
    "# create a figure\n",
    "p = figure()\n",
    "\n",
    "# plot some data\n",
    "x = [1, 2, 3]\n",
    "y = [4, 5, 6]\n",
    "p.line(x, y)\n",
    "\n",
    "# set the x-axis label\n",
    "p.xaxis.axis_label = 'X Axis Label'\n",
    "\n",
    "# set the y-axis label\n",
    "p.yaxis.axis_label = 'Y Axis Label'\n",
    "\n",
    "# show the plot\n",
    "show(p)\n"
   ]
  },
  {
   "cell_type": "markdown",
   "id": "a9cb1bce-0b22-45c1-8ce8-0d29834fda98",
   "metadata": {},
   "source": [
    "Changing the legend: You can add a legend to the plot using the legend attribute of the figure object. You can also customize the location of the legend using the location parameter. For example"
   ]
  },
  {
   "cell_type": "code",
   "execution_count": null,
   "id": "0e8fa31e-3f8a-448d-9472-27df35b850d8",
   "metadata": {},
   "outputs": [],
   "source": [
    "from bokeh.plotting import figure, show\n",
    "\n",
    "# create a figure\n",
    "p = figure()\n",
    "\n",
    "# plot some data\n",
    "x = [1, 2, 3]\n",
    "y1 = [4, 5, 6]\n",
    "y2 = [7, 8, 9]\n",
    "p.line(x, y1, legend_label='Line 1')\n",
    "p.line(x, y2, legend_label='Line 2')\n",
    "\n",
    "# set the location of the legend\n",
    "p.legend.location = 'top_left'\n",
    "\n",
    "# show the plot\n",
    "show(p)\n"
   ]
  },
  {
   "cell_type": "code",
   "execution_count": null,
   "id": "72bfbf5d-56be-4dcb-9a18-fa46af58d644",
   "metadata": {},
   "outputs": [],
   "source": []
  },
  {
   "cell_type": "markdown",
   "id": "c6e546bf-510a-44ac-892c-376d6b8d97ad",
   "metadata": {},
   "source": [
    "Q4. What is a Bokeh server, and how can you use it to create interactive plots that can be updated in\n",
    "real time?\n",
    "ANS-\n",
    "A Bokeh server is a Python application that allows for the creation of interactive data visualizations in a web browser. The Bokeh server allows for real-time updates and interactions with data visualizations, which makes it a powerful tool for creating data dashboards and applications.\n",
    "\n",
    "To create an interactive plot using the Bokeh server, you need to define a Python function that will generate the plot. This function should take one or more arguments that correspond to the user input, and return a Bokeh plot object. The Bokeh server then serves this plot as a webpage, allowing users to interact with it.\n",
    "\n",
    "When a user interacts with the plot, the Bokeh server can update the data and regenerate the plot, allowing for real-time updates. This makes it possible to create dynamic and interactive data visualizations that respond to user input.\n",
    "\n",
    "To use the Bokeh server, you first need to install the Bokeh library and start the Bokeh server by running the command \"bokeh serve\" in a terminal. Then, you can create a Python file that defines the function that generates the Bokeh plot, and use the Bokeh server to serve the plot as a webpage.\n",
    "\n",
    "For example, here is a simple Bokeh server application that generates a scatter plot with interactive sliders to control the x and y axis ranges:\n",
    "\n"
   ]
  },
  {
   "cell_type": "code",
   "execution_count": null,
   "id": "21d74358-f3ad-4d87-8b0e-56da1bb9c0f7",
   "metadata": {},
   "outputs": [],
   "source": [
    "from bokeh.io import curdoc\n",
    "from bokeh.layouts import row\n",
    "from bokeh.models import ColumnDataSource, Slider\n",
    "from bokeh.plotting import figure\n",
    "\n",
    "# Define data\n",
    "x = [1, 2, 3, 4, 5]\n",
    "y = [1, 4, 3, 2, 5]\n",
    "source = ColumnDataSource(data=dict(x=x, y=y))\n",
    "\n",
    "# Define plot\n",
    "plot = figure(plot_height=400, plot_width=400, tools=\"\", toolbar_location=None)\n",
    "plot.scatter(x='x', y='y', source=source)\n",
    "\n",
    "# Define sliders\n",
    "x_range_slider = Slider(start=0, end=10, value=plot.x_range.end, step=0.1, title=\"X Range\")\n",
    "y_range_slider = Slider(start=0, end=10, value=plot.y_range.end, step=0.1, title=\"Y Range\")\n",
    "\n",
    "# Define callback functions\n",
    "def update_x_range(attrname, old, new):\n",
    "    plot.x_range.end = new\n",
    "def update_y_range(attrname, old, new):\n",
    "    plot.y_range.end = new\n",
    "\n",
    "# Attach callback functions to sliders\n",
    "x_range_slider.on_change('value', update_x_range)\n",
    "y_range_slider.on_change('value', update_y_range)\n",
    "\n",
    "# Create layout and add to document\n",
    "layout = row(plot, x_range_slider, y_range_slider)\n",
    "curdoc().add_root(layout)\n"
   ]
  },
  {
   "cell_type": "markdown",
   "id": "48e94e65-3636-45ad-a0da-2419ca19c04c",
   "metadata": {},
   "source": [
    "Q5. How can you embed a Bokeh plot into a web page or dashboard using Flask or Django?\n",
    "ANS-\n",
    "To embed a Bokeh plot into a web page or dashboard using Flask or Django, follow these steps:\n",
    "\n",
    "Create a Bokeh plot using the Bokeh library in Python.\n",
    "Save the plot as an HTML file using the output_file function of Bokeh.\n",
    "In your Flask or Django app, create a view function that renders the HTML template where the Bokeh plot will be embedded.\n",
    "In the HTML template, use the script and div functions of Bokeh to embed the plot. The script function generates the JavaScript code that will render the plot, and the div function creates a placeholder for the plot in the HTML template.\n",
    "In the view function, pass the path to the HTML file generated by Bokeh as a context variable to the template using the render_template function of Flask or Django.\n",
    "Here is an example of how to embed a Bokeh plot in a Flask app:"
   ]
  },
  {
   "cell_type": "code",
   "execution_count": null,
   "id": "4931c033-f222-454a-a671-9da075c238f7",
   "metadata": {},
   "outputs": [],
   "source": [
    "from flask import Flask, render_template\n",
    "from bokeh.plotting import figure, output_file, show\n",
    "from bokeh.embed import components\n",
    "\n",
    "app = Flask(__name__)\n",
    "\n",
    "@app.route('/')\n",
    "def index():\n",
    "    # Create a Bokeh plot\n",
    "    p = figure(title='My Bokeh Plot', x_axis_label='X-axis', y_axis_label='Y-axis')\n",
    "    p.line([1, 2, 3, 4, 5], [6, 7, 2, 4, 5])\n",
    "\n",
    "    # Save the plot as an HTML file\n",
    "    output_file('myplot.html')\n",
    "    show(p)\n",
    "\n",
    "    # Generate the JavaScript code and placeholder div for the plot\n",
    "    script, div = components(p)\n",
    "\n",
    "    # Render the template with the path to the HTML file and the script and div variables\n",
    "    return render_template('index.html', plot_path='myplot.html', script=script, div=div)\n",
    "\n",
    "if __name__ == '__main__':\n",
    "    app.run()\n"
   ]
  },
  {
   "cell_type": "code",
   "execution_count": null,
   "id": "6166c0e6-7f80-42f5-ad4a-f3599c2b3a3b",
   "metadata": {},
   "outputs": [],
   "source": []
  }
 ],
 "metadata": {
  "kernelspec": {
   "display_name": "Python 3 (ipykernel)",
   "language": "python",
   "name": "python3"
  },
  "language_info": {
   "codemirror_mode": {
    "name": "ipython",
    "version": 3
   },
   "file_extension": ".py",
   "mimetype": "text/x-python",
   "name": "python",
   "nbconvert_exporter": "python",
   "pygments_lexer": "ipython3",
   "version": "3.10.8"
  }
 },
 "nbformat": 4,
 "nbformat_minor": 5
}

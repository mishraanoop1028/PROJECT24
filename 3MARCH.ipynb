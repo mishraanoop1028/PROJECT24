{
 "cells": [
  {
   "cell_type": "code",
   "execution_count": null,
   "id": "e8b58338-a3c5-4fc7-8e82-4887834c9d5a",
   "metadata": {},
   "outputs": [],
   "source": [
    "Que 1: Name any five plots that we can plot using the Seaborn library. Also, state the uses of each plot.\n",
    "ANS-Seaborn is a data visualization library based on Matplotlib that provides a high-level interface for creating informative and attractive statistical graphics. Some of the plots that can be plotted using the Seaborn library along with their uses are:\n",
    "\n",
    "1. **Histograms**: A histogram is a graphical representation of the distribution of numerical data. Seaborn provides a `distplot()` function to create histograms that also fits a kernel density estimate (KDE) and rugplot by default.\n",
    "\n",
    "2. **Box plots**: A box plot is a graphical representation of the distribution of data based on the five number summary: minimum, first quartile, median, third quartile, and maximum. Seaborn provides a `boxplot()` function to create box plots.\n",
    "\n",
    "3. **Scatter plots**: A scatter plot is a graphical representation of the relationship between two numerical variables. Seaborn provides a `scatterplot()` function to create scatter plots.\n",
    "\n",
    "4. **Heat maps**: A heat map is a graphical representation of data where the individual values contained in a matrix are represented as colors. Seaborn provides a `heatmap()` function to create heat maps.\n",
    "\n",
    "5. **Pair plots**: A pair plot is a grid of plots that shows the pairwise relationships between the variables in a dataset. Seaborn provides a `pairplot()` function to create pair plots.\n",
    "\n",
    "These are just a few examples of the many plots that can be created using the Seaborn library. Seaborn offers a wide variety of statistical plots and is a powerful tool for data visualization and exploration."
   ]
  },
  {
   "cell_type": "code",
   "execution_count": null,
   "id": "c51a1f70-667e-4b0d-87ab-e19b6d8508e4",
   "metadata": {},
   "outputs": [],
   "source": [
    "Que 2: Load the \"fmri\" dataset using the load_dataset function of seaborn. Plot a line plot using x =\n",
    "\"timepoint\" and y = \"signal\" for different events and regions. \n",
    "\n",
    "Note:  timepoint, signal, event, and region are columns in the fmri dataset.\n",
    "\n",
    "ANS-To load the \"fmri\" dataset and plot a line plot using x = \"timepoint\" and y = \"signal\" for different events and regions, follow the below steps:\n",
    "\n",
    "Step 1: \n",
    "import seaborn as sns\n",
    "import matplotlib.pyplot as plt\n",
    "```\n",
    "\n",
    "Step 2: Load the \"fmri\" dataset\n",
    "\n",
    "```python\n",
    "fmri_data = sns.load_dataset(\"fmri\")\n",
    "```\n",
    "\n",
    "Step 3: Plot the line plot using the \"lineplot\" function of seaborn\n",
    "\n",
    "```python\n",
    "sns.lineplot(x=\"timepoint\", y=\"signal\", hue=\"event\", style=\"region\", data=fmri_data)\n",
    "plt.show()\n",
    "```\n",
    "\n",
    "The above code will plot a line plot with x-axis as \"timepoint\", y-axis as \"signal\", different colors for each \"event\", and different styles for each \"region\".\n",
    "\n",
    "Complete code: \n",
    "\n",
    "```python\n",
    "import seaborn as sns\n",
    "import matplotlib.pyplot as plt\n",
    "\n",
    "fmri_data = sns.load_dataset(\"fmri\")\n",
    "sns.lineplot(x=\"timepoint\", y=\"signal\", hue=\"event\", style=\"region\", data=fmri_data)\n",
    "plt.show()\n",
    "```\n"
   ]
  },
  {
   "cell_type": "code",
   "execution_count": null,
   "id": "1c67f58f-4560-4ed3-980a-9f395caca4db",
   "metadata": {},
   "outputs": [],
   "source": [
    "Que 3: Load the \"titanic\" dataset using the load_dataset function of seaborn. Plot two box plots using x =\n",
    "'pclass', y = 'age' and y = 'fare'.\n",
    "\n",
    "Note:  pclass, age, and fare are columns in the titanic dataset.\n",
    "ANS\n",
    "import seaborn as sns\n",
    "\n",
    "# load the titanic dataset\n",
    "titanic = sns.load_dataset('titanic')\n",
    "\n",
    "# create boxplot for 'age' vs 'pclass'\n",
    "sns.boxplot(x='pclass', y='age', data=titanic)\n",
    "\n",
    "# show the plot\n",
    "sns.show()\n",
    "\n",
    "# create boxplot for 'fare' vs 'pclass'\n",
    "sns.boxplot(x='pclass', y='fare', data=titanic)\n",
    "\n",
    "# show the plot\n",
    "sns.show()\n",
    "```\n",
    "\n",
    "In the above code, we first loaded the 'titanic' dataset using the `load_dataset()` function of Seaborn. Then, we created two box plots using the `boxplot()` function of Seaborn. The first box plot shows the relationship between 'age' and 'pclass', while the second box plot shows the relationship between 'fare' and 'pclass'. Finally, we displayed both the plots using the `show()` function of Seaborn.\n"
   ]
  },
  {
   "cell_type": "code",
   "execution_count": null,
   "id": "10a3e674-94b3-454e-b74f-fe0ee7d23fcb",
   "metadata": {},
   "outputs": [],
   "source": [
    "Que 4: Use the \"diamonds\" dataset from seaborn to plot a histogram for the 'price' column. Use the hue\n",
    "parameter for the 'cut' column of the diamonds dataset. \n",
    "ANS-\n",
    "import seaborn as sns\n",
    "\n",
    "diamonds = sns.load_dataset('diamonds')\n",
    "\n",
    "sns.histplot(data=diamonds, x='price', hue='cut', multiple='stack')\n",
    "```\n",
    "\n",
    "This will create a stacked histogram where each cut category will be represented by a different color. The `multiple='stack'` parameter ensures that the different cuts are stacked on top of each other instead of overlapping.\n"
   ]
  },
  {
   "cell_type": "code",
   "execution_count": null,
   "id": "f20a2d9f-6db9-4187-bd27-ff0fc50a5b1f",
   "metadata": {},
   "outputs": [],
   "source": [
    "Que 5: Use the \"iris\" dataset from seaborn to plot a pair plot. Use the hue parameter for the \"species\" column\n",
    "of the iris dataset. \n",
    "ANS-\n",
    "import seaborn as sns\n",
    "\n",
    "# Load the iris dataset\n",
    "iris = sns.load_dataset(\"iris\")\n",
    "\n",
    "# Plot the pair plot with hue parameter for species column\n",
    "sns.pairplot(data=iris, hue='species')\n",
    "```\n",
    "\n",
    "This code will load the \"iris\" dataset from seaborn and plot a pair plot with the hue parameter for the \"species\" column of the iris dataset. The pair plot will show the pairwise relationships between the variables of the iris dataset and how they are different for different species.\n"
   ]
  },
  {
   "cell_type": "code",
   "execution_count": null,
   "id": "68063901-4cfe-4b59-8686-72cfce040458",
   "metadata": {},
   "outputs": [],
   "source": [
    "Que 6: Use the \"flights\" dataset from seaborn to plot a heatmap.\n",
    "ANS-\n",
    "import seaborn as sns\n",
    "\n",
    "# Load the \"flights\" dataset\n",
    "flights = sns.load_dataset('flights')\n",
    "\n",
    "# Reshape the dataset to a pivot table format\n",
    "flights = flights.pivot('month', 'year', 'passengers')\n",
    "\n",
    "# Plot the heatmap\n",
    "sns.heatmap(flights, cmap='coolwarm', annot=True, fmt='d')\n",
    "```\n",
    "\n",
    "In this code, we first load the \"flights\" dataset using `sns.load_dataset()` function. We then reshape the dataset to a pivot table format using the `pivot()` function. Finally, we plot the heatmap using the `heatmap()` function from seaborn, where we provide the dataset, the color map to be used (`cmap`), and whether to annotate the heatmap with values (`annot`) and in which format (`fmt`).\n"
   ]
  },
  {
   "cell_type": "code",
   "execution_count": null,
   "id": "137691a0-27f0-43b1-b3c2-479ec98a5764",
   "metadata": {},
   "outputs": [],
   "source": []
  },
  {
   "cell_type": "code",
   "execution_count": null,
   "id": "076eebdd-52ba-4c00-9930-0a23eb242a43",
   "metadata": {},
   "outputs": [],
   "source": []
  },
  {
   "cell_type": "code",
   "execution_count": null,
   "id": "3caca2f0-300e-4434-b939-3b0aeafa1177",
   "metadata": {},
   "outputs": [],
   "source": []
  },
  {
   "cell_type": "code",
   "execution_count": null,
   "id": "20a1de66-a5ab-4864-9653-ab30f272b261",
   "metadata": {},
   "outputs": [],
   "source": []
  },
  {
   "cell_type": "code",
   "execution_count": null,
   "id": "4f78598d-718e-446b-b17c-81c7d7dbb7c3",
   "metadata": {},
   "outputs": [],
   "source": []
  },
  {
   "cell_type": "code",
   "execution_count": null,
   "id": "0c0fcad9-6055-45de-81d0-c45d673858dd",
   "metadata": {},
   "outputs": [],
   "source": []
  },
  {
   "cell_type": "code",
   "execution_count": null,
   "id": "14961938-510b-4fab-97c5-5a3ac9689636",
   "metadata": {},
   "outputs": [],
   "source": []
  },
  {
   "cell_type": "code",
   "execution_count": null,
   "id": "4d52e97a-ab8e-49b1-9ba7-f86d978f3d3c",
   "metadata": {},
   "outputs": [],
   "source": []
  },
  {
   "cell_type": "code",
   "execution_count": null,
   "id": "997af783-7d2b-4cb6-a7b0-88bf4e60f11c",
   "metadata": {},
   "outputs": [],
   "source": []
  },
  {
   "cell_type": "code",
   "execution_count": null,
   "id": "b7d2bf9c-aac0-4e2f-a1de-e5399b675d7e",
   "metadata": {},
   "outputs": [],
   "source": []
  }
 ],
 "metadata": {
  "kernelspec": {
   "display_name": "Python 3 (ipykernel)",
   "language": "python",
   "name": "python3"
  },
  "language_info": {
   "codemirror_mode": {
    "name": "ipython",
    "version": 3
   },
   "file_extension": ".py",
   "mimetype": "text/x-python",
   "name": "python",
   "nbconvert_exporter": "python",
   "pygments_lexer": "ipython3",
   "version": "3.10.8"
  }
 },
 "nbformat": 4,
 "nbformat_minor": 5
}

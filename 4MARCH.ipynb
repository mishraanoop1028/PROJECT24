{
 "cells": [
  {
   "cell_type": "markdown",
   "id": "2d72004c-46f7-48d3-9c2e-8fc48faeb23c",
   "metadata": {},
   "source": [
    "Q1. Load the \"titanic\" dataset using the load_dataset function of seaborn. Use Plotly express to plot a\n",
    "scatter plot for age and fare columns in the titanic dataset.\n",
    "ANS-\n"
   ]
  },
  {
   "cell_type": "code",
   "execution_count": null,
   "id": "7916f3a9-d816-470c-8a58-23929e559ce0",
   "metadata": {},
   "outputs": [],
   "source": [
    "import seaborn as sns\n",
    "import plotly.express as px\n",
    "\n",
    "# Load titanic dataset\n",
    "titanic_data = sns.load_dataset(\"titanic\")\n",
    "\n",
    "# Create scatter plot using Plotly Express\n",
    "scatter_plot = px.scatter(titanic_data, x=\"age\", y=\"fare\")\n",
    "\n",
    "# Show the plot\n",
    "scatter_plot.show()\n"
   ]
  },
  {
   "cell_type": "markdown",
   "id": "aa27c572-d4d3-4573-aae7-fccadb4c3707",
   "metadata": {},
   "source": [
    "Q2. Using the tips dataset in the Plotly library, plot a box plot using Plotly express."
   ]
  },
  {
   "cell_type": "code",
   "execution_count": null,
   "id": "f9d79f12-3b2b-48b9-90a9-db84be8a6a06",
   "metadata": {},
   "outputs": [],
   "source": [
    "import plotly.express as px\n",
    "tips = px.data.tips()\n",
    "\n",
    "fig = px.box(tips, x=\"day\", y=\"total_bill\")\n",
    "fig.show()\n"
   ]
  },
  {
   "cell_type": "markdown",
   "id": "fc8a17b2-3fad-4c87-904e-048d9f6c31d9",
   "metadata": {},
   "source": [
    "Q3. Using the tips dataset in the Plotly library, Plot a histogram for x= \"sex\" and y=\"total_bill\" column in\n",
    "the tips dataset. Also, use the \"smoker\" column with the pattern_shape parameter and the \"day\"\n",
    "column with the color parameter."
   ]
  },
  {
   "cell_type": "code",
   "execution_count": null,
   "id": "76ad8e22-73d8-4c51-830a-5c18acff45f7",
   "metadata": {},
   "outputs": [],
   "source": [
    "import plotly.express as px\n",
    "from plotly.subplots import make_subplots\n",
    "import plotly.graph_objs as go\n",
    "import seaborn as sns\n",
    "\n",
    "# load tips dataset from seaborn library\n",
    "tips = sns.load_dataset('tips')\n",
    "\n",
    "fig = make_subplots(rows=1, cols=1)\n",
    "\n",
    "# plot histogram\n",
    "fig.add_trace(px.histogram(tips, x=\"sex\", y=\"total_bill\", histfunc=\"sum\", nbins=10, barmode='overlay', color=\"day\", pattern_shape=\"smoker\").data[0])\n",
    "\n",
    "# update layout\n",
    "fig.update_layout(title='Histogram of Total Bill by Sex', xaxis_title='Sex', yaxis_title='Total Bill')\n",
    "\n",
    "# show plot\n",
    "fig.show()\n"
   ]
  },
  {
   "cell_type": "markdown",
   "id": "b273d3a1-c98d-4cc1-822d-ab86c86b6269",
   "metadata": {},
   "source": [
    "Q4. Using the iris dataset in the Plotly library, Plot a scatter matrix plot, using the \"species\" column for\n",
    "the color parameter.\n",
    "\n",
    "Note: Use \"sepal_length\", \"sepal_width\", \"petal_length\", \"petal_width\" columns only with the\n",
    "dimensions parameter"
   ]
  },
  {
   "cell_type": "code",
   "execution_count": null,
   "id": "ceaf8449-83a3-478a-96ac-a8a1bdfdb14f",
   "metadata": {},
   "outputs": [],
   "source": [
    "import plotly.express as px\n",
    "from sklearn.datasets import load_iris\n",
    "\n",
    "# Load the iris dataset\n",
    "iris = load_iris()\n",
    "df = pd.DataFrame(iris.data, columns=iris.feature_names)\n",
    "df['species'] = iris.target_names[iris.target]\n",
    "\n",
    "# Create the scatter matrix plot\n",
    "fig = px.scatter_matrix(df, dimensions=['sepal_length', 'sepal_width', 'petal_length', 'petal_width'], color='species')\n",
    "fig.show()\n"
   ]
  },
  {
   "cell_type": "markdown",
   "id": "f709a3cd-ce2d-433a-b537-e15bcba0a8ad",
   "metadata": {},
   "source": [
    "Q5. What is Distplot? Using Plotly express, plot a distplot"
   ]
  },
  {
   "cell_type": "markdown",
   "id": "444b65fd-e7cd-4995-b3b5-c6efea1f6703",
   "metadata": {},
   "source": [
    "Distplot is a seaborn plot that shows the distribution of a univariate set of observations, usually a continuous variable. It combines a histogram with a kernel density estimate to represent the probability density distribution of the data.\n",
    "\n",
    "Unfortunately, Plotly Express does not have a built-in distplot function, but it is possible to create a similar plot using the histogram function with a kernel density estimate trace. Here's an example:"
   ]
  },
  {
   "cell_type": "code",
   "execution_count": null,
   "id": "6cf488d9-a91e-4d69-9dc1-2774187167ce",
   "metadata": {},
   "outputs": [],
   "source": [
    "import plotly.express as px\n",
    "import seaborn as sns\n",
    "\n",
    "# Load tips dataset from seaborn\n",
    "tips = sns.load_dataset(\"tips\")\n",
    "\n",
    "# Plot distplot using Plotly Express\n",
    "fig = px.histogram(tips, x=\"total_bill\", nbins=30, opacity=0.5,\n",
    "                   marginal=\"kde\", color_discrete_sequence=[\"blue\"])\n",
    "fig.show()\n"
   ]
  },
  {
   "cell_type": "code",
   "execution_count": null,
   "id": "8575bc19-ad33-4fd4-be52-b82f99e5416b",
   "metadata": {},
   "outputs": [],
   "source": []
  },
  {
   "cell_type": "code",
   "execution_count": null,
   "id": "69a01f51-8e9d-4f5d-a879-1c453fa66531",
   "metadata": {},
   "outputs": [],
   "source": []
  },
  {
   "cell_type": "code",
   "execution_count": null,
   "id": "d4c543a5-833d-4425-bdfd-ff1c0b8aae50",
   "metadata": {},
   "outputs": [],
   "source": []
  },
  {
   "cell_type": "code",
   "execution_count": null,
   "id": "ba03eab2-5620-4f9e-8c73-c6701c895970",
   "metadata": {},
   "outputs": [],
   "source": []
  }
 ],
 "metadata": {
  "kernelspec": {
   "display_name": "Python 3 (ipykernel)",
   "language": "python",
   "name": "python3"
  },
  "language_info": {
   "codemirror_mode": {
    "name": "ipython",
    "version": 3
   },
   "file_extension": ".py",
   "mimetype": "text/x-python",
   "name": "python",
   "nbconvert_exporter": "python",
   "pygments_lexer": "ipython3",
   "version": "3.10.8"
  }
 },
 "nbformat": 4,
 "nbformat_minor": 5
}

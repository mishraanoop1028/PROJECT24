{
 "cells": [
  {
   "cell_type": "markdown",
   "id": "2251a986-24e1-441c-8a45-387d20292f31",
   "metadata": {},
   "source": [
    "# Q1. What is meant by time-dependent seasonal components?\n"
   ]
  },
  {
   "cell_type": "markdown",
   "id": "fef924fb-1322-488b-856c-c299c65678ff",
   "metadata": {},
   "source": [
    "A seasonal effect is a systematic and calendar related effect. Some examples include the sharp escalation in most Retail series which occurs around December in response to the Christmas period, or an increase in water consumption in summer due to warmer weather."
   ]
  },
  {
   "cell_type": "markdown",
   "id": "07fe487f-bf0f-44ac-86c5-1daa38df1052",
   "metadata": {},
   "source": [
    "Seasonality occurs when time series data exhibits regular and predictable patterns at time intervals that are smaller than a year. An example of a time series with seasonality is retail sales, which often increase between September to December and will decrease between January and February."
   ]
  },
  {
   "cell_type": "markdown",
   "id": "41ba1b1c-0b5a-429e-91b8-7101dfe7db02",
   "metadata": {},
   "source": [
    "# Q2. How can time-dependent seasonal components be identified in time series data?"
   ]
  },
  {
   "cell_type": "markdown",
   "id": "b023aee6-9302-426f-bff1-e80bff0314f2",
   "metadata": {},
   "source": [
    "We can use the ACF to determine if seasonality is present in a time series. For example, Yt = γ · St + ϵt. The larger the amplitude of seasonal fluctuations, the more pronounced the oscillations are in the ACF."
   ]
  },
  {
   "cell_type": "markdown",
   "id": "a5d4c971-0719-46ef-9b97-e24eb93765c0",
   "metadata": {},
   "source": [
    "Seasonality is a characteristic of a time series in which the data experiences regular and predictable changes that recur every calendar year. Any predictable fluctuation or pattern that recurs or repeats over a one-year period is said to be seasonal."
   ]
  },
  {
   "cell_type": "markdown",
   "id": "cecd2632-8cb3-4cdc-a297-9d665590a2df",
   "metadata": {},
   "source": [
    "Long-term increase or decrease in the data. The trend can be any function, such as linear or exponential, and can change direction over time. Seasonality: Repeating cycle in the series with fixed frequencies (hour of the day, week, month, year, etc.). A seasonal pattern exists of a fixed known period."
   ]
  },
  {
   "cell_type": "markdown",
   "id": "1f7b6699-15d9-404d-a918-a4385671e7fa",
   "metadata": {},
   "source": [
    "# Q3. What are the factors that can influence time-dependent seasonal components?"
   ]
  },
  {
   "cell_type": "markdown",
   "id": "4d4c0fe7-e3b7-4e3a-a36c-4a88da7b1cf5",
   "metadata": {},
   "source": [
    "The factors that are responsible for bringing about changes in a time series, also called the components of time series, are as follows: Secular Trends (or General Trends) Seasonal Movements. Cyclical Movements."
   ]
  },
  {
   "cell_type": "markdown",
   "id": "4583b44b-ec83-41f7-aa0f-3f1e4ae34e00",
   "metadata": {},
   "source": [
    "Trend component. Seasonal component. Cyclical component. Irregular component."
   ]
  },
  {
   "cell_type": "markdown",
   "id": "abb168b4-1541-47a9-81bb-f852eada93b8",
   "metadata": {},
   "source": [
    "Seasonality is a characteristic of a time series in which the data experiences regular and predictable changes that recur every calendar year. Any predictable fluctuation or pattern that recurs or repeats over a one-year period is said to be seasonal."
   ]
  },
  {
   "cell_type": "markdown",
   "id": "9e118fb5-9b11-4df8-8243-b77fdfb11cb7",
   "metadata": {},
   "source": [
    "# Q4. How are autoregression models used in time series analysis and forecasting?"
   ]
  },
  {
   "cell_type": "markdown",
   "id": "47ec7e5e-a9d0-453c-9d8f-9996a7f2601f",
   "metadata": {},
   "source": [
    "Autoregression is a time series model that uses observations from previous time steps as input to a regression equation to predict the value at the next time step. It is a very simple idea that can result in accurate forecasts on a range of time series problems."
   ]
  },
  {
   "cell_type": "markdown",
   "id": "e3d57802-653f-43be-bd1b-9418a12ca78b",
   "metadata": {},
   "source": [
    "Autoregressive models predict future values based on past values. They are widely used in technical analysis to forecast future security prices. Autoregressive models implicitly assume that the future will resemble the past"
   ]
  },
  {
   "cell_type": "markdown",
   "id": "a8107720-2630-4f8e-95cc-2139f3331f0b",
   "metadata": {},
   "source": [
    "# Q5. How do you use autoregression models to make predictions for future time points?"
   ]
  },
  {
   "cell_type": "markdown",
   "id": "28625e21-62f6-4a99-a519-7daca2063d56",
   "metadata": {},
   "source": [
    " An autoregressive (AR) model forecasts future behavior based on past behavior data. This type of analysis is used when there is a correlation between the time series values and their preceding and succeeding values. Autoregressive modeling uses only past data to predict future behavior.\n"
   ]
  },
  {
   "cell_type": "markdown",
   "id": "e548367b-b74e-4d83-bb4d-ec275286e928",
   "metadata": {},
   "source": [
    "An autoregressive model is a time-series model that describes how a particular variable's past values influence its current value. In other words, an AR model attempts to predict the next value in a series by incorporating the most recent past values and using them as input data"
   ]
  },
  {
   "cell_type": "markdown",
   "id": "4db694a7-8c48-40c7-a985-69583c3ad2d4",
   "metadata": {},
   "source": [
    "Time series forecasting occurs when you make scientific predictions based on historical time stamped data. It involves building models through historical analysis and using them to make observations and drive future strategic decision-making"
   ]
  },
  {
   "cell_type": "markdown",
   "id": "c5dede4b-17f7-4a41-bc51-8d303aa40618",
   "metadata": {},
   "source": [
    "# Q6. What is a moving average (MA) model and how does it differ from other time series models?"
   ]
  },
  {
   "cell_type": "markdown",
   "id": "fd0441a5-ddaa-4b53-88f3-e61872b4a4c8",
   "metadata": {},
   "source": [
    "In time series analysis, the moving-average model (MA model), also known as moving-average process, is a common approach for modeling univariate time series. The moving-average model specifies that the output variable is cross-correlated with a non-identical to itself random-variable."
   ]
  },
  {
   "cell_type": "markdown",
   "id": "cd4e7d0e-b604-471a-abfd-5fe52c0ed22e",
   "metadata": {},
   "source": [
    "A moving average model is used for forecasting future values, while moving average smoothing is used for estimating the trend-cycle of past values"
   ]
  },
  {
   "cell_type": "markdown",
   "id": "4df23ff0-ff40-4bfc-b733-21ec3ebb6bac",
   "metadata": {},
   "source": [
    "# Q7. What is a mixed ARMA model and how does it differ from an AR or MA model?"
   ]
  },
  {
   "cell_type": "markdown",
   "id": "8a9e6aa5-8706-4b71-8650-d79a7ed38a27",
   "metadata": {},
   "source": [
    "ARMA is the combination of the AR and MA models. ARMA models cover both aspects of AR and MA. The ARMA model predicts the future values based on both the previous values and errors. Thus ARMA has better performance than AR and MA models alone."
   ]
  },
  {
   "cell_type": "markdown",
   "id": "9917d2ae-8ab8-4df6-b261-bb486388d76b",
   "metadata": {},
   "source": [
    "ARIMA combines autoregressive features with those of moving averages. An AR(1) autoregressive process, for instance, is one in which the current value is based on the immediately preceding value, while an AR(2) process is one in which the current value is based on the previous two values."
   ]
  },
  {
   "cell_type": "code",
   "execution_count": null,
   "id": "4cb7ce28-9974-405a-8a1d-eda64bbb4011",
   "metadata": {},
   "outputs": [],
   "source": []
  }
 ],
 "metadata": {
  "kernelspec": {
   "display_name": "Python 3 (ipykernel)",
   "language": "python",
   "name": "python3"
  },
  "language_info": {
   "codemirror_mode": {
    "name": "ipython",
    "version": 3
   },
   "file_extension": ".py",
   "mimetype": "text/x-python",
   "name": "python",
   "nbconvert_exporter": "python",
   "pygments_lexer": "ipython3",
   "version": "3.10.8"
  }
 },
 "nbformat": 4,
 "nbformat_minor": 5
}

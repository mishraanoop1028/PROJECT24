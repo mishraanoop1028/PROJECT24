{
 "cells": [
  {
   "cell_type": "markdown",
   "id": "0b43b98e-1b85-43da-95fe-12ab199bc2ba",
   "metadata": {},
   "source": [
    "Q1. Pearson correlation coefficient is a measure of the linear relationship between two variables. Suppose\n",
    "you have collected data on the amount of time students spend studying for an exam and their final exam\n",
    "scores. Calculate the Pearson correlation coefficient between these two variables and interpret the result"
   ]
  },
  {
   "cell_type": "markdown",
   "id": "3da2528d-0d9f-4f85-9a2a-70e90aef33b0",
   "metadata": {},
   "source": [
    "\n",
    "\n",
    "To calculate the Pearson correlation coefficient, we need to have paired data for both variables (study time and exam score) for each student. Once we have the paired data, we can use the following formula:\n",
    "\n",
    "r = (nΣXY - ΣXΣY) / sqrt[(nΣX^2 - (ΣX)^2)(nΣY^2 - (ΣY)^2)]\n",
    "\n",
    "where:\n",
    "\n",
    "- r is the Pearson correlation coefficient\n",
    "- n is the number of paired observations\n",
    "- ΣXY is the sum of the products of the paired observations for each variable\n",
    "- ΣX is the sum of the observations for the first variable\n",
    "- ΣY is the sum of the observations for the second variable\n",
    "- ΣX^2 is the sum of the squared observations for the first variable\n",
    "- ΣY^2 is the sum of the squared observations for the second variable\n",
    "\n",
    "Once we have calculated the Pearson correlation coefficient, we can interpret the result as follows:\n",
    "\n",
    "- If r is positive, there is a positive linear relationship between the two variables. This means that as one variable increases, the other variable tends to increase as well. The closer r is to 1, the stronger the positive relationship.\n",
    "- If r is negative, there is a negative linear relationship between the two variables. This means that as one variable increases, the other variable tends to decrease. The closer r is to -1, the stronger the negative relationship.\n",
    "- If r is zero, there is no linear relationship between the two variables.\n",
    "\n",
    "Note that the Pearson correlation coefficient only measures the strength and direction of the linear relationship between two variables. It does not indicate causation, and it cannot detect non-linear relationships. Additionally, it assumes that both variables are normally distributed and that there are no outliers or influential observations in the data."
   ]
  },
  {
   "cell_type": "markdown",
   "id": "d6e1d977-d664-41b1-9e6f-3780b65d33cb",
   "metadata": {},
   "source": [
    "Q2. Spearman's rank correlation is a measure of the monotonic relationship between two variables.\n",
    "Suppose you have collected data on the amount of sleep individuals get each night and their overall job\n",
    "satisfaction level on a scale of 1 to 10. Calculate the Spearman's rank correlation between these two\n",
    "variables and interpret the result."
   ]
  },
  {
   "cell_type": "markdown",
   "id": "c6da9f38-adfc-480d-81ff-7e71a3f5c803",
   "metadata": {},
   "source": [
    "To calculate Spearman's rank correlation coefficient, we first need to rank both variables from lowest to highest values. Then, we calculate the difference between the ranks for each observation and use these differences to calculate the correlation coefficient.\n",
    "\n",
    "Suppose we have the following data:\n",
    "\n",
    "|Individuals|Amount of sleep|Job satisfaction|\n",
    "|---|---|---|\n",
    "|1|7|8|\n",
    "|2|6|6|\n",
    "|3|8|7|\n",
    "|4|5|4|\n",
    "|5|7|9|\n",
    "\n",
    "First, we rank the data:\n",
    "\n",
    "|Individuals|Amount of sleep (X)|Rank(X)|Job satisfaction (Y)|Rank(Y)|d|\n",
    "|---|---|---|---|---|---|\n",
    "|1|7|2.5|8|3|0.5|\n",
    "|2|6|1|6|1|0|\n",
    "|3|8|4|7|2|2|\n",
    "|4|5|0|4|0|0|\n",
    "|5|7|2.5|9|4|1.5|\n",
    "\n",
    "Here, we have tied ranks for individuals 1 and 5, so we take the average of the ranks for those individuals.\n",
    "\n",
    "Next, we calculate the difference between the ranks for each observation and square the differences:\n",
    "\n",
    "d = 0.5^2 + 0^2 + 2^2 + 0^2 + 1.5^2 = 7.5\n",
    "\n",
    "Finally, we calculate the Spearman's rank correlation coefficient as:\n",
    "\n",
    "r = 1 - (6Σd^2)/(n(n^2-1))\n",
    "r = 1 - (6*7.5)/(5*(5^2-1))\n",
    "r = 1 - 0.6\n",
    "r = 0.4\n",
    "\n",
    "Interpretation: The Spearman's rank correlation coefficient is 0.4, indicating a moderate positive monotonic relationship between the amount of sleep individuals get each night and their overall job satisfaction level. This means that as the amount of sleep individuals get increases, their job satisfaction level tends to increase as well, but this relationship is not necessarily linear."
   ]
  },
  {
   "cell_type": "markdown",
   "id": "1f73f304-74ba-4802-91ed-88cdecc5cb87",
   "metadata": {},
   "source": [
    "Q3. Suppose you are conducting a study to examine the relationship between the number of hours of\n",
    "exercise per week and body mass index (BMI) in a sample of adults. You collected data on both variables\n",
    "for 50 participants. Calculate the Pearson correlation coefficient and the Spearman's rank correlation\n",
    "between these two variables and compare the results."
   ]
  },
  {
   "cell_type": "markdown",
   "id": "3e03ec49-3715-4feb-b640-7fb1f393f859",
   "metadata": {},
   "source": [
    "To calculate the Pearson correlation coefficient and Spearman's rank correlation coefficient, we need to have paired data on both variables (exercise per week and BMI) for each participant. Once we have the paired data, we can use statistical software like R or Python to calculate the coefficients. \n",
    "\n",
    "Assuming we have the paired data, let's say the Pearson correlation coefficient is r = -0.62 and the Spearman's rank correlation coefficient is rho = -0.54. \n",
    "\n",
    "Interpretation:\n",
    "\n",
    "The Pearson correlation coefficient of -0.62 indicates a moderate negative linear relationship between the number of hours of exercise per week and BMI. This means that as the number of hours of exercise per week increases, the BMI tends to decrease, and vice versa.\n",
    "\n",
    "The Spearman's rank correlation coefficient of -0.54 indicates a moderate negative monotonic relationship between the number of hours of exercise per week and BMI. This means that there is a consistent pattern in the relationship between the two variables, but it may not be perfectly linear.\n",
    "\n",
    "Comparing the two coefficients, we see that they are similar in terms of direction and strength of the relationship. However, the Spearman's rank correlation coefficient may be a better choice when the relationship between the variables is not strictly linear, as it does not assume a linear relationship like the Pearson correlation coefficient does."
   ]
  },
  {
   "cell_type": "markdown",
   "id": "24b79b1a-8d23-47cc-afcd-42fd0ec6dd08",
   "metadata": {},
   "source": [
    "Q4. A researcher is interested in examining the relationship between the number of hours individuals\n",
    "spend watching television per day and their level of physical activity. The researcher collected data on\n",
    "both variables from a sample of 50 participants. Calculate the Pearson correlation coefficient between\n",
    "these two variables."
   ]
  },
  {
   "cell_type": "markdown",
   "id": "5ddf8c39-08d9-4d2c-b7d9-a6f7694bd361",
   "metadata": {},
   "source": [
    "Let's assume the researcher has the following data:\n",
    "\n",
    "Number of hours watching TV per day: [2, 3, 1, 4, 2, 3, 1, 2, 1, 3, 2, 4, 1, 2, 3, 1, 1, 2, 3, 2, 4, 2, 1, 3, 2, 1, 4, 3, 2, 1, 2, 3, 2, 2, 1, 3, 1, 2, 2, 3, 2, 1, 3, 4, 2, 1, 2, 3, 2, 4]\n",
    "\n",
    "Level of physical activity: [5, 4, 6, 3, 5, 4, 6, 5, 6, 4, 5, 3, 6, 5, 4, 6, 6, 5, 4, 5, 3, 5, 6, 4, 5, 6, 3, 4, 5, 6, 5, 4, 5, 5, 6, 4, 6, 5, 6, 5, 4, 4, 5, 4, 3, 5, 6, 4, 6, 5, 4]\n",
    "\n",
    "We can use the scipy.stats module in Python to calculate the Pearson correlation coefficient as follows"
   ]
  },
  {
   "cell_type": "code",
   "execution_count": null,
   "id": "4920cb5b-b188-46f4-86ed-488b670d66c9",
   "metadata": {},
   "outputs": [],
   "source": [
    "from scipy.stats import pearsonr\n",
    "\n",
    "tv_hours = [2, 3, 1, 4, 2, 3, 1, 2, 1, 3, 2, 4, 1, 2, 3, 1, 1, 2, 3, 2, 4, 2, 1, 3, 2, 1, 4, 3, 2, 1, 2, 3, 2, 2, 1, 3, 1, 2, 2, 3, 2, 1, 3, 4, 2, 1, 2, 3, 2, 4]\n",
    "physical_activity = [5, 4, 6, 3, 5, 4, 6, 5, 6, 4, 5, 3, 6, 5, 4, 6, 6, 5, 4, 5, 3, 5, 6, 4, 5, 6, 3, 4, 5, 6, 5, 4, 5, 5, 6, 4, 6, 5, 6, 5, 4, 4, 5, 4, 3, 5, 6, 4, 6, 5, 4]\n",
    "\n",
    "corr, p_value = pearsonr(tv_hours, physical_activity)\n",
    "print(\"Pearson correlation coefficient:\", corr)\n"
   ]
  },
  {
   "cell_type": "markdown",
   "id": "158c3a07-ff62-4acf-abae-1fdce876130d",
   "metadata": {},
   "source": [
    "Q5. A survey was conducted to examine the relationship between age and preference for a particular\n",
    "brand of soft drink. The survey results are shown below:\n",
    "    "
   ]
  },
  {
   "cell_type": "markdown",
   "id": "06371c36-eada-43d6-9eae-f01923442d00",
   "metadata": {},
   "source": [
    "There are two variables in this survey: age and preference for a particular brand of soft drink. The age variable is quantitative and the preference variable is categorical. To examine the relationship between these two variables, we can create a frequency table to show how many participants prefer each brand of soft drink within each age group. However, since there are missing values and an unclear age group for one participant, we need to clean the data first.\n",
    "\n",
    "Cleaned data:\n",
    "\n",
    "Age (Years)   | Preference\n",
    "------------- | -------------\n",
    "25            | Coke\n",
    "42            | Pepsi\n",
    "37            | Pepsi\n",
    "19            | Mountain Dew\n",
    "31            | Coke\n",
    "28            | Mountain Dew\n",
    "Unknown       | Coke\n",
    "Unknown       | Pepsi\n",
    "Unknown       | Coke\n",
    "\n",
    "Now, we can create a frequency table to examine the relationship between age and preference for a particular brand of soft drink:\n",
    "\n",
    "Age (Years)   | Coke | Pepsi | Mountain Dew\n",
    "------------- | ---- | ----- | ------------\n",
    "19            | 0    | 0     | 1\n",
    "25            | 1    | 0     | 0\n",
    "28            | 0    | 0     | 1\n",
    "31            | 1    | 0     | 0\n",
    "37            | 0    | 1     | 0\n",
    "42            | 0    | 1     | 0\n",
    "Unknown       | 2    | 1     | 0\n",
    "\n",
    "From the frequency table, we can see that among the known age groups, individuals aged 19 prefer Mountain Dew, while individuals aged 25 and 31 prefer Coke. Individuals aged 37 and 42 both prefer Pepsi. However, it's difficult to draw conclusions about the relationship between age and preference for a particular brand of soft drink due to the small sample size and missing age data."
   ]
  },
  {
   "cell_type": "code",
   "execution_count": null,
   "id": "7f9376da-fc6f-4028-8504-fa096905479f",
   "metadata": {},
   "outputs": [],
   "source": []
  },
  {
   "cell_type": "markdown",
   "id": "f336c749-7ca7-4e38-aa45-a77bd06fbf2f",
   "metadata": {},
   "source": [
    "Q6. A company is interested in examining the relationship between the number of sales calls made per day\n",
    "and the number of sales made per week. The company collected data on both variables from a sample of\n",
    "30 sales representatives. Calculate the Pearson correlation coefficient between these two variables."
   ]
  },
  {
   "cell_type": "markdown",
   "id": "4817ded5-9f42-46d4-94ba-3ac62ee31515",
   "metadata": {},
   "source": [
    "As both the number of sales calls made per day and the number of sales made per week are quantitative variables, we can calculate the Pearson correlation coefficient to examine the linear relationship between the two variables. \n",
    "\n",
    "Let's assume the Pearson correlation coefficient between the two variables is denoted by 'r'. We can use the following formula to calculate 'r':\n",
    "\n",
    "r = [n(Σxy) − (Σx)(Σy)] / [sqrt(nΣx^2 − (Σx)^2) * sqrt(nΣy^2 − (Σy)^2)]\n",
    "\n",
    "where n is the sample size, Σxy is the sum of the product of the deviations of x and y from their respective means, Σx is the sum of the deviations of x from its mean, and Σy is the sum of the deviations of y from its mean.\n",
    "\n",
    "Let's assume the following data represents the number of sales calls made per day and the number of sales made per week for the 30 sales representatives:\n",
    "\n",
    "Sales Calls per Day (x)\tSales per Week (y)\n",
    "20\t4\n",
    "16\t3\n",
    "25\t5\n",
    "30\t7\n",
    "18\t3\n",
    "24\t4\n",
    "21\t5\n",
    "19\t4\n",
    "27\t6\n",
    "23\t5\n",
    "22\t5\n",
    "15\t2\n",
    "28\t6\n",
    "17\t3\n",
    "26\t6\n",
    "20\t4\n",
    "24\t5\n",
    "16\t2\n",
    "29\t7\n",
    "22\t5\n",
    "20\t4\n",
    "21\t5\n",
    "19\t3\n",
    "25\t6\n",
    "17\t3\n",
    "28\t7\n",
    "26\t6\n",
    "18\t3\n",
    "23\t5\n",
    "21\t5\n",
    "\n",
    "First, we need to calculate the mean of x and y:\n",
    "\n",
    "mean of x = (20+16+25+30+18+24+21+19+27+23+22+15+28+17+26+20+24+16+29+22+20+21+19+25+17+28+26+18+23+21)/30 = 21.1\n",
    "mean of y = (4+3+5+7+3+4+5+4+6+5+5+2+6+3+6+4+5+2+7+5+4+5+3+6+3+7+6+3+5+5)/30 = 4.6\n",
    "\n",
    "Next, we need to calculate the deviations of x and y from their respective means:\n",
    "\n",
    "Deviation of x = x - mean of x\n",
    "Deviation of y = y - mean of y\n",
    "\n",
    "Using these deviations, we can calculate the sum of the product of the deviations of x and y from their respective means (Σxy), the sum of the deviations of x from its mean (Σx), and the sum of the deviations of y from its mean (Σy):\n",
    "\n",
    "Σxy = (20-21.1)*(4-4.6) + (16-21.1)*(3-4.6) + (25-21.1)*(5-4.6) + (30-21.1)*(7-4.6) + (18-21.1)*(3-4.6) + (24-21.1)*(4-4.6) + (21-21.1)*(5-4.6) + (19-21.1)*(4-4.6) + (27-21.1)*(6-4.6) + (23-21.1)*(5-4.6) + (22-21.1)*(5-4.6) + (15-21.1)*(2-4"
   ]
  },
  {
   "cell_type": "code",
   "execution_count": null,
   "id": "4b3da68e-a1ce-4fe8-b13f-46705ecb74b3",
   "metadata": {},
   "outputs": [],
   "source": []
  }
 ],
 "metadata": {
  "kernelspec": {
   "display_name": "Python 3 (ipykernel)",
   "language": "python",
   "name": "python3"
  },
  "language_info": {
   "codemirror_mode": {
    "name": "ipython",
    "version": 3
   },
   "file_extension": ".py",
   "mimetype": "text/x-python",
   "name": "python",
   "nbconvert_exporter": "python",
   "pygments_lexer": "ipython3",
   "version": "3.10.8"
  }
 },
 "nbformat": 4,
 "nbformat_minor": 5
}

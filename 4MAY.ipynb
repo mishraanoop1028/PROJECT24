{
 "cells": [
  {
   "cell_type": "markdown",
   "id": "3e0bceaa-9d4f-4881-8499-77f37760e401",
   "metadata": {},
   "source": [
    "Q1. What is a time series, and what are some common applications of time series analysis?"
   ]
  },
  {
   "cell_type": "markdown",
   "id": "b8ea9e9a-9dab-44e1-b4b0-213a750db418",
   "metadata": {},
   "source": [
    "Time series analysis is used for non-stationary data—things that are constantly fluctuating over time or are affected by time. Industries like finance, retail, and economics frequently use time series analysis because currency and sales are always changing."
   ]
  },
  {
   "cell_type": "markdown",
   "id": "63bc3f99-ce45-4a28-bfee-3087985ca3a0",
   "metadata": {},
   "source": [
    "Time series in Financial and Business Domain\n",
    " \n",
    "\n",
    "Most financial, investment and business decisions are taken into consideration on the basis of future changes and demands forecasts in the financial domain."
   ]
  },
  {
   "cell_type": "markdown",
   "id": "b64b84a1-543a-4669-9e52-e41200b5de34",
   "metadata": {},
   "source": [
    "Time series in Medical Domain\n",
    " \n",
    "\n",
    "Medicine has evolved as a data-driven field and continues to contribute in time series analysis to human knowledge with enormous developments. \n",
    "\n",
    " "
   ]
  },
  {
   "cell_type": "markdown",
   "id": "085b8cb5-43ff-4674-9141-2700c1047fb0",
   "metadata": {},
   "source": [
    "Time Series in Astronomy\n",
    " \n",
    "\n",
    "One of the contemporary and modern applications where time series plays a significant role are different areas of astronomy and astrophysics, \n",
    "\n",
    "  \n",
    "\n",
    "Being specific in its domain, astronomy hugely relies on plotting objects, trajectories and accurate measurements, and due to the same, astronomical experts are proficient in time series in calibrating instruments and studying objects of their interest. "
   ]
  },
  {
   "cell_type": "markdown",
   "id": "e9c74e20-51f0-49ad-8f35-f26b3803f52d",
   "metadata": {},
   "source": [
    "# Q2. What are some common time series patterns, and how can they be identified and interpreted?"
   ]
  },
  {
   "cell_type": "markdown",
   "id": "0fa54356-114b-4ffa-bdaa-12756cd4b7f7",
   "metadata": {},
   "source": [
    "There are three types of time series patterns: trend, seasonal, and cyclic.\n",
    ", we will first review techniques used to identify patterns in time series data (such as smoothing and curve fitting techniques and autocorrelations), then we will introduce a general class of models that can be used to represent time series data and generate predictions (autoregressive and moving average models). Finally, we will review some simple but commonly used modeling and forecasting techniques based on linear regression. For more information see the topics below.\n",
    "There are two main goals of time series analysis: (a) identifying the nature of the phenomenon represented by the sequence of observations, and (b) forecasting (predicting future values of the time series variable). Both of these goals require that the pattern of observed time series data is identified and more or less formally described. \n",
    "Identifying Patterns in Time Series Data\n",
    "Systematic pattern and random noise\n",
    "Two general aspects of time series patterns\n",
    "Trend Analysis\n",
    "Analysis of Seasonality\n"
   ]
  },
  {
   "cell_type": "markdown",
   "id": "9a40ccb8-4419-46ea-b7f3-03dadbf8279e",
   "metadata": {},
   "source": [
    "# Q3. How can time series data be preprocessed before applying analysis techniques?"
   ]
  },
  {
   "cell_type": "markdown",
   "id": "3861a4c9-548c-4953-8e21-a304f1e39e93",
   "metadata": {},
   "source": [
    "In summary, we have done a few things to convert our data into a time series object:\n",
    "converted the Month column from strings to datetime;\n",
    "set the transformed datetime column as the index;\n",
    "extracted year, month and weekday from the index and stored in new columns.\n",
    "-Preprocessing steps for time series data. Structuring time-series data, finding the missing values, denoising the features, and finding the outliers present in the dataset.\n"
   ]
  },
  {
   "cell_type": "markdown",
   "id": "ac5c5322-014a-4ec2-98b3-ac00f2a83be2",
   "metadata": {},
   "source": [
    "Time series analysis is a specific way of analyzing a sequence of data points collected over an interval of time. In time series analysis, analysts record data points at consistent intervals over a set period of time rather than just recording the data points intermittently or randomly."
   ]
  },
  {
   "cell_type": "markdown",
   "id": "a3c18292-cf13-473d-a900-f3a1a436dd93",
   "metadata": {},
   "source": [
    " # Q4. How can time series forecasting be used in business decision-making, and what are some common¶ challenges and limitations?"
   ]
  },
  {
   "cell_type": "markdown",
   "id": "788cc007-6ee7-4d23-97fb-4aafa0f4c36f",
   "metadata": {},
   "source": [
    "Time series analysis helps organizations understand the underlying causes of trends or systemic patterns over time. Using data visualizations, business users can see seasonal trends and dig deeper into why these trends occur. With modern analytics platforms, these visualizations can go far beyond line graphs."
   ]
  },
  {
   "cell_type": "markdown",
   "id": "d62de7a2-6a5a-4366-af77-e35f06f37cc6",
   "metadata": {},
   "source": [
    "Time series forecasting makes predictions for future data and outcomes based on time-stamped past data collected over specified intervals of time. Unlike other data, time series data can show clear changes over time with an extensive data set."
   ]
  },
  {
   "cell_type": "markdown",
   "id": "cb0eb75a-a127-4d63-9539-92744b4a4b09",
   "metadata": {},
   "source": [
    "It can suffer from generalization from a single study where more data points and models were warranted. Human error could misidentify the correct data model, which can have a snowballing effect on the output. It could also be difficult to obtain the appropriate data points."
   ]
  },
  {
   "cell_type": "markdown",
   "id": "d0a708b1-14a5-4337-bdf3-25c72ff796a2",
   "metadata": {},
   "source": [
    "# Q5. What is ARIMA modelling, and how can it be used to forecast time series data?"
   ]
  },
  {
   "cell_type": "markdown",
   "id": "b27a3cd2-6c23-40da-b3e9-9fbb64a677c1",
   "metadata": {},
   "source": [
    "ARIMA is a form of regression analysis that indicates the strength of a dependent variable relative to other changing variables. The final objective of the model is to predict future time series movement by examining the differences between values in the series instead of through actual values"
   ]
  },
  {
   "cell_type": "markdown",
   "id": "4e526302-db19-4830-b8ee-c6a37fd1cbea",
   "metadata": {},
   "source": [
    "ARIMA is a method for forecasting or predicting future outcomes based on a historical time series. It is based on the statistical concept of serial correlation, where past data points influence future data points."
   ]
  },
  {
   "cell_type": "markdown",
   "id": "598b3d09-5698-4317-8943-67d1aa7e83e6",
   "metadata": {},
   "source": [
    "ARIMA models use differencing to convert a non-stationary time series into a stationary one, and then predict future values from historical data. These models use “auto” correlations and moving averages over residual errors in the data to forecast future values"
   ]
  },
  {
   "cell_type": "markdown",
   "id": "43d27ea3-3ac7-481a-98ac-57889cba2f57",
   "metadata": {},
   "source": [
    "# Q6. How do Autocorrelation Function (ACF) and Partial Autocorrelation Function (PACF) plots help in identifying the order of ARIMA models?"
   ]
  },
  {
   "cell_type": "markdown",
   "id": "eb18cae7-de1a-4ac8-8061-efa29913ddd0",
   "metadata": {},
   "source": [
    "ACF and PACF plots of AR and MA models are very straight forward. However, for real life times series data set, some ACF and PACF plots are ambiguous"
   ]
  },
  {
   "cell_type": "markdown",
   "id": "660be54c-3123-477d-92e9-3da075d4cef5",
   "metadata": {},
   "source": [
    "The same concept of ARMA is applied in ARIMA model as well. The only difference between ARMA and ARIMA is the differencing (d) [ ARMA(p,q) vs ARIMA(p,d,q)]. Let’s say we have ARMA(1,1) model. If the time series data need differencing to attain the seasonality, then it should be differenced. Then the model will be ARIMA(1,1,1).\n",
    "\n"
   ]
  },
  {
   "cell_type": "markdown",
   "id": "788ccab8-8a6a-4bbf-a253-2d7e802e3398",
   "metadata": {},
   "source": [
    "An AR signature corresponds to a PACF plot displaying a sharp cut-off and a more slowly decaying ACF; An MA signature corresponds to an ACF plot displaying a sharp cut-off and a PACF plot that decays more slowly."
   ]
  },
  {
   "cell_type": "markdown",
   "id": "fd78a3f6-aa5f-4872-b73b-04e1084e3eb4",
   "metadata": {},
   "source": [
    "Autocorrelation function (ACF). At lag k, this is the correlation between series values that are k intervals apart. Partial autocorrelation function (PACF). At lag k, this is the correlation between series values that are k intervals apart, accounting for the values of the intervals between."
   ]
  },
  {
   "cell_type": "markdown",
   "id": "c158194a-2624-40c3-aae0-26fc180c0e88",
   "metadata": {},
   "source": [
    "To define a MA process, we expect the opposite from the ACF and PACF plots, meaning that: the ACF should show a sharp drop after a certain q number of lags while PACF should show a geometric or gradual decreasing trend."
   ]
  },
  {
   "cell_type": "markdown",
   "id": "1c410e72-03c6-4209-806c-0c8b0ac14226",
   "metadata": {},
   "source": [
    "# Q7. What are the assumptions of ARIMA models, and how can they be tested for in practice?"
   ]
  },
  {
   "cell_type": "markdown",
   "id": "2b1f6e57-2491-45a2-9055-41470fd8d6df",
   "metadata": {},
   "source": [
    "4.1 The autoregressive-moving average (ARMA) class of models relies on the assumption that the underlying process is weakly stationary, which restricts the mean and variance to be constant and requires the autocovariances to depend only on the time lag."
   ]
  },
  {
   "cell_type": "markdown",
   "id": "7ba349dd-355f-4e25-bdce-3c27c0d6310f",
   "metadata": {},
   "source": [
    "Evaluate an ARIMA Model\n",
    "Split the dataset into training and test sets.\n",
    "Walk the time steps in the test dataset. a. Train an ARIMA model. b. Make a one-step prediction. c. Store prediction; get and store actual observation.\n",
    "Calculate error score for predictions compared to expected values."
   ]
  },
  {
   "cell_type": "markdown",
   "id": "540b11d0-52f8-44d1-a085-2d6b9484df59",
   "metadata": {},
   "source": [
    "# Q8. Suppose you have monthly sales data for a retail store for the past three years. Which type of time series model would you recommend for forecasting future sales, and why?"
   ]
  },
  {
   "cell_type": "markdown",
   "id": "c8f99d24-415d-4fe8-8aa7-ba95559ccdde",
   "metadata": {},
   "source": [
    "The formula is: sales forecast = estimated amount of customers x average value of customer purchases. New business approach: This method is for new businesses and small startups that don't have any historical data. It uses sales forecasts of a similar business that sells similar products"
   ]
  },
  {
   "cell_type": "markdown",
   "id": "f4fea016-6c49-4647-bdbb-f8e26add7eef",
   "metadata": {},
   "source": [
    "Keep in mind that your sales forecast is an estimate of the number of goods and services you believe you can sell over a period of time. This will also include the cost to produce and sell those goods and services, as well as the estimated profit you’ll come away with.\n",
    "\n",
    "We’ll dive into specific methods, assumptions, and questions you’ll need to ask in order to build a viable sales forecast. But to start, here are the general steps you’ll need to take to create a sales forecast:\n",
    "\n",
    "List out the goods and services you sell Estimate how much of each you expect to sell Define the unit price or dollar value of each good or service sold Multiply the number sold by the price Determine how much it will cost to produce and sell each good or service Multiply this cost by the estimated sales volume Subtract the total cost from the total sales This is a super basic rundown of what is included in your sales forecast to give you an idea of what to expect. For example, you may find the need to aggregate similar items into unified categories, if you sell a large variety of items. And if at all possible, try to keep your forecasted items grouped similarly to how they appear on your accounting statements to make updates easier."
   ]
  },
  {
   "cell_type": "markdown",
   "id": "997a09b4-d648-4d3d-8a0d-27549b3c7855",
   "metadata": {},
   "source": [
    "# Q9. What are some of the limitations of time series analysis? Provide an example of a scenario where the limitations of time series analysis may be particularly relevant."
   ]
  },
  {
   "cell_type": "markdown",
   "id": "b80c4c72-ea15-4c95-8c58-1ff9a2e867e4",
   "metadata": {},
   "source": [
    "It can suffer from generalization from a single study where more data points and models were warranted. Human error could misidentify the correct data model, which can have a snowballing effect on the output. It could also be difficult to obtain the appropriate data points."
   ]
  },
  {
   "cell_type": "markdown",
   "id": "152b62c3-b840-433d-8f8d-44d3611a67e4",
   "metadata": {},
   "source": [
    "Time series analysis also suffers from a number of weaknesses, including problems with generalization from a single study, difficulty in obtaining appropriate measures, and problems with accurately identifying the correct model to represent the data."
   ]
  },
  {
   "cell_type": "markdown",
   "id": "374f0a85-66a8-42cf-bca4-72431543d50f",
   "metadata": {},
   "source": [
    "Examples of time series analysis in action include: Weather data. Rainfall measurements. Temperature readings."
   ]
  },
  {
   "cell_type": "code",
   "execution_count": null,
   "id": "6d302703-9a48-4262-bdae-0dc4e7e9dc17",
   "metadata": {},
   "outputs": [],
   "source": [
    "# Q10. Explain the difference between a stationary and non-stationary time series. How does the stationarity of a time series affect the choice of forecasting model?"
   ]
  },
  {
   "cell_type": "code",
   "execution_count": null,
   "id": "2d16427d-b691-4219-8fe7-9decf0cdf9d0",
   "metadata": {},
   "outputs": [],
   "source": []
  },
  {
   "cell_type": "code",
   "execution_count": null,
   "id": "8c99178f-0340-4175-8148-26dcf1442221",
   "metadata": {},
   "outputs": [],
   "source": []
  }
 ],
 "metadata": {
  "kernelspec": {
   "display_name": "Python 3 (ipykernel)",
   "language": "python",
   "name": "python3"
  },
  "language_info": {
   "codemirror_mode": {
    "name": "ipython",
    "version": 3
   },
   "file_extension": ".py",
   "mimetype": "text/x-python",
   "name": "python",
   "nbconvert_exporter": "python",
   "pygments_lexer": "ipython3",
   "version": "3.10.8"
  }
 },
 "nbformat": 4,
 "nbformat_minor": 5
}

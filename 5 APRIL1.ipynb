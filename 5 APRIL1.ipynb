{
 "cells": [
  {
   "cell_type": "markdown",
   "id": "a77921ab-94d0-4ced-8442-0cfc3b1f8cd1",
   "metadata": {},
   "source": [
    "You are a data scientist working for a healthcare company, and you have been tasked with creating a\n",
    "decision tree to help identify patients with diabetes based on a set of clinical variables. You have been\n",
    "given a dataset (diabetes.csv) with the following variables:"
   ]
  },
  {
   "cell_type": "code",
   "execution_count": null,
   "id": "e170da3d-272c-4174-99ba-05e20ab0e0a1",
   "metadata": {},
   "outputs": [],
   "source": [
    "import pandas as pd\n",
    "import numpy as np\n",
    "import matplotlib.pyplot as plt\n",
    "import seaborn as sns\n",
    "\n",
    "df = pd.read_csv('diabetes.csv')\n"
   ]
  },
  {
   "cell_type": "code",
   "execution_count": null,
   "id": "52554992-059c-40f0-bb25-aa18db0327aa",
   "metadata": {},
   "outputs": [],
   "source": [
    "print(df.info())\n"
   ]
  },
  {
   "cell_type": "code",
   "execution_count": null,
   "id": "30319a06-9d2f-4e9a-918c-e6cd38994233",
   "metadata": {},
   "outputs": [],
   "source": [
    "print(df.describe())\n"
   ]
  },
  {
   "cell_type": "code",
   "execution_count": null,
   "id": "52e764cb-eb49-4aee-ae15-691a97789fcd",
   "metadata": {},
   "outputs": [],
   "source": [
    "import pandas as pd\n",
    "import numpy as np\n",
    "import matplotlib.pyplot as plt\n",
    "\n",
    "# Load the dataset\n",
    "df = pd.read_csv(\"diabetes.csv\")\n",
    "\n",
    "# Check for missing values\n",
    "print(df.isnull().sum())\n",
    "\n",
    "# Check for outliers using box plots\n",
    "fig, axs = plt.subplots(3, 3, figsize=(15,15))\n",
    "axs = axs.flatten()\n",
    "\n",
    "for i, col in enumerate(df.columns[:-1]):\n",
    "    axs[i].boxplot(df[col])\n",
    "    axs[i].set_title(col)\n",
    "    \n",
    "plt.show()\n"
   ]
  },
  {
   "cell_type": "code",
   "execution_count": null,
   "id": "d4be661a-5e87-44fa-9ce9-6d6967309414",
   "metadata": {},
   "outputs": [],
   "source": [
    "# Remove outliers using the IQR method\n",
    "Q1 = df.quantile(0.25)\n",
    "Q3 = df.quantile(0.75)\n",
    "IQR = Q3 - Q1\n",
    "\n",
    "df = df[~((df < (Q1 - 1.5 * IQR)) |(df > (Q3 + 1.5 * IQR))).any(axis=1)]\n"
   ]
  },
  {
   "cell_type": "code",
   "execution_count": null,
   "id": "8a86c19d-d5e1-44ec-bbc4-e1c4cbf5e626",
   "metadata": {},
   "outputs": [],
   "source": [
    "# Transform the 'Pregnancies' variable into a categorical variable\n",
    "bins = [0, 1, 3, 6, 9, np.inf]\n",
    "labels = ['0', '1-3', '4-6', '7-9', '10+']\n",
    "df['Pregnancies'] = pd.cut(df['Pregnancies'], bins=bins, labels=labels, include_lowest=True)\n",
    "\n",
    "# Convert the categorical variables into dummy variables\n",
    "df = pd.get_dummies(df, columns=['Pregnancies'], prefix=['Preg'])\n"
   ]
  },
  {
   "cell_type": "code",
   "execution_count": null,
   "id": "491517b5-8c2d-4906-9396-a898166c188b",
   "metadata": {},
   "outputs": [],
   "source": [
    "# Standardize the numerical variables\n",
    "cols = ['Glucose', 'BloodPressure', 'SkinThickness', 'Insulin', 'BMI', 'DiabetesPedigreeFunction', 'Age']\n",
    "df[cols] = (df[cols] - df[cols].mean()) / df[cols].std()\n"
   ]
  },
  {
   "cell_type": "code",
   "execution_count": null,
   "id": "bc522e22-7df8-45dd-80ac-a6eff8da06cc",
   "metadata": {},
   "outputs": [],
   "source": [
    "# Separate the independent and dependent variables\n",
    "X = df.drop('Outcome', axis=1)\n",
    "y = df['Outcome']\n"
   ]
  },
  {
   "cell_type": "code",
   "execution_count": null,
   "id": "211464fc-2a66-4eb1-ae52-ca0284dcdfa6",
   "metadata": {},
   "outputs": [],
   "source": [
    "from sklearn.model_selection import train_test_split\n",
    "\n",
    "# Split the dataset into a training set and a test set\n",
    "X_train, X_test, y_train, y_test = train_test_split(X, y, test_size=0.3, random_state=42)\n"
   ]
  },
  {
   "cell_type": "code",
   "execution_count": null,
   "id": "c839bd7d-7c3b-4880-a8e6-b95842aa1bc5",
   "metadata": {},
   "outputs": [],
   "source": [
    "from sklearn.tree import DecisionTreeClassifier\n",
    "\n",
    "# Initialize a decision tree classifier\n",
    "tree = DecisionTreeClassifier(random_state=42)\n"
   ]
  },
  {
   "cell_type": "code",
   "execution_count": null,
   "id": "050464f6-7ef8-4648-acf2-85d20d9f528e",
   "metadata": {},
   "outputs": [],
   "source": [
    "from sklearn.model_selection import GridSearchCV\n",
    "\n",
    "# Define the parameter grid\n",
    "param_grid = {'max_depth': [3, 5, 7, 9, 11],\n",
    "              'min_samples_split': [2, 5, 10, 20, 30],\n",
    "              'min_samples_leaf': [1, 2, 3, 4, 5]}\n",
    "\n",
    "# Perform grid search with cross-validation\n",
    "grid_search = GridSearchCV(tree, param_grid, cv=5, scoring='accuracy')\n",
    "grid_search.fit(X_train, y_train)\n",
    "\n",
    "# Get the best hyperparameters and the corresponding accuracy score\n",
    "best_params = grid_search.best_params_\n",
    "best_score = grid_search.best_score_\n",
    "\n",
    "print(f\"Best hyperparameters: {best_params}\")\n",
    "print(f\"Best accuracy score: {best_score:.3f}\")\n"
   ]
  },
  {
   "cell_type": "code",
   "execution_count": null,
   "id": "497f723a-8672-4dd6-8b66-36fc05614fdf",
   "metadata": {},
   "outputs": [],
   "source": [
    "# Train the final decision tree model with the best hyperparameters\n",
    "tree = DecisionTreeClassifier(**best_params, random_state=42)\n",
    "tree.fit(X_train, y_train)\n"
   ]
  },
  {
   "cell_type": "code",
   "execution_count": null,
   "id": "2d9da0c1-b553-4ffa-ba63-8d228ea03c91",
   "metadata": {},
   "outputs": [],
   "source": [
    "from sklearn.metrics import accuracy_score, precision_score, recall_score, f1_score, confusion_matrix, roc_curve, roc_auc_score\n",
    "\n",
    "# Make predictions on the test set\n",
    "y_pred = tree.predict(X_test)\n",
    "\n",
    "# Compute performance metrics\n",
    "accuracy = accuracy_score(y_test, y_pred)\n",
    "precision = precision_score(y_test, y_pred)\n",
    "recall = recall_score(y_test, y_pred)\n",
    "f1 = f1_score(y_test, y_pred)\n",
    "\n",
    "# Compute confusion matrix\n",
    "tn, fp, fn, tp = confusion_matrix(y_test, y_pred).ravel()\n",
    "\n",
    "# Compute ROC curve and AUC score\n",
    "fpr, tpr, thresholds = roc_curve(y_test, tree.predict_proba(X_test)[:, 1])\n",
    "auc = roc_auc_score(y_test, tree.predict_proba(X_test)[:, 1])\n",
    "\n",
    "# Print the performance metrics\n",
    "print(f\"Accuracy: {accuracy:.3f}\")\n",
    "print(f\"Precision: {precision:.3f}\")\n",
    "print(f\"Recall: {recall:.3f}\")\n",
    "print(f\"F1 score: {f1:.3f}\")\n",
    "print(f\"Confusion matrix: [[{tn} {fp}], [{fn} {tp}]]\")\n",
    "print(f\"AUC score: {auc:.3f}\")\n"
   ]
  },
  {
   "cell_type": "code",
   "execution_count": null,
   "id": "71518e42-f412-4b39-a39d-45b563d1da17",
   "metadata": {},
   "outputs": [],
   "source": [
    "import matplotlib.pyplot as plt\n",
    "\n",
    "# Plot ROC curve\n",
    "plt.plot(fpr, tpr, label=f\"AUC = {auc:.3f}\")\n",
    "plt.plot([0, 1], [0, 1], 'k--')\n",
    "plt.xlabel('False Positive Rate')\n",
    "plt.ylabel('True Positive Rate')\n",
    "plt.title('ROC Curve')\n",
    "plt.legend()\n",
    "plt.show()\n"
   ]
  },
  {
   "cell_type": "code",
   "execution_count": null,
   "id": "0302dd55-58ee-438e-9536-829e89e7a816",
   "metadata": {},
   "outputs": [],
   "source": [
    "DecisionTreeClassifier(ccp_alpha=0.0, class_weight=None, criterion='gini',\n",
    "                       max_depth=4, max_features=None, max_leaf_nodes=None,\n",
    "                       min_impurity_decrease=0.0, min_impurity_split=None,\n",
    "                       min_samples_leaf=10, min_samples_split=2,\n",
    "                       min_weight_fraction_leaf=0.0, presort='deprecated',\n",
    "                       random_state=None, splitter='best')\n"
   ]
  },
  {
   "cell_type": "code",
   "execution_count": null,
   "id": "3841b9b4-e728-4851-8697-24fd98ad0228",
   "metadata": {},
   "outputs": [],
   "source": []
  },
  {
   "cell_type": "code",
   "execution_count": null,
   "id": "bf40bdd4-f9b3-438b-8e40-a7cc26d67baf",
   "metadata": {},
   "outputs": [],
   "source": []
  },
  {
   "cell_type": "code",
   "execution_count": null,
   "id": "72c9980b-ffda-4bac-b2cf-8f1c62230c17",
   "metadata": {},
   "outputs": [],
   "source": []
  },
  {
   "cell_type": "code",
   "execution_count": null,
   "id": "7b33ddfa-5d86-4c4f-b364-ac381b409431",
   "metadata": {},
   "outputs": [],
   "source": []
  },
  {
   "cell_type": "code",
   "execution_count": null,
   "id": "1b57ab5d-e7ac-4f47-bc22-b22a2f7b8448",
   "metadata": {},
   "outputs": [],
   "source": []
  },
  {
   "cell_type": "code",
   "execution_count": null,
   "id": "41976993-7ed8-4ea8-8939-10b6ae8fbba0",
   "metadata": {},
   "outputs": [],
   "source": []
  },
  {
   "cell_type": "code",
   "execution_count": null,
   "id": "ff9911e6-163e-4d0a-a1b8-69c1e25e1348",
   "metadata": {},
   "outputs": [],
   "source": []
  },
  {
   "cell_type": "code",
   "execution_count": null,
   "id": "d8ef114c-c712-4ed6-bc3a-c00a4ca86e35",
   "metadata": {},
   "outputs": [],
   "source": []
  }
 ],
 "metadata": {
  "kernelspec": {
   "display_name": "Python 3 (ipykernel)",
   "language": "python",
   "name": "python3"
  },
  "language_info": {
   "codemirror_mode": {
    "name": "ipython",
    "version": 3
   },
   "file_extension": ".py",
   "mimetype": "text/x-python",
   "name": "python",
   "nbconvert_exporter": "python",
   "pygments_lexer": "ipython3",
   "version": "3.10.8"
  }
 },
 "nbformat": 4,
 "nbformat_minor": 5
}

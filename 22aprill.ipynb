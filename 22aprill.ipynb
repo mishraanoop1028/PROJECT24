{
 "cells": [
  {
   "cell_type": "markdown",
   "id": "cde5a524-fa5f-4e42-9c97-ec5f14325d09",
   "metadata": {},
   "source": [
    "Q1. Write a Python code to implement the KNN classifier algorithm on load_iris dataset in\n",
    "sklearn.datasets."
   ]
  },
  {
   "cell_type": "code",
   "execution_count": null,
   "id": "86ab0002-c6b7-4203-940c-d404d04210e4",
   "metadata": {},
   "outputs": [],
   "source": [
    "import pandas as pd\n",
    "import numpy as np\n",
    "import matplotlib.pyplot as plt\n",
    "import seaborn as sns"
   ]
  },
  {
   "cell_type": "code",
   "execution_count": null,
   "id": "e595ad2b-ac1c-4b19-b107-e964a7216230",
   "metadata": {},
   "outputs": [],
   "source": [
    "\n",
    "from sklearn.datasets import load_iris\n",
    "from sklearn.model_selection import train_test_split\n",
    "from sklearn.neighbors import KNeighborsClassifier\n",
    "from sklearn.metrics import accuracy_score"
   ]
  },
  {
   "cell_type": "code",
   "execution_count": null,
   "id": "02d96abd-654b-4978-81b0-b148f9e67453",
   "metadata": {},
   "outputs": [],
   "source": [
    "iris = load_iris()"
   ]
  },
  {
   "cell_type": "code",
   "execution_count": null,
   "id": "9b1b09c3-3084-4f7b-bf88-387e6c1ff2ee",
   "metadata": {},
   "outputs": [],
   "source": [
    "\n",
    "X_train, X_test, y_train, y_test = train_test_split(iris.data, iris.target, test_size=0.2, random_state=42)"
   ]
  },
  {
   "cell_type": "code",
   "execution_count": null,
   "id": "4ddd3d3f-c4fa-4bbd-973e-78dd89fa7a87",
   "metadata": {},
   "outputs": [],
   "source": [
    "knn = KNeighborsClassifier(n_neighbors=3)"
   ]
  },
  {
   "cell_type": "code",
   "execution_count": null,
   "id": "f4ddf8e3-26db-4dda-92c1-fa0bdc1aab85",
   "metadata": {},
   "outputs": [],
   "source": [
    "knn.fit(X_train, y_train)"
   ]
  },
  {
   "cell_type": "code",
   "execution_count": null,
   "id": "2c648c6b-18f8-4bf9-b952-e8d835bbd690",
   "metadata": {},
   "outputs": [],
   "source": [
    "y_pred = knn.predict(X_test)"
   ]
  },
  {
   "cell_type": "code",
   "execution_count": null,
   "id": "abce1f35-3324-43d1-9eb1-b83090c46295",
   "metadata": {},
   "outputs": [],
   "source": [
    "accuracy = accuracy_score(y_test, y_pred)"
   ]
  },
  {
   "cell_type": "code",
   "execution_count": null,
   "id": "fd22439c-6c00-49bb-b9da-2b88f7dd51db",
   "metadata": {},
   "outputs": [],
   "source": [
    "print(f\"The accuracy of the KNN classifier algorithm on the iris dataset is: {accuracy}\")\n"
   ]
  },
  {
   "cell_type": "markdown",
   "id": "96858969-e805-4b7b-852f-2cdbcdc0836f",
   "metadata": {},
   "source": [
    "Q2. Write a Python code to implement the KNN regressor algorithm on load_boston dataset in\n",
    "sklearn.datasets."
   ]
  },
  {
   "cell_type": "code",
   "execution_count": null,
   "id": "cb713ec0-9b2c-4b01-8105-63608a33460d",
   "metadata": {},
   "outputs": [],
   "source": [
    "boston = load_boston()\n"
   ]
  },
  {
   "cell_type": "code",
   "execution_count": null,
   "id": "7723d4fa-c219-46f0-9fb9-ae3a1ff650ca",
   "metadata": {},
   "outputs": [],
   "source": [
    "X_train, X_test, y_train, y_test = train_test_split(boston.data, boston.target, test_size=0.2, random_state=42)\n",
    "\n"
   ]
  },
  {
   "cell_type": "code",
   "execution_count": null,
   "id": "bc230bd1-5034-470a-a41d-e22c97890496",
   "metadata": {},
   "outputs": [],
   "source": [
    "knn = KNeighborsRegressor(n_neighbors=3)"
   ]
  },
  {
   "cell_type": "code",
   "execution_count": null,
   "id": "f96d81a0-a5e6-46a6-b49f-8f2159fa099b",
   "metadata": {},
   "outputs": [],
   "source": [
    "knn.fit(X_train, y_train)"
   ]
  },
  {
   "cell_type": "code",
   "execution_count": null,
   "id": "fe295e6e-6456-4924-a700-dcc2a773db06",
   "metadata": {},
   "outputs": [],
   "source": [
    "y_pred = knn.predict(X_test)"
   ]
  },
  {
   "cell_type": "code",
   "execution_count": null,
   "id": "a621e81a-5f1c-46a1-bd6a-4c83c33346dc",
   "metadata": {},
   "outputs": [],
   "source": [
    "mse = mean_squared_error(y_test, y_pred)"
   ]
  },
  {
   "cell_type": "code",
   "execution_count": null,
   "id": "c3baa950-a067-41dd-a6c4-d8e0b79c07ca",
   "metadata": {},
   "outputs": [],
   "source": [
    "print(f\"The mean squared error of the KNN regressor algorithm on the boston dataset is: {mse}\")"
   ]
  },
  {
   "cell_type": "markdown",
   "id": "1c722795-5737-44c6-947c-5b6266fdc5c4",
   "metadata": {},
   "source": [
    "Q3. Write a Python code snippet to find the optimal value of K for the KNN classifier algorithm using\n",
    "cross-validation on load_iris dataset in sklearn.datasets."
   ]
  },
  {
   "cell_type": "code",
   "execution_count": null,
   "id": "08439d39-ccc1-4638-9791-43a0b712d9f7",
   "metadata": {},
   "outputs": [],
   "source": [
    "iris = load_iris()"
   ]
  },
  {
   "cell_type": "code",
   "execution_count": null,
   "id": "472aebe4-c6c0-4a74-8bb8-5742cc45d7fa",
   "metadata": {},
   "outputs": [],
   "source": [
    "X_train, X_test, y_train, y_test = train_test_split(iris.data, iris.target, test_size=0.2, random_state=42)\n"
   ]
  },
  {
   "cell_type": "code",
   "execution_count": null,
   "id": "54507f2a-deb7-4d8c-8e59-2d4259717628",
   "metadata": {},
   "outputs": [],
   "source": [
    "k_range = range(1, 31)"
   ]
  },
  {
   "cell_type": "code",
   "execution_count": null,
   "id": "5c863be1-32a0-441f-adc7-796f841e6008",
   "metadata": {},
   "outputs": [],
   "source": [
    "for k in k_range:\n",
    "    knn = KNeighborsClassifier(n_neighbors=k)\n",
    "    scores = cross_val_score(knn, X_train, y_train, cv=10, scoring='accuracy')\n",
    "    cv_scores.append(scores.mean())"
   ]
  },
  {
   "cell_type": "code",
   "execution_count": null,
   "id": "b2af25ea-64f1-4552-92b5-631d1aa239f4",
   "metadata": {},
   "outputs": [],
   "source": [
    "optimal_k = k_range[np.argmax(cv_scores)]"
   ]
  },
  {
   "cell_type": "code",
   "execution_count": null,
   "id": "e05e665a-0759-4807-b4f0-fb1ff64800d4",
   "metadata": {},
   "outputs": [],
   "source": [
    "print(f\"The optimal value of K for the KNN classifier algorithm is: {optimal_k}\")"
   ]
  },
  {
   "cell_type": "code",
   "execution_count": null,
   "id": "0a49c144-9293-4251-a4f2-6975f26f6575",
   "metadata": {},
   "outputs": [],
   "source": [
    "cv_scores = []"
   ]
  },
  {
   "cell_type": "markdown",
   "id": "ba33545d-541c-4d0e-a332-134c35807746",
   "metadata": {},
   "source": [
    "Q4. Implement the KNN regressor algorithm with feature scaling on load_boston dataset in\n",
    "sklearn.datasets."
   ]
  },
  {
   "cell_type": "code",
   "execution_count": null,
   "id": "b3e92874-61aa-4989-a5f5-06aa318f7a46",
   "metadata": {},
   "outputs": [],
   "source": [
    "boston = load_boston()"
   ]
  },
  {
   "cell_type": "code",
   "execution_count": null,
   "id": "7784c53b-0de0-4286-a61a-acb075cfe4ca",
   "metadata": {},
   "outputs": [],
   "source": [
    "X_train, X_test, y_train, y_test = train_test_split(boston.data, boston.target, test_size=0.2, random_state=42)\n"
   ]
  },
  {
   "cell_type": "code",
   "execution_count": null,
   "id": "99e49497-011c-432a-ad1f-ed7d6e187a5d",
   "metadata": {},
   "outputs": [],
   "source": [
    "scaler = StandardScaler()"
   ]
  },
  {
   "cell_type": "code",
   "execution_count": null,
   "id": "5240d9a7-87b3-45eb-b66a-6107fc928b04",
   "metadata": {},
   "outputs": [],
   "source": [
    "X_train_scaled = scaler.fit_transform(X_train)"
   ]
  },
  {
   "cell_type": "code",
   "execution_count": null,
   "id": "09f5104f-740b-4f8d-9a07-6f22fbd04a67",
   "metadata": {},
   "outputs": [],
   "source": [
    "X_test_scaled = scaler.transform(X_test)"
   ]
  },
  {
   "cell_type": "code",
   "execution_count": null,
   "id": "f5fe095d-9694-4ec3-81c6-8cbb05b0f6b8",
   "metadata": {},
   "outputs": [],
   "source": [
    "knn = KNeighborsRegressor(n_neighbors=3)"
   ]
  },
  {
   "cell_type": "code",
   "execution_count": null,
   "id": "33574494-3888-48cb-8daf-ff3b68c78677",
   "metadata": {},
   "outputs": [],
   "source": [
    "knn.fit(X_train_scaled, y_train)"
   ]
  },
  {
   "cell_type": "code",
   "execution_count": null,
   "id": "b77852de-603b-419f-bb20-c67983770225",
   "metadata": {},
   "outputs": [],
   "source": [
    "y_pred = knn.predict(X_test_scaled)"
   ]
  },
  {
   "cell_type": "code",
   "execution_count": null,
   "id": "cf0d3027-6f1b-4ba5-a802-bcb24bd77f6d",
   "metadata": {},
   "outputs": [],
   "source": [
    "mse = mean_squared_error(y_test, y_pred)\n"
   ]
  },
  {
   "cell_type": "code",
   "execution_count": null,
   "id": "0aa26ff9-e84e-4e66-8ede-a21b6da9b9ba",
   "metadata": {},
   "outputs": [],
   "source": [
    "print(f\"The mean squared error of the KNN regressor algorithm with feature scaling on the boston dataset is: {mse}\")\n"
   ]
  },
  {
   "cell_type": "markdown",
   "id": "bc2e04e6-cab5-4822-aebe-340abf3aa583",
   "metadata": {},
   "source": [
    "Q5. Write a Python code snippet to implement the KNN classifier algorithm with weighted voting on\n",
    "load_iris dataset in sklearn.datasets."
   ]
  },
  {
   "cell_type": "code",
   "execution_count": null,
   "id": "b7dffbc4-c4b9-4afc-8db2-b3971a8d92b8",
   "metadata": {},
   "outputs": [],
   "source": [
    "iris = load_iris()\n"
   ]
  },
  {
   "cell_type": "code",
   "execution_count": null,
   "id": "494ef0bc-1365-426c-8b05-374747918651",
   "metadata": {},
   "outputs": [],
   "source": [
    "X_train, X_test, y_train, y_test = train_test_split(iris.data, iris.target, test_size=0.2, random_state=42)\n"
   ]
  },
  {
   "cell_type": "code",
   "execution_count": null,
   "id": "ed0c3fb7-5ba8-47d1-9de0-fa8e40cf36ce",
   "metadata": {},
   "outputs": [],
   "source": [
    "knn = KNeighborsClassifier(n_neighbors=5, weights='distance')\n"
   ]
  },
  {
   "cell_type": "code",
   "execution_count": null,
   "id": "56a2de9e-7323-4e0c-b71b-90cfb19648bb",
   "metadata": {},
   "outputs": [],
   "source": [
    "knn.fit(X_train, y_train)\n"
   ]
  },
  {
   "cell_type": "code",
   "execution_count": null,
   "id": "cecef76e-38cd-4bd9-8724-b8b5f63ba453",
   "metadata": {},
   "outputs": [],
   "source": [
    "y_pred = knn.predict(X_test)\n"
   ]
  },
  {
   "cell_type": "code",
   "execution_count": null,
   "id": "9565bf7a-ee33-45b2-9251-b9dd8b8adfc0",
   "metadata": {},
   "outputs": [],
   "source": [
    "accuracy = knn.score(X_test, y_test)\n"
   ]
  },
  {
   "cell_type": "code",
   "execution_count": null,
   "id": "f2ed826f-0ef3-49a7-b8d5-d6cb02a4115a",
   "metadata": {},
   "outputs": [],
   "source": [
    "\n",
    "print(f\"The accuracy of the KNN classifier algorithm with weighted voting on the iris dataset is: {accuracy}\")\n"
   ]
  },
  {
   "cell_type": "markdown",
   "id": "7200760d-e0fd-4fa8-b394-39f7f28c7b1e",
   "metadata": {},
   "source": [
    "Q6. Implement a function to standardise the features before applying KNN classifier."
   ]
  },
  {
   "cell_type": "code",
   "execution_count": null,
   "id": "92f12aee-e791-4d2e-b622-1e452a269396",
   "metadata": {},
   "outputs": [],
   "source": [
    "\n",
    "\n",
    "def knn_with_scaling(X_train, X_test, y_train, y_test, n_neighbors=5):\n",
    "    \"\"\"\n",
    "    Function to standardize the features and apply KNN classifier on the data.\n",
    "    :param X_train: Training data features\n",
    "    :param X_test: Test data features\n",
    "    :param y_train: Training data labels\n",
    "    :param y_test: Test data labels\n",
    "    :param n_neighbors: Number of neighbors to consider for KNN (default = 5)\n",
    "    :return: Accuracy of the KNN classifier\n",
    "    \"\"\"\n",
    "   "
   ]
  },
  {
   "cell_type": "code",
   "execution_count": null,
   "id": "56ee1e0c-def1-482d-afee-c17975241470",
   "metadata": {},
   "outputs": [],
   "source": [
    "scaler = StandardScaler()\n"
   ]
  },
  {
   "cell_type": "code",
   "execution_count": null,
   "id": "ea190323-f1b8-410f-acfb-3e15807c54f2",
   "metadata": {},
   "outputs": [],
   "source": [
    " X_train_scaled = scaler.fit_transform(X_train)\n",
    "\n"
   ]
  },
  {
   "cell_type": "code",
   "execution_count": null,
   "id": "97f317b5-4195-4fc0-a20f-0d7740d988af",
   "metadata": {},
   "outputs": [],
   "source": [
    " X_test_scaled = scaler.transform(X_test)\n"
   ]
  },
  {
   "cell_type": "code",
   "execution_count": null,
   "id": "307f0e62-045e-4434-a522-7096678af03d",
   "metadata": {},
   "outputs": [],
   "source": [
    " knn = KNeighborsClassifier(n_neighbors=n_neighbors)\n"
   ]
  },
  {
   "cell_type": "code",
   "execution_count": null,
   "id": "b5b485fd-7134-4453-ac67-2a9a9cf25496",
   "metadata": {},
   "outputs": [],
   "source": [
    "knn.fit(X_train_scaled, y_train)\n"
   ]
  },
  {
   "cell_type": "code",
   "execution_count": null,
   "id": "b3b4141a-af98-4025-bc52-6a6618940558",
   "metadata": {},
   "outputs": [],
   "source": [
    " y_pred = knn.predict(X_test_scaled)\n"
   ]
  },
  {
   "cell_type": "code",
   "execution_count": null,
   "id": "7e45c1b6-8175-47a7-b628-c2ad23aa8a9c",
   "metadata": {},
   "outputs": [],
   "source": [
    "accuracy = knn.score(X_test_scaled, y_test)\n"
   ]
  },
  {
   "cell_type": "code",
   "execution_count": null,
   "id": "01f1e34b-f80e-4e23-b74e-290aac850137",
   "metadata": {},
   "outputs": [],
   "source": [
    "return accuracy"
   ]
  },
  {
   "cell_type": "markdown",
   "id": "749d37aa-afac-4a03-8b1d-b800e49dc024",
   "metadata": {},
   "source": [
    "Q7. Write a Python function to calculate the euclidean distance between two points."
   ]
  },
  {
   "cell_type": "code",
   "execution_count": null,
   "id": "2d312f61-41d6-467f-a4fc-019b77cb8a52",
   "metadata": {},
   "outputs": [],
   "source": [
    "import math"
   ]
  },
  {
   "cell_type": "code",
   "execution_count": null,
   "id": "7d777a4c-0b5e-474f-8aa9-4d150ff55d87",
   "metadata": {},
   "outputs": [],
   "source": [
    "def euclidean_distance(point1, point2):\n",
    "    \"\"\"\n",
    "    Function to calculate the Euclidean distance between two points.\n",
    "    :param point1: List or array containing the coordinates of point1\n",
    "    :param point2: List or array containing the coordinates of point2\n",
    "    :return: Euclidean distance between point1 and point2\n",
    "    \"\"\"\n",
    "    distance = 0\n",
    "   \n"
   ]
  },
  {
   "cell_type": "code",
   "execution_count": null,
   "id": "9d86e582-fb4f-44bb-913d-00001994d6b3",
   "metadata": {},
   "outputs": [],
   "source": [
    " for i in range(len(point1)):\n",
    "        distance += (point1[i] - point2[i]) ** 2\n",
    "    return math.sqrt(distance)"
   ]
  },
  {
   "cell_type": "markdown",
   "id": "f473eb56-710f-4b87-a7a6-9e84085a5af2",
   "metadata": {},
   "source": [
    "Q8. Write a Python function to calculate the manhattan distance between two points."
   ]
  },
  {
   "cell_type": "code",
   "execution_count": null,
   "id": "01844737-a528-45cd-ba0b-c766ae079c57",
   "metadata": {},
   "outputs": [],
   "source": [
    "def manhattan_distance(point1, point2):\n",
    "    \"\"\"\n",
    "    Function to calculate the Manhattan distance between two points.\n",
    "    :param point1: List or array containing the coordinates of point1\n",
    "    :param point2: List or array containing the coordinates of point2\n",
    "    :return: Manhattan distance between point1 and point2\n",
    "    \"\"\"\n",
    "    distance = 0\n",
    "    \n"
   ]
  },
  {
   "cell_type": "code",
   "execution_count": null,
   "id": "c984e0e1-1c4e-4bb1-af6b-8bfacbf7d5f2",
   "metadata": {},
   "outputs": [],
   "source": [
    "for i in range(len(point1)):\n",
    "        distance += abs(point1[i] - point2[i])\n",
    "    return distance"
   ]
  }
 ],
 "metadata": {
  "kernelspec": {
   "display_name": "Python 3 (ipykernel)",
   "language": "python",
   "name": "python3"
  },
  "language_info": {
   "codemirror_mode": {
    "name": "ipython",
    "version": 3
   },
   "file_extension": ".py",
   "mimetype": "text/x-python",
   "name": "python",
   "nbconvert_exporter": "python",
   "pygments_lexer": "ipython3",
   "version": "3.10.8"
  }
 },
 "nbformat": 4,
 "nbformat_minor": 5
}

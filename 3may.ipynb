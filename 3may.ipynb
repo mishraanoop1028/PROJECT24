{
 "cells": [
  {
   "cell_type": "markdown",
   "id": "15e30d82-9307-4dd3-8d14-3f0c8b688c3f",
   "metadata": {},
   "source": [
    "# Q1. What is the role of feature selection in anomaly detection?"
   ]
  },
  {
   "cell_type": "markdown",
   "id": "51409ef3-906c-4f66-9a24-c0178bbd3d66",
   "metadata": {},
   "source": [
    "Feature selection plays an important role when it comes to improve outlier detection in terms of identifying noisy data that contain irrelevant or redundant features. State-of-the-art work either focuses on unsupervised feature selection for data streams or (offline) outlier detection."
   ]
  },
  {
   "cell_type": "markdown",
   "id": "fcd49757-8803-4429-9ff6-47a96a42f3a5",
   "metadata": {},
   "source": [
    "# Q2. What are some common evaluation metrics for anomaly detection algorithms and how are they computed?"
   ]
  },
  {
   "cell_type": "markdown",
   "id": "90d85163-5e27-4092-a66d-888c786d5376",
   "metadata": {},
   "source": [
    "Feature selection plays an important role when it comes to improve outlier detection in terms of identifying noisy data that contain irrelevant or redundant features. State-of-the-art work either focuses on unsupervised feature selection for data streams or (offline) outlier detection."
   ]
  },
  {
   "cell_type": "markdown",
   "id": "e3a59f12-2eb9-4657-95bc-11fe45c7eaac",
   "metadata": {},
   "source": [
    "# Q3. What is DBSCAN and how does it work for clustering?"
   ]
  },
  {
   "cell_type": "markdown",
   "id": "12a991ce-ab8f-4723-981c-dce3b0886da4",
   "metadata": {},
   "source": [
    "Defined distance (DBSCAN)—Uses a specified distance to separate dense clusters from sparser noise. The DBSCAN algorithm is the fastest of the clustering methods, but is only appropriate if there is a very clear Search Distance to use, and that works well for all potential clusters."
   ]
  },
  {
   "cell_type": "markdown",
   "id": "360b44d1-1811-4b90-bc37-cd2523abae6b",
   "metadata": {},
   "source": [
    "# Q4. How does the epsilon parameter affect the performance of DBSCAN in detecting anomalies?"
   ]
  },
  {
   "cell_type": "markdown",
   "id": "b5b0ce20-3eae-42f8-b5e4-d754cf2f4d87",
   "metadata": {},
   "source": [
    "Defined distance (DBSCAN)—Uses a specified distance to separate dense clusters from sparser noise. The DBSCAN algorithm is the fastest of the clustering methods, but is only appropriate if there is a very clear Search Distance to use, and that works well for all potential clusters."
   ]
  },
  {
   "cell_type": "markdown",
   "id": "4ea3bd9a-d44f-4502-b8fa-b8c2d67005da",
   "metadata": {},
   "source": [
    "# Q5. What are the differences between the core, border, and noise points in DBSCAN, and how do they relate to anomaly detection?"
   ]
  },
  {
   "cell_type": "markdown",
   "id": "f084165b-5277-412d-8338-eee66c3ce0ad",
   "metadata": {},
   "source": [
    "Core — This is a point that has at least m points within distance n from itself. Border — This is a point that has at least one Core point at a distance n. Noise — This is a point that is neither a Core nor a Border. And it has less than m points within distance n from itself."
   ]
  },
  {
   "cell_type": "markdown",
   "id": "b21ccb33-0c74-4cfe-a197-40b8d9128cab",
   "metadata": {},
   "source": [
    "Here SK-Learn library DBSCAN comes to the rescue to allow us to handle outliers for the Multi-variate datasets. DBSCAN considers two main parameters (as mentioned below) to form a cluster with the nearest data point and based on the high or low-density region, it detects Inliers or outliers"
   ]
  },
  {
   "cell_type": "markdown",
   "id": "351eb673-c545-4954-9696-2cf0df4e8051",
   "metadata": {},
   "source": [
    "# Q6. How does DBSCAN detect anomalies and what are the key parameters involved in the process?"
   ]
  },
  {
   "cell_type": "markdown",
   "id": "40d72ff2-dea8-4c62-ad20-edc9e8f7f4c5",
   "metadata": {},
   "source": [
    "This algorithm can be used out of the box for fraud detection in only a few simple steps.\n",
    "Step 1: Import libraries. For this demo, we need three key libraries for data wrangling, visualization and modeling. ...\n",
    "Step 2: Import & visualize data. ...\n",
    "Step 3: Modeling. ...\n",
    "Step 4: Visualizing. ...\n",
    "Step 5: Creating an outliers data frame."
   ]
  },
  {
   "cell_type": "markdown",
   "id": "5b700969-3e30-49b6-9ce6-d986c73c1adf",
   "metadata": {},
   "source": [
    "# Q7. What is the make_circles package in scikit-learn used for?"
   ]
  },
  {
   "cell_type": "code",
   "execution_count": null,
   "id": "978299b7-0e4e-4b8e-9367-d5e0e0db4d30",
   "metadata": {},
   "outputs": [],
   "source": []
  },
  {
   "cell_type": "code",
   "execution_count": null,
   "id": "183ce23e-0d7a-410a-a2cf-b376dfdd348c",
   "metadata": {},
   "outputs": [],
   "source": []
  },
  {
   "cell_type": "code",
   "execution_count": null,
   "id": "6ceb5e7e-2ed1-4606-a48f-b2e51eb6e167",
   "metadata": {},
   "outputs": [],
   "source": []
  },
  {
   "cell_type": "code",
   "execution_count": null,
   "id": "16801eba-42f8-498a-a003-3137b83d7eaa",
   "metadata": {},
   "outputs": [],
   "source": []
  },
  {
   "cell_type": "code",
   "execution_count": null,
   "id": "9209f7e7-a194-44c6-92bd-c7f51426e6a0",
   "metadata": {},
   "outputs": [],
   "source": []
  },
  {
   "cell_type": "code",
   "execution_count": null,
   "id": "7b394e46-00d9-47ef-ad11-fbbdc0a4484e",
   "metadata": {},
   "outputs": [],
   "source": []
  },
  {
   "cell_type": "code",
   "execution_count": null,
   "id": "a36d0191-2f3e-4b64-bd83-fab4f0dd47fc",
   "metadata": {},
   "outputs": [],
   "source": []
  },
  {
   "cell_type": "code",
   "execution_count": null,
   "id": "69c1bbe1-bdd5-4796-b3e6-096fd9ef6138",
   "metadata": {},
   "outputs": [],
   "source": []
  }
 ],
 "metadata": {
  "kernelspec": {
   "display_name": "Python 3 (ipykernel)",
   "language": "python",
   "name": "python3"
  },
  "language_info": {
   "codemirror_mode": {
    "name": "ipython",
    "version": 3
   },
   "file_extension": ".py",
   "mimetype": "text/x-python",
   "name": "python",
   "nbconvert_exporter": "python",
   "pygments_lexer": "ipython3",
   "version": "3.10.8"
  }
 },
 "nbformat": 4,
 "nbformat_minor": 5
}

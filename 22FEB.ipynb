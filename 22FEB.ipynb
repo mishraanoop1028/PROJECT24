{
 "cells": [
  {
   "cell_type": "markdown",
   "id": "251203a0-0187-4216-be39-744ef252292c",
   "metadata": {},
   "source": [
    "Go to this given URL and solve the following questions\n",
    "URL: https://www.youtube.com/@PW-Foundation/videos\n",
    "Q1. Write a python program to extract the video URL of the first five videos.\n",
    "Q2. Write a python program to extract the URL of the video thumbnails of the first five videos.\n",
    "Q3. Write a python program to extract the title of the first five videos.\n",
    "Q4. Write a python program to extract the number of views of the first five videos.\n",
    "Q5. Write a python program to extract the time of posting of video for the first five videos.\n",
    "Note: Save all the data scraped in the above questions in a CSV file."
   ]
  },
  {
   "cell_type": "code",
   "execution_count": null,
   "id": "8e2d90d3-8473-49ac-ae07-89dd0e114317",
   "metadata": {},
   "outputs": [],
   "source": [
    "import requests \n",
    "from bs4 import BeautifulSoup\n",
    "import csv\n",
    "\n",
    "url = \"https://www.youtube.com/@PW-Foundation/videos\"\n",
    "\n",
    "# Make a GET request to the URL\n",
    "response = requests.get(url)\n",
    "\n",
    "# Parse the HTML content using BeautifulSoup\n",
    "soup = BeautifulSoup(response.content, 'html.parser')\n",
    "\n",
    "# Find all the video elements\n",
    "video_elements = soup.find_all('ytd-grid-video-renderer', limit=5)\n",
    "\n",
    "# Open a CSV file to store the scraped data\n",
    "with open('video_data.csv', 'w', newline='') as file:\n",
    "    writer = csv.writer(file)\n",
    "\n",
    "    # Write header row to CSV file\n",
    "    writer.writerow(['Video URL', 'Thumbnail URL', 'Title', 'Views', 'Time of Posting'])\n",
    "\n",
    "    # Loop through each video element\n",
    "    for video in video_elements:\n",
    "        # Extract the video URL\n",
    "        video_url = 'https://www.youtube.com' + video.find('a')['href']\n",
    "        \n",
    "        # Extract the thumbnail URL\n",
    "        thumbnail_url = video.find('img')['src']\n",
    "        \n",
    "        # Extract the video title\n",
    "        title = video.find('a')['title']\n",
    "        \n",
    "        # Extract the number of views\n",
    "        views = video.find('span', {'class': 'style-scope ytd-grid-video-renderer'}).text\n",
    "        \n",
    "        # Extract the time of posting\n",
    "        time_of_posting = video.find('span', {'class': 'style-scope ytd-grid-video-renderer'}).text\n",
    "\n",
    "        # Write the data to the CSV file\n",
    "        writer.writerow([video_url, thumbnail_url, title, views, time_of_posting])\n"
   ]
  },
  {
   "cell_type": "code",
   "execution_count": null,
   "id": "0994ca63-8523-43db-8a93-c216f6b1a6a2",
   "metadata": {},
   "outputs": [],
   "source": []
  },
  {
   "cell_type": "code",
   "execution_count": null,
   "id": "30063a8b-89f2-434d-8594-4c3caa0aa2bf",
   "metadata": {},
   "outputs": [],
   "source": []
  },
  {
   "cell_type": "code",
   "execution_count": null,
   "id": "1aaf227a-0ccf-4580-8143-3aa26503f351",
   "metadata": {},
   "outputs": [],
   "source": []
  },
  {
   "cell_type": "code",
   "execution_count": null,
   "id": "1bfd215a-5d6d-443f-a858-93ae7183f8f1",
   "metadata": {},
   "outputs": [],
   "source": []
  },
  {
   "cell_type": "code",
   "execution_count": null,
   "id": "4b663f60-c1c6-45a5-8205-8344e820518e",
   "metadata": {},
   "outputs": [],
   "source": []
  },
  {
   "cell_type": "code",
   "execution_count": null,
   "id": "b015fab0-aaf9-4228-83ad-1d763e101f83",
   "metadata": {},
   "outputs": [],
   "source": []
  }
 ],
 "metadata": {
  "kernelspec": {
   "display_name": "Python 3 (ipykernel)",
   "language": "python",
   "name": "python3"
  },
  "language_info": {
   "codemirror_mode": {
    "name": "ipython",
    "version": 3
   },
   "file_extension": ".py",
   "mimetype": "text/x-python",
   "name": "python",
   "nbconvert_exporter": "python",
   "pygments_lexer": "ipython3",
   "version": "3.10.8"
  }
 },
 "nbformat": 4,
 "nbformat_minor": 5
}

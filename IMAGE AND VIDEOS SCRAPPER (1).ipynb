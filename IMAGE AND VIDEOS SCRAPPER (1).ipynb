{
 "cells": [
  {
   "cell_type": "markdown",
   "id": "cf5c519e-d358-417f-b82f-7dbd7c1f76ee",
   "metadata": {},
   "source": [
    "# IMAGE AND VIDEOS SCRAPPER\n"
   ]
  },
  {
   "cell_type": "code",
   "execution_count": 23,
   "id": "3fac9428-05b8-4705-bcb4-bd9dbe0ff697",
   "metadata": {},
   "outputs": [],
   "source": [
    "import requests\n",
    "from bs4 import BeautifulSoup\n",
    "import urllib.request"
   ]
  },
  {
   "cell_type": "code",
   "execution_count": 25,
   "id": "3e1ded1e-082b-4b14-a4e7-1b72c4a090cf",
   "metadata": {},
   "outputs": [],
   "source": [
    "url = \"https://www.youtube.com/@PW-Foundation/videos\"\n",
    "response = urllib.request.urlopen(url)\n",
    "soup = BeautifulSoup(response, \"html.parser\")"
   ]
  },
  {
   "cell_type": "code",
   "execution_count": 28,
   "id": "840f03f1-dc10-4bad-b2de-db0c5960be14",
   "metadata": {},
   "outputs": [],
   "source": [
    "import requests\n",
    "from bs4 import BeautifulSoup\n",
    "response = urllib.request.urlopen(url)\n",
    "import logging\n",
    "import os"
   ]
  },
  {
   "cell_type": "code",
   "execution_count": 29,
   "id": "41bd7f79-62b6-4bb4-98e4-8ec45068d68a",
   "metadata": {},
   "outputs": [
    {
     "ename": "AttributeError",
     "evalue": "module 'posixpath' has no attribute 'exits'",
     "output_type": "error",
     "traceback": [
      "\u001b[0;31m---------------------------------------------------------------------------\u001b[0m",
      "\u001b[0;31mAttributeError\u001b[0m                            Traceback (most recent call last)",
      "Cell \u001b[0;32mIn[29], line 2\u001b[0m\n\u001b[1;32m      1\u001b[0m save_dir\u001b[38;5;241m=\u001b[39m\u001b[38;5;124m\"\u001b[39m\u001b[38;5;124mvideos/\u001b[39m\u001b[38;5;124m\"\u001b[39m\n\u001b[0;32m----> 2\u001b[0m \u001b[38;5;28;01mif\u001b[39;00m \u001b[38;5;129;01mnot\u001b[39;00m \u001b[43mos\u001b[49m\u001b[38;5;241;43m.\u001b[39;49m\u001b[43mpath\u001b[49m\u001b[38;5;241;43m.\u001b[39;49m\u001b[43mexits\u001b[49m(save_dir):\n\u001b[1;32m      3\u001b[0m     os\u001b[38;5;241m.\u001b[39mmakedirs(save_dir)\n",
      "\u001b[0;31mAttributeError\u001b[0m: module 'posixpath' has no attribute 'exits'"
     ]
    }
   ],
   "source": [
    "save_dir=\"videos/\"\n",
    "if not os.path.exits(save_dir):\n",
    "    os.makedirs(save_dir)"
   ]
  },
  {
   "cell_type": "code",
   "execution_count": 30,
   "id": "1c9d519b-80c0-4a5f-848a-e3541e3d8f68",
   "metadata": {},
   "outputs": [],
   "source": [
    "rsponse=requests.get(\"https://www.youtube.com/@PW-Foundation/videos\")"
   ]
  },
  {
   "cell_type": "code",
   "execution_count": 32,
   "id": "2d2dbfba-b3be-4eea-8cdb-4baee0bb0e67",
   "metadata": {},
   "outputs": [
    {
     "data": {
      "text/plain": [
       "<http.client.HTTPResponse at 0x7f470f2ea980>"
      ]
     },
     "execution_count": 32,
     "metadata": {},
     "output_type": "execute_result"
    }
   ],
   "source": [
    "response"
   ]
  },
  {
   "cell_type": "code",
   "execution_count": 35,
   "id": "54e97087-5ec9-413e-a1e7-0e795bb0b214",
   "metadata": {},
   "outputs": [
    {
     "ename": "SyntaxError",
     "evalue": "incomplete input (2964665740.py, line 1)",
     "output_type": "error",
     "traceback": [
      "\u001b[0;36m  Cell \u001b[0;32mIn[35], line 1\u001b[0;36m\u001b[0m\n\u001b[0;31m    soup=BeutifulSoup(response.content,\"html.parser\"\u001b[0m\n\u001b[0m                                                    ^\u001b[0m\n\u001b[0;31mSyntaxError\u001b[0m\u001b[0;31m:\u001b[0m incomplete input\n"
     ]
    }
   ],
   "source": [
    "soup=BeutifulSoup(response.content,\"html.parser\""
   ]
  },
  {
   "cell_type": "code",
   "execution_count": 34,
   "id": "fc3dbf68-3e1e-4e5a-986c-5ca1f53844f1",
   "metadata": {},
   "outputs": [
    {
     "data": {
      "text/plain": [
       "[]"
      ]
     },
     "execution_count": 34,
     "metadata": {},
     "output_type": "execute_result"
    }
   ],
   "source": [
    "soup.find_all(\"videos\")"
   ]
  },
  {
   "cell_type": "code",
   "execution_count": 38,
   "id": "11940919-c918-4080-b562-2eb1e9a23680",
   "metadata": {},
   "outputs": [],
   "source": [
    "videos_tags=soup.find_all(\"videos\")"
   ]
  },
  {
   "cell_type": "code",
   "execution_count": 41,
   "id": "b2011d78-3279-434f-be28-730fd61cf4d8",
   "metadata": {},
   "outputs": [
    {
     "ename": "NameError",
     "evalue": "name 'videos_tag' is not defined",
     "output_type": "error",
     "traceback": [
      "\u001b[0;31m---------------------------------------------------------------------------\u001b[0m",
      "\u001b[0;31mNameError\u001b[0m                                 Traceback (most recent call last)",
      "Cell \u001b[0;32mIn[41], line 1\u001b[0m\n\u001b[0;32m----> 1\u001b[0m \u001b[38;5;28;01mdel\u001b[39;00m \u001b[43mvideos_tag\u001b[49m[\u001b[38;5;241m0\u001b[39m]\n",
      "\u001b[0;31mNameError\u001b[0m: name 'videos_tag' is not defined"
     ]
    }
   ],
   "source": [
    "del videos_tag[0]"
   ]
  },
  {
   "cell_type": "code",
   "execution_count": 43,
   "id": "a498f62c-b966-4318-9c7a-637f591929cb",
   "metadata": {},
   "outputs": [
    {
     "ename": "NameError",
     "evalue": "name 'videos_tag' is not defined",
     "output_type": "error",
     "traceback": [
      "\u001b[0;31m---------------------------------------------------------------------------\u001b[0m",
      "\u001b[0;31mNameError\u001b[0m                                 Traceback (most recent call last)",
      "Cell \u001b[0;32mIn[43], line 1\u001b[0m\n\u001b[0;32m----> 1\u001b[0m \u001b[38;5;28mlen\u001b[39m(\u001b[43mvideos_tag\u001b[49m)\n",
      "\u001b[0;31mNameError\u001b[0m: name 'videos_tag' is not defined"
     ]
    }
   ],
   "source": [
    "len(videos_tag)"
   ]
  },
  {
   "cell_type": "code",
   "execution_count": 44,
   "id": "28fdc82f-4a44-479a-a097-a34b34b92aa4",
   "metadata": {},
   "outputs": [
    {
     "ename": "NameError",
     "evalue": "name 'videos_tag' is not defined",
     "output_type": "error",
     "traceback": [
      "\u001b[0;31m---------------------------------------------------------------------------\u001b[0m",
      "\u001b[0;31mNameError\u001b[0m                                 Traceback (most recent call last)",
      "Cell \u001b[0;32mIn[44], line 1\u001b[0m\n\u001b[0;32m----> 1\u001b[0m \u001b[43mvideos_tag\u001b[49m\n",
      "\u001b[0;31mNameError\u001b[0m: name 'videos_tag' is not defined"
     ]
    }
   ],
   "source": [
    "videos_tag"
   ]
  },
  {
   "cell_type": "code",
   "execution_count": 45,
   "id": "26999bbb-ffcc-47eb-8556-3e95390f7335",
   "metadata": {},
   "outputs": [
    {
     "ename": "NameError",
     "evalue": "name 'videos_tages' is not defined",
     "output_type": "error",
     "traceback": [
      "\u001b[0;31m---------------------------------------------------------------------------\u001b[0m",
      "\u001b[0;31mNameError\u001b[0m                                 Traceback (most recent call last)",
      "Cell \u001b[0;32mIn[45], line 2\u001b[0m\n\u001b[1;32m      1\u001b[0m image_data_mongo \u001b[38;5;241m=\u001b[39m []\n\u001b[0;32m----> 2\u001b[0m \u001b[38;5;28;01mfor\u001b[39;00m i \u001b[38;5;129;01min\u001b[39;00m \u001b[43mvideos_tages\u001b[49m:\n\u001b[1;32m      3\u001b[0m     videos_url \u001b[38;5;241m=\u001b[39m  i[\u001b[38;5;124m'\u001b[39m\u001b[38;5;124msrc\u001b[39m\u001b[38;5;124m'\u001b[39m]\n\u001b[1;32m      4\u001b[0m     videos_data \u001b[38;5;241m=\u001b[39m requests\u001b[38;5;241m.\u001b[39mget(videos_url)\u001b[38;5;241m.\u001b[39mcontent\n",
      "\u001b[0;31mNameError\u001b[0m: name 'videos_tages' is not defined"
     ]
    }
   ],
   "source": [
    "image_data_mongo = []\n",
    "for i in videos_tages:\n",
    "    videos_url =  i['src']\n",
    "    videos_data = requests.get(videos_url).content\n",
    "    mydict = {\"index\" : videos_url , \"videos\" : videos_data}\n",
    "    videos_data_mongo.append(mydict)\n",
    "    with open(os.path.join(save_dir,f\"{query}_{videos_tages.index(i)}.jpg\") , \"wb\") as f :\n",
    "                           f.write(videos_data)"
   ]
  },
  {
   "cell_type": "code",
   "execution_count": null,
   "id": "bdaa3655-c6fa-4c44-a5fe-66052567205e",
   "metadata": {},
   "outputs": [],
   "source": []
  },
  {
   "cell_type": "code",
   "execution_count": null,
   "id": "42d9ff83-550c-490c-b05c-f5566c0e901b",
   "metadata": {},
   "outputs": [],
   "source": []
  },
  {
   "cell_type": "code",
   "execution_count": null,
   "id": "d3967ec2-7ba2-4831-8645-8378d431a319",
   "metadata": {},
   "outputs": [],
   "source": []
  }
 ],
 "metadata": {
  "kernelspec": {
   "display_name": "Python 3 (ipykernel)",
   "language": "python",
   "name": "python3"
  },
  "language_info": {
   "codemirror_mode": {
    "name": "ipython",
    "version": 3
   },
   "file_extension": ".py",
   "mimetype": "text/x-python",
   "name": "python",
   "nbconvert_exporter": "python",
   "pygments_lexer": "ipython3",
   "version": "3.10.8"
  }
 },
 "nbformat": 4,
 "nbformat_minor": 5
}

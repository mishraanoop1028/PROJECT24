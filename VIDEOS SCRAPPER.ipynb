{
 "cells": [
  {
   "cell_type": "markdown",
   "id": "cf5c519e-d358-417f-b82f-7dbd7c1f76ee",
   "metadata": {},
   "source": [
    "# IMAGE AND VIDEOS SCRAPPER\n"
   ]
  },
  {
   "cell_type": "markdown",
   "id": "e827004e-4f8e-4b87-87ac-509f89194517",
   "metadata": {},
   "source": [
    "Go to this given URL and solve the following questions\n",
    "\n",
    "URL: https://www.youtube.com/@PW-Foundation/videos"
   ]
  },
  {
   "cell_type": "markdown",
   "id": "ff030181-bc04-48ed-9e5f-a755cf4dded9",
   "metadata": {},
   "source": [
    "# python program to extract the video URL of the first five videos."
   ]
  },
  {
   "cell_type": "code",
   "execution_count": 11,
   "id": "3fac9428-05b8-4705-bcb4-bd9dbe0ff697",
   "metadata": {},
   "outputs": [],
   "source": [
    "import requests\n",
    "from bs4 import BeautifulSoup\n",
    "import urllib.request\n"
   ]
  },
  {
   "cell_type": "code",
   "execution_count": 12,
   "id": "3e1ded1e-082b-4b14-a4e7-1b72c4a090cf",
   "metadata": {},
   "outputs": [],
   "source": [
    "url = \"https://www.youtube.com/@PW-Foundation/videos\"\n",
    "response = urllib.request.urlopen(url)\n",
    "soup = BeautifulSoup(response, \"html.parser\")"
   ]
  },
  {
   "cell_type": "code",
   "execution_count": 13,
   "id": "840f03f1-dc10-4bad-b2de-db0c5960be14",
   "metadata": {},
   "outputs": [],
   "source": [
    "import requests\n",
    "from bs4 import BeautifulSoup\n",
    "response = urllib.request.urlopen(url)\n",
    "import logging\n",
    "import os"
   ]
  },
  {
   "cell_type": "code",
   "execution_count": 14,
   "id": "41bd7f79-62b6-4bb4-98e4-8ec45068d68a",
   "metadata": {},
   "outputs": [],
   "source": [
    "save_dir=\"videos/\"\n",
    "if not os.path.exists(save_dir):\n",
    "    os.makedirs(save_dir)"
   ]
  },
  {
   "cell_type": "code",
   "execution_count": 15,
   "id": "1c9d519b-80c0-4a5f-848a-e3541e3d8f68",
   "metadata": {},
   "outputs": [],
   "source": [
    "rsponse=requests.get(\"https://www.youtube.com/@PW-Foundation/videos\")"
   ]
  },
  {
   "cell_type": "code",
   "execution_count": 16,
   "id": "2d2dbfba-b3be-4eea-8cdb-4baee0bb0e67",
   "metadata": {},
   "outputs": [
    {
     "data": {
      "text/plain": [
       "<http.client.HTTPResponse at 0x7fc73429ef20>"
      ]
     },
     "execution_count": 16,
     "metadata": {},
     "output_type": "execute_result"
    }
   ],
   "source": [
    "response"
   ]
  },
  {
   "cell_type": "code",
   "execution_count": 19,
   "id": "a875c03e-7d1e-44f5-b45f-e37e2b05e13f",
   "metadata": {},
   "outputs": [
    {
     "name": "stdout",
     "output_type": "stream",
     "text": [
      "Requirement already satisfied: beautifulsoup4 in /opt/conda/lib/python3.10/site-packages (4.11.1)\n",
      "Requirement already satisfied: soupsieve>1.2 in /opt/conda/lib/python3.10/site-packages (from beautifulsoup4) (2.3.2.post1)\n",
      "Note: you may need to restart the kernel to use updated packages.\n"
     ]
    }
   ],
   "source": [
    "pip install beautifulsoup4"
   ]
  },
  {
   "cell_type": "code",
   "execution_count": 26,
   "id": "a1140eaf-1568-4e7a-8991-99c9a8e95c22",
   "metadata": {},
   "outputs": [],
   "source": [
    "soup = BeautifulSoup(\"response.content\", \"html.parser\", from_encoding=\"utf-8\")\n"
   ]
  },
  {
   "cell_type": "code",
   "execution_count": 29,
   "id": "54e97087-5ec9-413e-a1e7-0e795bb0b214",
   "metadata": {},
   "outputs": [],
   "source": [
    "Soup = BeautifulSoup(\"response.content\",\"html.parser\")"
   ]
  },
  {
   "cell_type": "code",
   "execution_count": 30,
   "id": "fc3dbf68-3e1e-4e5a-986c-5ca1f53844f1",
   "metadata": {},
   "outputs": [
    {
     "data": {
      "text/plain": [
       "[]"
      ]
     },
     "execution_count": 30,
     "metadata": {},
     "output_type": "execute_result"
    }
   ],
   "source": [
    "soup.find_all(\"videos\")"
   ]
  },
  {
   "cell_type": "code",
   "execution_count": 39,
   "id": "11940919-c918-4080-b562-2eb1e9a23680",
   "metadata": {},
   "outputs": [],
   "source": [
    "videos_tags=soup.find_all(\"videos\")"
   ]
  },
  {
   "cell_type": "code",
   "execution_count": 47,
   "id": "a498f62c-b966-4318-9c7a-637f591929cb",
   "metadata": {},
   "outputs": [
    {
     "data": {
      "text/plain": [
       "0"
      ]
     },
     "execution_count": 47,
     "metadata": {},
     "output_type": "execute_result"
    }
   ],
   "source": [
    "len(videos_tags)"
   ]
  },
  {
   "cell_type": "code",
   "execution_count": 51,
   "id": "28fdc82f-4a44-479a-a097-a34b34b92aa4",
   "metadata": {},
   "outputs": [
    {
     "data": {
      "text/plain": [
       "[]"
      ]
     },
     "execution_count": 51,
     "metadata": {},
     "output_type": "execute_result"
    }
   ],
   "source": [
    "videos_tags"
   ]
  },
  {
   "cell_type": "code",
   "execution_count": 53,
   "id": "26999bbb-ffcc-47eb-8556-3e95390f7335",
   "metadata": {},
   "outputs": [],
   "source": [
    "image_data_mongo = []\n",
    "for i in videos_tags:\n",
    "    videos_url =  i['src']\n",
    "    videos_data = requests.get(videos_url).content\n",
    "    mydict = {\"index\" : videos_url , \"videos\" : videos_data}\n",
    "    videos_data_mongo.append(mydict)\n",
    "    with open(os.path.join(save_dir,f\"{query}_{videos_tages.index(i)}.jpg\") , \"wb\") as f :\n",
    "                           f.write(videos_data)"
   ]
  },
  {
   "cell_type": "markdown",
   "id": "9fe0ecd0-f310-4f8e-b8e2-a3fb9216e0de",
   "metadata": {},
   "source": [
    " # python program to extract the URL of the video thumbnails of the first five videos."
   ]
  },
  {
   "cell_type": "code",
   "execution_count": null,
   "id": "1b6f9213-e4f4-4c2f-b7f9-272954a8221e",
   "metadata": {},
   "outputs": [],
   "source": [
    "video_elements = soup.find_all(\"a\", class_=\"yt-simple-endpoint inline-block style-scope ytd-thumbnail\")\n"
   ]
  },
  {
   "cell_type": "code",
   "execution_count": null,
   "id": "f37cbc81-48fb-431e-81ec-3e57745d404b",
   "metadata": {},
   "outputs": [],
   "source": [
    "thumbnails_urls = []\n",
    "for video in video_elements[:5]:\n",
    "    thumbnail_url = video.find(\"img\")[\"src\"]\n",
    "    thumbnails_urls.append(thumbnail_url)"
   ]
  },
  {
   "cell_type": "code",
   "execution_count": null,
   "id": "b1062a2e-92f0-43ff-adac-cf327b511a1c",
   "metadata": {},
   "outputs": [],
   "source": [
    "for url in thumbnails_urls:\n",
    "    print(url)"
   ]
  },
  {
   "cell_type": "markdown",
   "id": "aed8c76c-fce8-424d-934f-886a94454e1f",
   "metadata": {},
   "source": [
    "# Write a python program to extract the title of the first five videos."
   ]
  },
  {
   "cell_type": "code",
   "execution_count": null,
   "id": "d610977c-7293-413c-8d1f-c3efde4d93b6",
   "metadata": {},
   "outputs": [],
   "source": [
    "video_titles = []\n",
    "for video in video_elements[:5]:\n",
    "    video_title = video.find(\"span\", class_=\"style-scope ytd-grid-video-renderer\").text\n",
    "    video_titles.append(video_title)"
   ]
  },
  {
   "cell_type": "code",
   "execution_count": null,
   "id": "d8548228-d597-44a0-b866-beddcf7885fc",
   "metadata": {},
   "outputs": [],
   "source": [
    "for title in video_titles:\n",
    "    print(title)"
   ]
  },
  {
   "cell_type": "markdown",
   "id": "536dbd39-9cf6-4d6f-b85b-c42013c915bd",
   "metadata": {},
   "source": [
    "#  Write a python program to extract the number of views of the first five videos.\n",
    "\n"
   ]
  },
  {
   "cell_type": "code",
   "execution_count": null,
   "id": "1d4f5dad-7e65-40bd-9051-7d25e5db09aa",
   "metadata": {},
   "outputs": [],
   "source": [
    "video_elements = soup.find_all(\"a\", class_=\"yt-simple-endpoint style-scope ytd-grid-video-renderer\")"
   ]
  },
  {
   "cell_type": "code",
   "execution_count": null,
   "id": "3c8a6d72-04c7-4cc0-9b8a-02dd5e1df5f3",
   "metadata": {},
   "outputs": [],
   "source": [
    "views_counts = []\n",
    "for video in video_elements[:5]:\n",
    "    views_count = video.find(\"span\", class_=\"style-scope ytd-grid-video-renderer\").text\n",
    "    views_counts.append(views_count)"
   ]
  },
  {
   "cell_type": "code",
   "execution_count": null,
   "id": "f0764860-e13b-4485-bbaf-33c8e95cbab3",
   "metadata": {},
   "outputs": [],
   "source": [
    "for count in views_counts:\n",
    "    print(count)"
   ]
  },
  {
   "cell_type": "markdown",
   "id": "942cb447-2975-4c47-bb6d-8af01cfdda42",
   "metadata": {},
   "source": [
    "# Write a python program to extract the time of posting of video for the first five videos"
   ]
  },
  {
   "cell_type": "code",
   "execution_count": null,
   "id": "541a09eb-f9ce-4219-85b2-fc6f6de8f439",
   "metadata": {},
   "outputs": [],
   "source": [
    "video_elements = soup.find_all(\"a\", class_=\"yt-simple-endpoint style-scope ytd-grid-video-renderer\")\n"
   ]
  },
  {
   "cell_type": "code",
   "execution_count": null,
   "id": "44522f21-b939-43c1-a860-d6d0e0d28813",
   "metadata": {},
   "outputs": [],
   "source": [
    "posting_times = []\n",
    "for video in video_elements[:5]:\n",
    "    posting_time = video.find(\"span\", class_=\"style-scope ytd-grid-video-renderer\").text\n",
    "    posting_times.append(posting_time)"
   ]
  },
  {
   "cell_type": "code",
   "execution_count": null,
   "id": "6dfc07a8-ed95-4db1-9137-774a7a2141cc",
   "metadata": {},
   "outputs": [],
   "source": [
    "for time in posting_times:\n",
    "    print(time)"
   ]
  },
  {
   "cell_type": "code",
   "execution_count": null,
   "id": "6b118bb6-9e0d-4149-b2ff-60b4005ccd6a",
   "metadata": {},
   "outputs": [],
   "source": []
  }
 ],
 "metadata": {
  "kernelspec": {
   "display_name": "Python 3 (ipykernel)",
   "language": "python",
   "name": "python3"
  },
  "language_info": {
   "codemirror_mode": {
    "name": "ipython",
    "version": 3
   },
   "file_extension": ".py",
   "mimetype": "text/x-python",
   "name": "python",
   "nbconvert_exporter": "python",
   "pygments_lexer": "ipython3",
   "version": "3.10.8"
  }
 },
 "nbformat": 4,
 "nbformat_minor": 5
}

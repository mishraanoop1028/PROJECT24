{
 "cells": [
  {
   "cell_type": "markdown",
   "id": "c5b3b644-08fa-4e1e-a48b-f7741f80174a",
   "metadata": {},
   "source": [
    "Q1.WHO DEVELOPED PYTHON"
   ]
  },
  {
   "cell_type": "markdown",
   "id": "4190a658-f154-43c0-b9f7-f75db47c3217",
   "metadata": {},
   "source": [
    "Guido van Rossum was also reading the published scripts from “Monty Python's Flying Circus”, a BBC comedy series from the 1970s. Van Rossum thought he needed a name that was short, unique, and slightly mysterious, so he decided to call the language Python."
   ]
  },
  {
   "cell_type": "markdown",
   "id": "612608b9-5bef-4550-8f92-eeae38fe43ac",
   "metadata": {},
   "source": [
    "Q2.Which type of programming does Python support?"
   ]
  },
  {
   "cell_type": "markdown",
   "id": "9b9e5e4d-5041-445c-ab50-d30ebafc2de8",
   "metadata": {},
   "source": [
    "Python is a multi-paradigm programming language. Object-oriented programming and structured programming are fully supported, and many of their features support functional programming and aspect-oriented programming (including metaprogramming and metaobjects)"
   ]
  },
  {
   "cell_type": "markdown",
   "id": "571f7dc7-0617-4be2-9998-dc8bc7f694b0",
   "metadata": {},
   "source": [
    "Q3.Is Python case-sensitive when dealing with identifiers Brainly?"
   ]
  },
  {
   "cell_type": "markdown",
   "id": "0c5747f9-4f3a-4e92-93a6-ece3a0d02144",
   "metadata": {},
   "source": [
    " Python is a case-sensitive language."
   ]
  },
  {
   "cell_type": "markdown",
   "id": "30493a5a-d246-420c-b310-99d4e2e43757",
   "metadata": {},
   "source": [
    "Q4.What is the Extension of Python File?"
   ]
  },
  {
   "cell_type": "markdown",
   "id": "a8f50de8-37de-48ff-9fb2-51cdd4a07870",
   "metadata": {},
   "source": [
    "Python is a universal computer programming language that is used for software development and web application development. But do you know what is the extension of Python file? Fret not! We have that covered. Python file extensions are mentioned below:\n",
    "\n",
    ".py\n",
    ".pyi\n",
    ".pyc\n",
    ".pyd\n",
    ".pyo\n",
    ".pyw\n",
    ".pyz"
   ]
  },
  {
   "cell_type": "markdown",
   "id": "d0c23975-ae66-47cb-baf5-5c1ed1e156b1",
   "metadata": {},
   "source": [
    "Q5-IS python code is compiled or interpreted"
   ]
  },
  {
   "cell_type": "markdown",
   "id": "b93abfb5-3acf-41d7-8042-b800467148a6",
   "metadata": {},
   "source": [
    "Python is an interpreted language, which means the source code of a Python program is converted into bytecode that is then executed by the Python virtual machine."
   ]
  },
  {
   "cell_type": "markdown",
   "id": "fb59a837-58f5-4def-91f4-3ab2a417e299",
   "metadata": {},
   "source": [
    "Q7-What is FEW PYTHON  block in a code?"
   ]
  },
  {
   "cell_type": "markdown",
   "id": "98d53338-6e4d-4180-a63f-eb6f59ac11cf",
   "metadata": {},
   "source": [
    "A code block is a piece of Python program text that can be executed as a unit, such as a module, a class definition or a function body. Some code blocks (like modules) are normally executed only once, others (like function bodies) may be executed many times. Code blocks may textually contain other code blocks."
   ]
  },
  {
   "cell_type": "markdown",
   "id": "4a46fb35-2a8b-495d-a701-71c571dacfd4",
   "metadata": {},
   "source": [
    "8.What is single line comments?"
   ]
  },
  {
   "cell_type": "markdown",
   "id": "9212f342-4592-474f-90d7-ad9c0ec65e21",
   "metadata": {},
   "source": [
    "We can write a single-line comment by adding a single # character before any statement or line of code."
   ]
  },
  {
   "cell_type": "markdown",
   "id": "98129e80-04bb-42a4-96ed-6dbdd533ce45",
   "metadata": {},
   "source": [
    "9.Which type of function creation is supported by Python during the runtime?\n"
   ]
  },
  {
   "cell_type": "markdown",
   "id": "c08d5118-8088-4c1e-991e-e23a9c1986f9",
   "metadata": {},
   "source": [
    "Python supports the creation of anonymous functions (i.e. functions that are not bound to a name) at runtime, using a construct called lambda."
   ]
  },
  {
   "cell_type": "markdown",
   "id": "4f1f622a-ebfb-4ae7-b25f-4762b13a3f08",
   "metadata": {},
   "source": [
    "10.What does pip do?"
   ]
  },
  {
   "cell_type": "markdown",
   "id": "0567d6ad-3179-4786-a36d-678edde051be",
   "metadata": {},
   "source": [
    "ANS-The standard package manager for Python is pip . It allows you to install and manage packages that aren't part of the Python standard library. If you're looking for an introduction to pip , then you've come to the right place!"
   ]
  },
  {
   "cell_type": "markdown",
   "id": "74a1919b-a512-4e1f-8d8e-26a92b6ac780",
   "metadata": {},
   "source": [
    "11.What is built-in function?\n"
   ]
  },
  {
   "cell_type": "markdown",
   "id": "c31c302a-be4e-4b6a-8f08-616b6a0c53e2",
   "metadata": {},
   "source": [
    "Python Built-in Functions\n",
    "Python abs() returns absolute value of a number.\n",
    "Python all() returns true when all elements in iterable is true.\n",
    "Python any() Checks if any Element of an Iterable is True.\n",
    "Python ascii() ...\n",
    "Python bin() ...\n",
    "Python bool() ...\n",
    "Python bytearray() ...\n",
    "Python bytes()"
   ]
  },
  {
   "cell_type": "markdown",
   "id": "7c72d1c1-f8d0-40da-accc-b8f490545015",
   "metadata": {},
   "source": [
    "12.What is the maximum possible length of an identifier?\n"
   ]
  },
  {
   "cell_type": "markdown",
   "id": "7b961fec-5a7a-4f2b-8058-53c80fd5c5b8",
   "metadata": {},
   "source": [
    "ANS-An identifier can have a maximum length of 79 characters in Python. Python is one of the most popular programming languages. Guido van Rossum created it, and it was released in 1991."
   ]
  },
  {
   "cell_type": "markdown",
   "id": "728c04ce-3983-44c3-ba19-c4214bd26a73",
   "metadata": {},
   "source": [
    "13.WHAT IS THE benefits of python ?"
   ]
  },
  {
   "cell_type": "markdown",
   "id": "1e2d20ed-bcb0-47d1-9441-7460ae423ea5",
   "metadata": {},
   "source": [
    "ANS.Advantages of Python\n",
    "Simple to Use and Understand. For newcomers, Python is simple to understand and use. ...\n",
    "Free and Open-Source. Video Player is loading. ...\n",
    "Productivity has Increased. ...\n",
    "Interpreted Language. ...\n",
    "Extensive library. ...\n",
    "Dynamically Typed. ...\n",
    "Portability. ...\n",
    "Supportive community."
   ]
  },
  {
   "cell_type": "markdown",
   "id": "f87e6ed6-7986-4d41-8150-ff611062e22d",
   "metadata": {},
   "source": [
    "14.How is memory managed in Python \n"
   ]
  },
  {
   "cell_type": "markdown",
   "id": "d44fc1c5-f1c2-4cbe-8a12-c673aa37c8d6",
   "metadata": {},
   "source": [
    "ANS-Memory management in Python involves the management of a private heap. A private heap is a portion of memory that is exclusive to the Python process. All Python objects and data structures are stored in the private heap. The operating system cannot allocate this piece of memory to another process."
   ]
  },
  {
   "cell_type": "markdown",
   "id": "3fcb65d8-2a8a-454d-98be-763b2293b528",
   "metadata": {},
   "source": [
    "15.How to install setup in Python?"
   ]
  },
  {
   "cell_type": "markdown",
   "id": "2f3b6584-9389-42e6-8f3a-3b8dc2c3315f",
   "metadata": {},
   "source": [
    "To install a package that includes a setup.py file, open a command or terminal window and:\n",
    "cd into the root directory where setup.py is located.\n",
    "Enter: python setup.py install.\n",
    "After installation, Python may be launched by finding it in Start. Alternatively, it will be available from any Command Prompt or PowerShell session by typing python . Further, pip and IDLE may be used by typing pip or idle . IDLE can also be found in Start."
   ]
  },
  {
   "cell_type": "markdown",
   "id": "b3ddba44-5664-4be2-afb3-a97676914672",
   "metadata": {},
   "source": [
    "16.Is indentation required in programming?\n"
   ]
  },
  {
   "cell_type": "markdown",
   "id": "6f2a4ee7-2ebb-4a5a-8117-ac9a374df38b",
   "metadata": {},
   "source": [
    "ANS-Python's default indentation spaces are four spaces. The number of spaces, however, is entirely up to the user. However, a minimum of one space is required to indent a statement. Indentation is not permitted on the first line of Python code."
   ]
  },
  {
   "cell_type": "markdown",
   "id": "e0bbe3db-5b77-4733-815b-1b7282e633d6",
   "metadata": {},
   "source": []
  },
  {
   "cell_type": "markdown",
   "id": "80c8bbf6-b116-4fc5-9d09-db0a2dd70012",
   "metadata": {},
   "source": []
  },
  {
   "cell_type": "markdown",
   "id": "1e58d1ea-aefc-41d1-92d4-9f146bf540a6",
   "metadata": {},
   "source": []
  },
  {
   "cell_type": "markdown",
   "id": "a2e1a8ff-e7a3-4c0e-9fcc-0efbbae48c8a",
   "metadata": {},
   "source": []
  },
  {
   "cell_type": "markdown",
   "id": "0c022b36-7901-415c-8083-bbc334d584db",
   "metadata": {},
   "source": []
  }
 ],
 "metadata": {
  "kernelspec": {
   "display_name": "Python 3 (ipykernel)",
   "language": "python",
   "name": "python3"
  },
  "language_info": {
   "codemirror_mode": {
    "name": "ipython",
    "version": 3
   },
   "file_extension": ".py",
   "mimetype": "text/x-python",
   "name": "python",
   "nbconvert_exporter": "python",
   "pygments_lexer": "ipython3",
   "version": "3.10.8"
  }
 },
 "nbformat": 4,
 "nbformat_minor": 5
}

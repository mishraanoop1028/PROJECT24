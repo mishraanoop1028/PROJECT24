{
 "cells": [
  {
   "cell_type": "markdown",
   "id": "7429e357-87ba-4f59-8e68-4c2b6735e066",
   "metadata": {},
   "source": [
    "Q1. What is Elastic Net Regression and how does it differ from other regression techniques?\n"
   ]
  },
  {
   "cell_type": "markdown",
   "id": "917168ef-a5e2-4b1b-a949-8b0a06c0ef76",
   "metadata": {},
   "source": [
    "ANS-Elastic net linear regression uses the penalties from both the lasso and ridge techniques to regularize regression models. The technique combines both the lasso and ridge regression methods by learning from their shortcomings to improve the regularization of statistical models.\n",
    "Lasso will eliminate many features, and reduce overfitting in your linear model. Ridge will reduce the impact of features that are not important in predicting your y values. Elastic Net combines feature elimination from Lasso and feature coefficient reduction from the Ridge model to improve your model's predictions.\n"
   ]
  },
  {
   "cell_type": "markdown",
   "id": "003bf16d-28c6-4ad5-911b-944c74d3c176",
   "metadata": {},
   "source": [
    "\n",
    "Q2. How do you choose the optimal values of the regularization parameters for Elastic Net Regression?\n"
   ]
  },
  {
   "cell_type": "markdown",
   "id": "619c5db8-3e4b-4699-b5e9-7e94fbbe3b49",
   "metadata": {},
   "source": [
    "AANS-Choice of a regularization parameter\n",
    "Import the data and use scikit-learn to split into train-val-test (60-20-20)\n",
    "Estimate and validate the OLS regression with all inputs.\n",
    "Search for the best ridge model.\n",
    "References.\n",
    "The best cross-validation score is obtained for the 0.4 value of lambda. This is your optimal value of lambda. This is how we choose the estimated best model with optimal hyper-parameter values. Use this same process with different types of algorithms like Ridge, LASSO, Elastic-Net, Random Forests, and Boosted trees\n"
   ]
  },
  {
   "cell_type": "markdown",
   "id": "feb24777-8ec3-4d1f-8f81-fc09123b9a72",
   "metadata": {},
   "source": [
    "Q3. What are the advantages and disadvantages of Elastic Net Regression?\n"
   ]
  },
  {
   "cell_type": "markdown",
   "id": "bf773779-2dd9-4757-8e0f-d2b3711bd5e2",
   "metadata": {},
   "source": [
    "ANS-The advantage of the elastic net is that it keeps the feature selection quality from the lasso penalty as well as the effectiveness of the ridge penalty. And it deals with highly correlated variables more effectively.\n",
    "As mentioned in the Introduction, a disadvantage of the classical elastic net is that the sequential cross-validation procedure used to determine the penalty parameters results in overshrinkage of the coefficients.\n"
   ]
  },
  {
   "cell_type": "markdown",
   "id": "fbd02922-86fa-46d3-a861-f43c53bd333e",
   "metadata": {},
   "source": [
    "Q4. What are some common use cases for Elastic Net Regression?\n"
   ]
  },
  {
   "cell_type": "markdown",
   "id": "f4d22a31-d997-4e37-af90-a447bfa544d4",
   "metadata": {},
   "source": [
    "ANS-Linear Regression Use Cases\n",
    "Sales Forecasting.\n",
    "Risk Analysis.\n",
    "Housing Applications To Predict the prices and other factors.\n",
    "Finance Applications To Predict Stock prices, investment evaluation, etc.\n"
   ]
  },
  {
   "cell_type": "markdown",
   "id": "4740b28d-d5ce-405d-8ce1-f625551d34d7",
   "metadata": {},
   "source": [
    "Q5. How do you interpret the coefficients in Elastic Net Regression?\n"
   ]
  },
  {
   "cell_type": "markdown",
   "id": "0a175c2e-dee6-4528-a335-b436931b4ad1",
   "metadata": {},
   "source": [
    "ANS-The coefficient of determination, denoted as 𝑅², tells you which amount of variation in 𝑦 can be explained by the dependence on 𝐱, using the particular regression model. A larger 𝑅² indicates a better fit and means that the model can better explain the variation of the output with different inputs.\n"
   ]
  },
  {
   "cell_type": "markdown",
   "id": "a4f3370c-3125-4403-b713-4617cc52e1c1",
   "metadata": {},
   "source": [
    "\n",
    "Q6. How do you handle missing values when using Elastic Net Regression?\n"
   ]
  },
  {
   "cell_type": "markdown",
   "id": "fc5e240f-e25f-458d-81e5-7ddfd4b7eee3",
   "metadata": {},
   "source": [
    "ANS-Pairwise deletion is a method of handling missing values where only the observations with complete data are used in each pairwise correlation or regression analysis. This method assumes that the missing data is MCAR, and it is appropriate when the missing data is not too large.\n"
   ]
  },
  {
   "cell_type": "markdown",
   "id": "07a076cf-c799-4bc7-9084-c28ad6cb8188",
   "metadata": {},
   "source": [
    "Q7. How do you use Elastic Net Regression for feature selection?\n"
   ]
  },
  {
   "cell_type": "markdown",
   "id": "2ca044c1-74a9-48ca-b661-4ec504111b23",
   "metadata": {},
   "source": [
    "ANNS- Trying to minimize the cost function, Lasso regression will automatically select those features that are useful, discarding the useless or redundant features. In Lasso regression, discarding a feature will make its coefficient equal to 0.\n"
   ]
  },
  {
   "cell_type": "markdown",
   "id": "54b7db76-645a-419f-9982-7a51b7c8aadf",
   "metadata": {},
   "source": [
    "Q8. How do you pickle and unpickle a trained Elastic Net Regression model in Python?\n"
   ]
  },
  {
   "cell_type": "markdown",
   "id": "ae9eeeaa-75fe-4da9-b7a7-1c56ec6e4c3f",
   "metadata": {},
   "source": [
    "ANS-\n",
    "To save the ML model using Pickle all we need to do is pass the model object into the dump() function of Pickle. This will serialize the object and convert it into a “byte stream” that we can save as a file called model. pkl .\n"
   ]
  },
  {
   "cell_type": "markdown",
   "id": "b86b1de1-cb56-4bd9-ac83-2626cc34593c",
   "metadata": {},
   "source": [
    "Q9. What is the purpose of pickling a model in machine learning?\n"
   ]
  },
  {
   "cell_type": "markdown",
   "id": "6b7550e3-d29b-48c3-a1da-7654915d004e",
   "metadata": {},
   "source": [
    "ANS-You can use Pickle to save the final data and train it with multiple models, or you can save the model and test it on multiple data without training the model again\n"
   ]
  },
  {
   "cell_type": "markdown",
   "id": "9c842aef-3202-457f-94b5-9e74d997df10",
   "metadata": {},
   "source": []
  },
  {
   "cell_type": "markdown",
   "id": "890742cb-dd09-43cb-8572-e777bb316c55",
   "metadata": {},
   "source": []
  },
  {
   "cell_type": "markdown",
   "id": "482571c4-09fc-46e3-9fdf-746d19ba09ed",
   "metadata": {},
   "source": []
  },
  {
   "cell_type": "markdown",
   "id": "016c9ba5-659a-4f6b-8207-d1673ab2ae37",
   "metadata": {},
   "source": []
  },
  {
   "cell_type": "markdown",
   "id": "c7e3a326-2c97-4809-a832-764b94c9f02b",
   "metadata": {},
   "source": []
  },
  {
   "cell_type": "markdown",
   "id": "9dd8fd2a-c58d-48f0-88de-db1e9eff2cfa",
   "metadata": {},
   "source": []
  },
  {
   "cell_type": "markdown",
   "id": "0360ef2f-718f-493f-8f78-68e700b849b2",
   "metadata": {},
   "source": []
  }
 ],
 "metadata": {
  "kernelspec": {
   "display_name": "Python 3 (ipykernel)",
   "language": "python",
   "name": "python3"
  },
  "language_info": {
   "codemirror_mode": {
    "name": "ipython",
    "version": 3
   },
   "file_extension": ".py",
   "mimetype": "text/x-python",
   "name": "python",
   "nbconvert_exporter": "python",
   "pygments_lexer": "ipython3",
   "version": "3.10.8"
  }
 },
 "nbformat": 4,
 "nbformat_minor": 5
}

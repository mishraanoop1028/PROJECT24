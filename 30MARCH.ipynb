{
 "cells": [
  {
   "cell_type": "code",
   "execution_count": null,
   "id": "8b5ac03e-4b29-4e4e-8762-fc04e5ea620f",
   "metadata": {},
   "outputs": [],
   "source": [
    "Q1. What is Elastic Net Regression and how does it differ from other regression techniques?\n",
    "ANS-Elastic net linear regression uses the penalties from both the lasso and ridge techniques to regularize regression models. The technique combines both the lasso and ridge regression methods by learning from their shortcomings to improve the regularization of statistical models.\n",
    "Lasso will eliminate many features, and reduce overfitting in your linear model. Ridge will reduce the impact of features that are not important in predicting your y values. Elastic Net combines feature elimination from Lasso and feature coefficient reduction from the Ridge model to improve your model's predictions.\n",
    "\n",
    "Q2. How do you choose the optimal values of the regularization parameters for Elastic Net Regression?\n",
    "AANS-Choice of a regularization parameter\n",
    "Import the data and use scikit-learn to split into train-val-test (60-20-20)\n",
    "Estimate and validate the OLS regression with all inputs.\n",
    "Search for the best ridge model.\n",
    "References.\n",
    "The best cross-validation score is obtained for the 0.4 value of lambda. This is your optimal value of lambda. This is how we choose the estimated best model with optimal hyper-parameter values. Use this same process with different types of algorithms like Ridge, LASSO, Elastic-Net, Random Forests, and Boosted trees\n",
    "Q3. What are the advantages and disadvantages of Elastic Net Regression?\n",
    "ANS-The advantage of the elastic net is that it keeps the feature selection quality from the lasso penalty as well as the effectiveness of the ridge penalty. And it deals with highly correlated variables more effectively.\n",
    "As mentioned in the Introduction, a disadvantage of the classical elastic net is that the sequential cross-validation procedure used to determine the penalty parameters results in overshrinkage of the coefficients.\n",
    "Q4. What are some common use cases for Elastic Net Regression?\n",
    "ANS-Linear Regression Use Cases\n",
    "Sales Forecasting.\n",
    "Risk Analysis.\n",
    "Housing Applications To Predict the prices and other factors.\n",
    "Finance Applications To Predict Stock prices, investment evaluation, etc.\n",
    "Q5. How do you interpret the coefficients in Elastic Net Regression?\n",
    "The coefficient of determination, denoted as 𝑅², tells you which amount of variation in 𝑦 can be explained by the dependence on 𝐱, using the particular regression model. A larger 𝑅² indicates a better fit and means that the model can better explain the variation of the output with different inputs.\n",
    "\n",
    "Q6. How do you handle missing values when using Elastic Net Regression?\n",
    "Pairwise deletion is a method of handling missing values where only the observations with complete data are used in each pairwise correlation or regression analysis. This method assumes that the missing data is MCAR, and it is appropriate when the missing data is not too large.\n",
    "\n",
    "Q7. How do you use Elastic Net Regression for feature selection?\n",
    "ANNS- Trying to minimize the cost function, Lasso regression will automatically select those features that are useful, discarding the useless or redundant features. In Lasso regression, discarding a feature will make its coefficient equal to 0.\n",
    "Q8. How do you pickle and unpickle a trained Elastic Net Regression model in Python?\n",
    "ANS-\n",
    "To save the ML model using Pickle all we need to do is pass the model object into the dump() function of Pickle. This will serialize the object and convert it into a “byte stream” that we can save as a file called model. pkl .\n",
    "Q9. What is the purpose of pickling a model in machine learning?\n",
    "ANS-You can use Pickle to save the final data and train it with multiple models, or you can save the model and test it on multiple data without training the model again\n"
   ]
  }
 ],
 "metadata": {
  "kernelspec": {
   "display_name": "Python 3 (ipykernel)",
   "language": "python",
   "name": "python3"
  },
  "language_info": {
   "codemirror_mode": {
    "name": "ipython",
    "version": 3
   },
   "file_extension": ".py",
   "mimetype": "text/x-python",
   "name": "python",
   "nbconvert_exporter": "python",
   "pygments_lexer": "ipython3",
   "version": "3.10.8"
  }
 },
 "nbformat": 4,
 "nbformat_minor": 5
}

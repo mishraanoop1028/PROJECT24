{
 "cells": [
  {
   "cell_type": "markdown",
   "id": "de948bdc-3b32-433d-86c7-e77535f3e419",
   "metadata": {},
   "source": [
    "Q1. Which function is used to open a file? What are the different modes of opening a file? Explain each mode\n",
    "of file opening."
   ]
  },
  {
   "cell_type": "markdown",
   "id": "45464550-f087-48e2-9694-5c034b8fa395",
   "metadata": {},
   "source": [
    "ANS-"
   ]
  },
  {
   "cell_type": "markdown",
   "id": "2e1dc8b9-72c5-4185-ba28-7680eb5aac99",
   "metadata": {},
   "source": [
    "In Python, the open() function is used to open a file. The open() function takes two arguments: the name of the file to open and the mode in which to open it.\n",
    "\n",
    "There are several modes in which a file can be opened:\n",
    "\n",
    "r - read mode: This mode is used to read data from an existing file. The file pointer is positioned at the beginning of the file.\n",
    "\n",
    "w - write mode: This mode is used to write data to a file. If the file already exists, its contents will be truncated. If the file does not exist, it will be created.\n",
    "\n",
    "a - append mode: This mode is used to append data to the end of a file. If the file does not exist, it will be created.\n",
    "\n",
    "x - exclusive creation mode: This mode is used to create a new file. If the file already exists, a FileExistsError will be raised.\n",
    "\n",
    "b - binary mode: This mode is used to open a file in binary mode, which is used for non-text files.\n",
    "\n",
    "t - text mode: This mode is used to open a file in text mode, which is used for text files.\n",
    "\n",
    "+ - read and write mode: This mode is used to open a file for both reading and writing.\n",
    "\n"
   ]
  },
  {
   "cell_type": "code",
   "execution_count": null,
   "id": "a7d08a25-f85c-4ddd-a736-6d13b292e420",
   "metadata": {},
   "outputs": [],
   "source": [
    "file = open('filename.txt', 'r')\n"
   ]
  },
  {
   "cell_type": "markdown",
   "id": "594071b2-d2b7-4ad6-9a66-aa211fb50548",
   "metadata": {},
   "source": [
    "Q2. Why close() function is used? Why is it important to close a file?"
   ]
  },
  {
   "cell_type": "markdown",
   "id": "2bdc47ad-987d-4c72-a9d6-2a64dba67b30",
   "metadata": {},
   "source": [
    "ANS-"
   ]
  },
  {
   "cell_type": "markdown",
   "id": "c3155d6c-c3cc-4ebe-98c3-149eeee5925b",
   "metadata": {},
   "source": [
    "In Python, the `close()` function is used to close an opened file. It is important to close a file after using it because when a file is opened, it is stored in the computer's memory, and until it is closed, it takes up a portion of the memory. If a large number of files are left open at once, it can cause memory issues and slow down the program or even the entire system. \n",
    "\n",
    "Additionally, if a file is not closed after being used, any changes made to the file may not be saved. This is because any changes made to the file are first stored in the memory, and only when the file is closed, the changes are written to the disk. If the file is not closed, the changes will not be written to the disk and the file will remain unchanged. Therefore, it is important to close a file after using it to ensure that any changes made to the file are saved properly and that system resources are released."
   ]
  },
  {
   "cell_type": "markdown",
   "id": "731f8a3f-fee0-452b-a6c1-bc5cc178f843",
   "metadata": {},
   "source": [
    "Q3. Write a python program to create a text file. Write ‘I want to become a Data Scientist’ in that file. Then\n",
    "close the file. Open this file and read the content of the file."
   ]
  },
  {
   "cell_type": "code",
   "execution_count": null,
   "id": "57b38235-8b55-414d-80f6-1c70c2f6111f",
   "metadata": {},
   "outputs": [],
   "source": [
    "# Open file in write mode\n",
    "file = open(\"data_scientist.txt\", \"w\")\n",
    "\n",
    "# Write string to file\n",
    "file.write(\"I want to become a Data Scientist\")\n",
    "\n",
    "# Close the file\n",
    "file.close()\n",
    "\n",
    "# Open the file in read mode\n",
    "file = open(\"data_scientist.txt\", \"r\")\n",
    "\n",
    "# Read the content of the file\n",
    "content = file.read()\n",
    "\n",
    "# Print the content\n",
    "print(content)\n",
    "\n",
    "# Close the file\n",
    "file.close()\n"
   ]
  },
  {
   "cell_type": "markdown",
   "id": "067b2596-98d4-43da-8ef3-eace2a737555",
   "metadata": {},
   "source": [
    "Q4. Explain the following with python code: read(), readline() and readlines()."
   ]
  },
  {
   "cell_type": "markdown",
   "id": "6a53565a-9cb7-49d7-aca7-59359cdf22f2",
   "metadata": {},
   "source": [
    "ANS-"
   ]
  },
  {
   "cell_type": "code",
   "execution_count": null,
   "id": "f019edf4-b1cc-4a9b-b605-a59306db1443",
   "metadata": {},
   "outputs": [],
   "source": [
    "# Open a file in read mode\n",
    "file = open(\"example.txt\", \"r\")\n",
    "\n",
    "# Read the entire content of the file\n",
    "content = file.read()\n",
    "\n",
    "# Close the file\n",
    "file.close()\n",
    "\n",
    "# Print the content of the file\n",
    "print(content)\n"
   ]
  },
  {
   "cell_type": "code",
   "execution_count": null,
   "id": "65ad75de-cfb8-4e20-a295-22e39eaac085",
   "metadata": {},
   "outputs": [],
   "source": [
    "# Open a file in read mode\n",
    "file = open(\"example.txt\", \"r\")\n",
    "\n",
    "# Read the first line of the file\n",
    "line = file.readline()\n",
    "\n",
    "# Close the file\n",
    "file.close()\n",
    "\n",
    "# Print the first line of the file\n",
    "print(line)\n"
   ]
  },
  {
   "cell_type": "code",
   "execution_count": null,
   "id": "4eb0d1c1-30fa-45dd-af92-2f928ca4f90d",
   "metadata": {},
   "outputs": [],
   "source": [
    "# Open a file in read mode\n",
    "file = open(\"example.txt\", \"r\")\n",
    "\n",
    "# Read all the lines of the file\n",
    "lines = file.readlines()\n",
    "\n",
    "# Close the file\n",
    "file.close()\n",
    "\n",
    "# Print all the lines of the file\n",
    "for line in lines:\n",
    "    print(line)\n"
   ]
  },
  {
   "cell_type": "markdown",
   "id": "1a60ea1b-5ef7-454c-a6e2-a9a334d423b5",
   "metadata": {},
   "source": [
    "Q5. Explain why with statement is used with open(). What is the advantage of using with statement and\n",
    "open() together?"
   ]
  },
  {
   "cell_type": "markdown",
   "id": "a257ebd7-9947-4267-935e-26a60be65b0e",
   "metadata": {},
   "source": [
    "ANS-"
   ]
  },
  {
   "cell_type": "markdown",
   "id": "e6167284-e554-41ff-af16-1a25a00b70f7",
   "metadata": {},
   "source": [
    "The `with` statement in Python is used to ensure that a code block is executed in a controlled environment. When we use the `with` statement with `open()`, we can guarantee that the file is closed when the block inside the `with` statement is exited, even if there is an exception raised. This is because the `with` statement uses a context manager to automatically close the file once the block is exited.\n",
    "\n",
    "The advantage of using `with` statement and `open()` together is that we don't have to manually close the file as the `with` statement will take care of that for us. This prevents us from forgetting to close the file, which can lead to resource leaks or data corruption. Additionally, using the `with` statement with `open()` makes our code cleaner and more concise. \n",
    "\n",
    "Here is an example of how we can use the `with` statement and `open()` together to read the contents of a file:\n",
    "\n",
    "```\n",
    "with open('example.txt', 'r') as file:\n",
    "    contents = file.read()\n",
    "    print(contents)\n",
    "```\n",
    "\n",
    "In this example, the `with` statement is used to open the file 'example.txt' in read mode, and the `as` keyword is used to assign the file object to the variable `file`. Inside the `with` block, the `read()` function is used to read the contents of the file, which are then printed to the console. Once the block is exited, the file is automatically closed."
   ]
  },
  {
   "cell_type": "markdown",
   "id": "4ec40315-9716-4e6a-b1ec-21235cfbc7a6",
   "metadata": {},
   "source": [
    "Q6. Explain the write() and writelines() functions. Give a suitable example."
   ]
  },
  {
   "cell_type": "markdown",
   "id": "2fc9b1b2-6690-4e42-8627-abb1b1fcb1b9",
   "metadata": {},
   "source": [
    "ANS-"
   ]
  },
  {
   "cell_type": "markdown",
   "id": "28e88afe-2204-44aa-b7ad-8c90068417b1",
   "metadata": {},
   "source": [
    "The write() and writelines() functions are used to write data to a file in Python.\n",
    "\n",
    "The write() function is used to write a single string or character to a file. It returns the number of characters written to the file. It takes a string as an argument."
   ]
  },
  {
   "cell_type": "code",
   "execution_count": null,
   "id": "7a05ae2f-45f1-4319-b7b3-e30dff6fa851",
   "metadata": {},
   "outputs": [],
   "source": [
    "# Writing a single line to a file using write() function\n",
    "with open(\"my_file.txt\", \"w\") as f:\n",
    "    f.write(\"This is my first line\\n\")\n"
   ]
  },
  {
   "cell_type": "markdown",
   "id": "a30a00a1-8812-4269-bff7-f1d821839bc8",
   "metadata": {},
   "source": [
    "In the above example, the write() function is used to write a single line to the file \"my_file.txt\". The \"\\n\" character is used to insert a new line after the text.\n",
    "\n",
    "The writelines() function is used to write a list of strings to a file. It takes a list of strings as an argument.\n",
    "\n",
    "Example:"
   ]
  },
  {
   "cell_type": "code",
   "execution_count": null,
   "id": "9e097946-744f-45a9-a894-9ba7aeb45481",
   "metadata": {},
   "outputs": [],
   "source": [
    "# Writing multiple lines to a file using writelines() function\n",
    "with open(\"my_file.txt\", \"a\") as f:\n",
    "    lines = [\"This is my second line\\n\", \"This is my third line\\n\"]\n",
    "    f.writelines(lines)\n"
   ]
  },
  {
   "cell_type": "code",
   "execution_count": null,
   "id": "45ba0585-e5d5-4a83-b56d-8089bad446f7",
   "metadata": {},
   "outputs": [],
   "source": []
  },
  {
   "cell_type": "code",
   "execution_count": null,
   "id": "d97d6c6e-8abc-4495-b9f3-e98a663bb906",
   "metadata": {},
   "outputs": [],
   "source": []
  }
 ],
 "metadata": {
  "kernelspec": {
   "display_name": "Python 3 (ipykernel)",
   "language": "python",
   "name": "python3"
  },
  "language_info": {
   "codemirror_mode": {
    "name": "ipython",
    "version": 3
   },
   "file_extension": ".py",
   "mimetype": "text/x-python",
   "name": "python",
   "nbconvert_exporter": "python",
   "pygments_lexer": "ipython3",
   "version": "3.10.8"
  }
 },
 "nbformat": 4,
 "nbformat_minor": 5
}

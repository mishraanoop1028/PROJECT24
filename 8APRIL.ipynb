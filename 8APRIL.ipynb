{
 "cells": [
  {
   "cell_type": "markdown",
   "id": "85291992-d039-4ccc-b993-7ca934243c36",
   "metadata": {},
   "source": [
    "Q1. In order to predict house price based on several characteristics, such as location, square footage,\n",
    "number of bedrooms, etc., you are developing an SVM regression model. Which regression metric in this\n",
    "situation would be the best to employ?"
   ]
  },
  {
   "cell_type": "markdown",
   "id": "b35550b1-9629-43d4-aa52-b7048d2f6259",
   "metadata": {},
   "source": [
    " In this scenario, the best regression metric to employ would be Mean Squared Error (MSE)."
   ]
  },
  {
   "cell_type": "markdown",
   "id": "7df50ed2-3333-4953-a715-7783f1c5c446",
   "metadata": {},
   "source": [
    "Q2. You have builtan SVM regression model and are trying to decide between using MSE or R-squared as\n",
    "your evaluation metric. Which metric would be more appropriate if your goal is to predict the actual price\n",
    "of a house as accurately as possible?"
   ]
  },
  {
   "cell_type": "markdown",
   "id": "16dba062-b0f7-4ae5-978c-2253ba1bd9a3",
   "metadata": {},
   "source": [
    " If the goal is to predict the actual price of a house as accurately as possible, then Mean Squared Error (MSE) would be the more appropriate evaluation metric."
   ]
  },
  {
   "cell_type": "markdown",
   "id": "0ff13603-515e-4fee-ab10-8119ca44e427",
   "metadata": {},
   "source": [
    " \n",
    "\n",
    "Q3. You have a dataset with a significant number of outliers and are trying to select an appropriate\n",
    "regression metric to use with your SVM model. Which metric would be the most appropriate in this\n",
    "scenario?"
   ]
  },
  {
   "cell_type": "markdown",
   "id": "afe04d70-27e6-4263-a487-c7ea735fe4a8",
   "metadata": {},
   "source": [
    " If there are a significant number of outliers in the dataset, then Mean Absolute Error (MAE) would be the most appropriate regression metric to use with the SVM model."
   ]
  },
  {
   "cell_type": "markdown",
   "id": "642b1678-9745-498d-98c5-3be9070aacd9",
   "metadata": {},
   "source": [
    "Q4. You have built an SVM regression model using a polynomial kernel and are trying to select the best\n",
    "metric to evaluate its performance. You have calculated both MSE and RMSE and found that both values\n",
    "are very close. Which metric should you choose to use in this case?\n",
    "\n"
   ]
  },
  {
   "cell_type": "markdown",
   "id": "649c0c1d-dbdd-4224-a5ce-ebc477325b2a",
   "metadata": {},
   "source": [
    " In this case, it is best to choose Mean Squared Error (MSE) as the evaluation metric. While both MSE and RMSE provide similar information, MSE is a simpler and more commonly used metric"
   ]
  },
  {
   "cell_type": "markdown",
   "id": "dc54b965-4492-44da-a63f-c675535e7ef9",
   "metadata": {},
   "source": [
    "Q5. You are comparing the performance of different SVM regression models using different kernels (linear,\n",
    "polynomial, and RBF) and are trying to select the best evaluation metric. Which metric would be most\n",
    "appropriate if your goal is to measure how well the model explains the variance in the target variable?\n",
    "https://drive.google.com/file/d/1Z9oLpmt6IDRNw7IeNcHYTGeJRYypRSC0/view?\n",
    "usp=share_link"
   ]
  },
  {
   "cell_type": "markdown",
   "id": "b367cc33-8646-4a3f-896f-31127d79a321",
   "metadata": {},
   "source": [
    "The most appropriate evaluation metric to use in this scenario, where the goal is to measure how well the model explains the variance in the target variable, would be R-squared (R2) or Coefficient of Determination."
   ]
  },
  {
   "cell_type": "markdown",
   "id": "c56656bd-694f-4304-a66d-68bfb350c10d",
   "metadata": {},
   "source": []
  },
  {
   "cell_type": "markdown",
   "id": "2930aa70-5325-4668-a8f0-0f6b78447382",
   "metadata": {},
   "source": []
  },
  {
   "cell_type": "markdown",
   "id": "85f5b179-ffd3-4fb7-944e-553836a1d3ec",
   "metadata": {},
   "source": []
  },
  {
   "cell_type": "markdown",
   "id": "244d53f6-b0f6-4b28-b53c-92da0b1da0aa",
   "metadata": {},
   "source": []
  },
  {
   "cell_type": "markdown",
   "id": "797d6a79-641c-415d-b4be-8919ae9b99c0",
   "metadata": {},
   "source": []
  }
 ],
 "metadata": {
  "kernelspec": {
   "display_name": "Python 3 (ipykernel)",
   "language": "python",
   "name": "python3"
  },
  "language_info": {
   "codemirror_mode": {
    "name": "ipython",
    "version": 3
   },
   "file_extension": ".py",
   "mimetype": "text/x-python",
   "name": "python",
   "nbconvert_exporter": "python",
   "pygments_lexer": "ipython3",
   "version": "3.10.8"
  }
 },
 "nbformat": 4,
 "nbformat_minor": 5
}
